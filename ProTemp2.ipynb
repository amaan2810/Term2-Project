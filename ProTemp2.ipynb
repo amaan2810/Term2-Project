{
 "cells": [
  {
   "cell_type": "code",
   "execution_count": 1,
   "metadata": {
    "collapsed": true
   },
   "outputs": [
    {
     "name": "stdout",
     "output_type": "stream",
     "text": [
      "Collecting tweepy\n",
      "  Downloading https://files.pythonhosted.org/packages/36/1b/2bd38043d22ade352fc3d3902cf30ce0e2f4bf285be3b304a2782a767aec/tweepy-3.8.0-py2.py3-none-any.whl\n",
      "Requirement already satisfied: requests>=2.11.1 in c:\\users\\dell\\anaconda3\\lib\\site-packages (from tweepy) (2.22.0)\n",
      "Requirement already satisfied: six>=1.10.0 in c:\\users\\dell\\anaconda3\\lib\\site-packages (from tweepy) (1.12.0)\n",
      "Requirement already satisfied: PySocks>=1.5.7 in c:\\users\\dell\\anaconda3\\lib\\site-packages (from tweepy) (1.7.1)\n",
      "Requirement already satisfied: requests-oauthlib>=0.7.0 in c:\\users\\dell\\anaconda3\\lib\\site-packages (from tweepy) (1.3.0)\n",
      "Requirement already satisfied: chardet<3.1.0,>=3.0.2 in c:\\users\\dell\\anaconda3\\lib\\site-packages (from requests>=2.11.1->tweepy) (3.0.4)\n",
      "Requirement already satisfied: certifi>=2017.4.17 in c:\\users\\dell\\anaconda3\\lib\\site-packages (from requests>=2.11.1->tweepy) (2019.9.11)\n",
      "Requirement already satisfied: idna<2.9,>=2.5 in c:\\users\\dell\\anaconda3\\lib\\site-packages (from requests>=2.11.1->tweepy) (2.8)\n",
      "Requirement already satisfied: urllib3!=1.25.0,!=1.25.1,<1.26,>=1.21.1 in c:\\users\\dell\\anaconda3\\lib\\site-packages (from requests>=2.11.1->tweepy) (1.24.2)\n",
      "Requirement already satisfied: oauthlib>=3.0.0 in c:\\users\\dell\\anaconda3\\lib\\site-packages (from requests-oauthlib>=0.7.0->tweepy) (3.1.0)\n",
      "Installing collected packages: tweepy\n",
      "Successfully installed tweepy-3.8.0\n",
      "Note: you may need to restart the kernel to use updated packages.\n"
     ]
    }
   ],
   "source": [
    "pip install tweepy"
   ]
  },
  {
   "cell_type": "code",
   "execution_count": 2,
   "metadata": {},
   "outputs": [],
   "source": [
    "import tweepy"
   ]
  },
  {
   "cell_type": "code",
   "execution_count": 3,
   "metadata": {},
   "outputs": [],
   "source": [
    "# Fill the X's with the credentials obtained \n",
    "\n",
    "consumer_key = \"hz76GGcveHsN26QvAcTHhDVnn\" \n",
    "consumer_secret = \"hrBmAzughGzIV7oMvYnMb3JqXBEa4nXnrhzNSDQ7pTPnjaxi4n\"\n",
    "access_key = \"2547850260-3sVyHvzTYVTME2OEKhr9XEaZJ60eVvmSTMDwFDr\"\n",
    "access_secret = \"CRJmrH50FcbMAvDrguTTmgrQwVp81avbLJKCXzulV1d2B\""
   ]
  },
  {
   "cell_type": "code",
   "execution_count": 23,
   "metadata": {
    "collapsed": true
   },
   "outputs": [
    {
     "name": "stdout",
     "output_type": "stream",
     "text": [
      "['A series of extraordinary stories based on our ordinary, but beautiful lives. Zindagi inShort, releasing on 19th Fe… https://t.co/PtXoZZIEWz', 'Step into an active life! Shop the latest collection from Yonex, First on Flipkart Fashion, India Ka Fashion Capital.', 'Dress like a star in the latest ethnic styles from Rangriti! Shop it today on Flipkart Fashion, India Ka Fashion Capital.', '🤘🏽', 'No prizes for guessing what we’re watching. https://t.co/VneGnAPJdg', 'Leap forth in trendy footwear! Shop the latest collection from Campus, First on Flipkart Fashion, India Ka Fashion Capital.', 'Get that Disha look with the latest styles from her wardrobe. Head to Flipkart Fashion, India Ka Fashion Capital an… https://t.co/S4tXm6lsQo', 'Presenting the Samsung S10 Lite with 48MP Triple Camera with Super Steady OIS &amp; Snapdragon 855 processor at Rs. 39,… https://t.co/uJMnAIR4M2', \"RT @IndiaPOCO: #120HzDisplay is amazing AF, we know that you need more. Here's the hint for all the #POCO fans who asked us, what about bat…\", 'RT @WorkAtFlipkart: #Flipsters got to have a heart to heart conversation with Sudha Murty! She shared anecdotes from her philanthropic jour…', 'Get your sporty swag on in the latest footwear from Puma! Head to Flipkart Fashion, India Ka Fashion Capital now!', 'The Samsung Frame TV is designed to be the center of attention just like you. What are you waiting for?', 'Happy Republic Day. #NayeIndiaKeSaath https://t.co/Y2O8idcmdZ', 'RT @FlipkartStories: Online scams and frauds are on the rise. It is important that you protect your online credentials and ensure that you…', 'Sport the coolest kicks! Head to Flipkart Fashion and get the latest collection from ASICS, before anywhere else. #FirstOnFlipkart', 'Dial it up a notch with the latest watches. Head to Flipkart Fashion and get 10-30% off on the hottest styles from Casio.', 'Level up with the MSI Alpha 15 gaming laptop and experience the 7nm technology powered performance.', 'Get your hands on the New Fetish in town- Perfumes from Fastrack. Get it first on Flipkart.\\n#FlipkartBeauty… https://t.co/3l2lNtanvJ', 'You are my wishlist. #SeduceSomeoneInFourWords', 'You saw it, you wanted it and now you can make it yours! The best selling Samsung QLED frame TV will be on sale soo… https://t.co/trJy2azlQa', 'This harvest festival, may your life brim with happiness and bring in goodness and prosperity. https://t.co/0FLYC65tg3', 'RT @FlipkartStories: What makes this state-of-the-art @Flipkart facility in Hyderabad India’s #HappiestWarehouse? Take a peek into the live…', 'RT @rajneeeshkumar: Delighted to meet Hon’ble MP @Tejasvi_Surya;updated him about @Flipkart’s deep commitment to create value for communiti…', \"If your fitness is a doubt, don't forget to work out. #HappyNewYear2020 #Resolutions https://t.co/zIY1p8hKla\", 'Presenting the all-new Honor 9X packed with a Pop-up selfie camera to make you stand out from the crowd. Launching… https://t.co/B4a4HNveKx', 'Presenting the new Samsung S10 Lite with a 48MP Triple rear camera with Super Steady OIS technology. Now access a P… https://t.co/80wio9USRu', \"Get up to speed, with all that's left to read. #HappyNewYear2020 #Resolutions https://t.co/sAiuirKIAS\", 'RT @rajneeeshkumar: Key to e-commerce growth will be immense focus on local language interface (voice/text/assisted buying bots), right fin…', \"Whether or not you ate,  don't forget to hydrate. #HappyNewYear2020 #Resolutions https://t.co/zMvf1tGrLs\", \"As we leap into 2020, let's face this year with the same excitement we feel when we see a Flipkart delivery at the… https://t.co/A5gqLSfId9\", 'Get ready to say hello to the realme Buds Air which features instant auto-connection, intelligent touch controls an… https://t.co/hPYBeBjbnj', 'Presenting the Qualcomm Snapdragon Days from 27th – 31st Dec on Flipkart. Get the best deals on top smartphones.\\nBu… https://t.co/t206XXNu9z', 'Want to master the look of your master bedroom? A pure wood bed will be a perfect addition to your ensemble!', '‘Tis the season to be jolly and merry. Dash off your wishlists this Christmas and bring home joy. https://t.co/PR7LE5trU8', \"This #NationalMathematicsDay, let's celebrate the subject we can't live without. https://t.co/HGW0x7Q18F\", 'Calling all Delhi Comic Con visitors! Visit the Simon &amp; Schuster stall and pick up some of these cool postcards fro… https://t.co/tfoGSDJRzg', 'Ratings make or break a deal. Your reviews can help shoppers make informed decisions. Go, star your purchases and r… https://t.co/oHGYwX1rfl', 'This new year start something new! Get your family the newly launched Onida  8Kg washing machine to make your cloth… https://t.co/2MWwcYuxWG', 'The mid-premium flagship from realme, realme X2 – is packed with Snapdragon 730G processor, 30W VOOC Flash Charge &amp;… https://t.co/z839Hh01Hc', 'RT @HiHonorIndia: #HONORBand5 does it again! It is now the winner of the category, the best Affordable Wearable of 2019 at the People’s Cho…', \"Adventure is out there! With the all-new GoPro Hero8's HyperSmooth 2.0 stabilization and built-in mounting, go beyo… https://t.co/skKBOSlX7I\", 'RT @FlipkartStories: Ex-army contractor Manoj Goswami was the first @Flipkart seller from Prayagraj. Timely help from @FlipkartSellers lent…', 'End your year with a bang! The most awaited earphones of the year are here. The realme Buds Air provides a pure lis… https://t.co/SjhGh7GQo7', 'From tracking your fitness activities to managing calls, the Mi Smart Band 3i will be your partner for a healthy li… https://t.co/Z9kz2RrYUZ', 'RT @XiaomiIndia: Mi fans, the all-new #MiSmartBand3i will be available on @Flipkart from 16th December!\\n\\nClick here to get notified: https:…', 'RT @invest_punjab: Good News from #InvestPunjab Summit for under-resourced sellers,artisans &amp; weavers from #Punjab -They will be on-boarded…', 'Onion prices making India cry.\\nRajini Sir making onions cry.\\n\\nHappy birthday to the one who can make anything happen!', 'RT @_Kalyan_K: Our joint investment in @ninjacart with Walmart underscores our commitment to building agritech &amp; agri supply chain infrastr…', 'RT @FlipkartStories: At #GlobalTechSummit in Bengaluru, Jeyandran Venugopal, Chief Product &amp; Technology Officer - @Flipkart outlines the ex…', 'RT @ASUS_ROG_IN: The Big Shopping Days Sale ends today! This is the last chance to lay your hands on the ultimate weapon, the #ROGPhone2 wi…', 'In the spirit of the season of giving, it brings us great joy to bring to you the first ever Nokia Smart TV.  Watch… https://t.co/RMYipVWb5x', \"When we get something new, we can't wait to try it out! So why should you wait days for your new TV to get installe… https://t.co/yyvjKrZCNl\", 'RT @XiaomiIndia: Mi fans, we have news! Now get the #MiSmartWaterPurifier (RO+UV) with a 10% instant discount using @HDFC_Bank cards &amp; EMI…', 'RT @FlipkartStories: @Flipkart @FlipkartSellers On #WorldDisabilityDay we salute the spirit of @Flipkart marketplace sellers like Komal Pra…', 'RT @FlipkartStories: This @Flipkart customer in Kolkata is all praise for our #plasticpackaging collection drive. Our sincere thanks to cus…', \"RT @FlipkartStories: #News: @Flipkart's Smart Assistive Interface #Saathi aims to handhold first-time #ecommerce users using #AudioVisual n…\", \"Looking for the latest celeb trends? Your wait is over! Check out Alia's tip for celeb styles! Don't Stress, Karo I… https://t.co/qkOwjEMM0D\", \"Mini and mighty, to double your delight. Google Nest Mini has 2X stronger bass than the original Mini. It's also wa… https://t.co/38S8P0TOKG\", 'RT @FlipkartStories: @Flipkart @womenpm @WorkAtFlipkart @smritikrishna A stellar line-up of speakers at #Include - #BuildingForBharat! Host…', 'RT @MsKajalAggarwal: Happy to be the new face of Divastri ! Check out the latest celeb inspired sarees, suits, lehengas and #ShineLikeAStar…', 'Let your feet breathe while you enjoy running out of breath with Nike Air Zoom Pegasus 36. This workhorse has a sup… https://t.co/DJjiQYXIkQ', 'RT @Flipkart: When it comes to picking a television, which of these three options would you like to spend extra for? #WorldTelevisionDay #F…', '#gonnatellmykids this is how wishes come true. https://t.co/uSSXAPWiLJ', 'Vacation, party or festivities, this season look your best on every occasion.\\n\\nGet up to 70% OFF on your favourite… https://t.co/DwIQlgbOSR', '@gagandotin Haha! All about compromise.', 'When it comes to picking a television, which of these three options would you like to spend extra for? #WorldTelevisionDay #FlipkartPoll', \"@nikunjbajoria The good old days. Can't beat it!\", \"@hiteshrajbhagat @rajupp @r3dash @laurelsudeep Heh. We've all been there, pushing all those buttons at once!\", '@67ayush67 Ouch, but necessary.', \"@alexandermats @r3dash @laurelsudeep Now that's a proper hack. haha.\", '@mumbaikichhori_ All about Peppa Pig these days.', '@Ron5683 💪🏾', \"@mumbaikichhori_ They don't make 'em like that anymore.\", '@binaymallick A taste of history. Very interesting!', '@vohimukesh 🥰', '@nayanp21 Ha. One whack and fingers crossed.', '@laurelsudeep 😂', '@Dhyani1811 Classic.', 'What is your earliest memory of a TV? #WorldTelevisionDay', 'RT @FlipkartStories: Want to watch over 5000 of your favorite TV shows and films in #English, #Hindi and other regional languages for free?…', 'This #WorldTelevisionDay, we celebrate this great medium that touches millions of lives every day around the world.… https://t.co/KyKDoKXqRC', \"@iamindrad When it comes to pampering yourself with a bit of retail therapy, we recommend you don't limit yourself… https://t.co/vR9ZKteQfT\", 'RT @FlipkartStories: Read riveting stories about how @Flipkart has touched the lives of millions of Indian online shoppers in remote locati…', \"Worried about twinning with someone else? Don't Stress, Karo Impress with the largest collection of trends at Flipk… https://t.co/jxPNNIlb1g\", 'Coocaa - one of the most popular television brands in South East Asia is now available on Flipkart. It is time to #PlayInYourStyle.', 'RT @FlipkartStories: Thanks to this step-by-step guide, it’s easier than ever to secure your @Flipkart account and protect yourself from fr…', '👇🏿👇🏿👇🏿👇🏿👇🏿👇🏿👇🏿👇🏿👇🏿👇🏿👇🏿\\n👉🏿👇🏾👇🏾👇🏾👇🏾👇🏾👇🏾👇🏾👇🏾👇🏾👈🏿\\n👉🏿👉🏾👇🏽👇🏽👇🏽👇🏽👇🏽👇🏽👇🏽👈🏾👈🏿\\n👉🏿👉🏾👉🏽👇🏼👇🏼👇🏼👇🏼👇🏼👈🏽👈🏾👈🏿\\n👉🏿👉🏾👉🏽👉🏼👇🏻👇🏻👇🏻👈🏼👈🏽👈🏾👈🏿… https://t.co/sxZMlCmA9x', 'RT @_Kalyan_K: Proud of our efforts to preserve our environment as our @Flipkart Wishmasters lead the project to collect plastic packaging…', 'RT @ParineetiChopra: It was the funnest show everrr 💕💕 @TheFarahKhan @MirzaSania https://t.co/kq3StfA36Y', 'Do you love the outdoors? Does your smartphone prevent you from enjoying a full range of motion when you are out an… https://t.co/IAfLrtSGx3', 'RT @thenewsminute: Flipkart announces new project to collect plastic packaging from customers https://t.co/CIfR62EHm6', 'Presenting the all new Infinix S5 Lite with massive 6.6” HD+ display &amp; 16 MP In-display selfie camera starting at R… https://t.co/NMTzaLGgWH', 'Build a dreamy escape with colourful and vibrant furniture your little ones will love! Bunk Beds, Bean Bags and more - shop now.', 'RT @FlipkartStories: When a waterlogged road threatened to delay a @Flipkart delivery in flood-affected Patna, our resourceful #Wishmaster…', 'Every child has the potential to build a Naya India. Here’s celebrating the curious ones with hearts full of hope.… https://t.co/9XTvNbHEXt', 'RT @FlipkartStories: . @Flipkart is piloting a #plastic packaging collection drive at select delivery hubs in 7 Indian cities. We seek your…', 'RT @FlipkartVideo: Wasseypur mein boli jaati hai kadvi sachhai! Watch this Anurag Kashyap creation, only on your #FlipkartApp.\\n#Flipkart #F…', \"Confused about which size to buy? Try both and keep the one you like! Don't Stress, Karo Impress with 30 days retur… https://t.co/TG7xistMAR\", 'RT @ASUSIndia: Redefine your flagship experience with the Asus Zenfone 5z which now comes at an unbelievable new price! Visit @Flipkart to…', 'RT @TheFarahKhan: City getting an overdose of me??😂 thank u @AshGowariker for clicking this.. ab dekh bhi lena #BackBenchers on #flipkartvi…', 'Jaw Dropping offers on Micromax Mobiles! Check them out. Micromax days 11th-13th November. Flipkart.', 'RT @FlipkartStories: .#HumansOfBBD #TheBigBillionDays sale is about more than just eye-catching deals! Behind the success and festivities a…', 'RT @WorkAtFlipkart: @Flipkart is proud to have been selected as one of the Best Companies For Women in India by @avtarwomen and @_workingmo…', 'Check out the adidas Originals #HomeOfClassics collection on #FlipkartFashion! Iconic leather silhouettes that get… https://t.co/iz1liUwPyf', \"Be branded from head to toe! Get genuine brands at great prices at Flipkart Fashion, #IndiaKaFashionCapital. Don't… https://t.co/kPgOJbon44\", 'RT @TheFarahKhan: My childhood dream job was being a teacher.. n im obsessed with quiz shows.. so thank u #backbenchers for combining the 2…', 'And the wait is over! :) #FlipkartFashion https://t.co/4Ebh2fetoB', 'Bring home an Air Purifier and help your loved ones breathe healthy. Buy 2 or more and get extra ₹1000 Off. Hurry, Limited Period Offer!', 'We are excited to announce a strategic licensing relationship with @nokia to launch Nokia Smart TVs in India, with… https://t.co/oyMwq79IJI', 'It’s time to celebrate. Congratulations to all the winners of the #BigExcite contest! Please DM us your Flipkart re… https://t.co/4fn9d6obgI', '@MartandShardul Thanks for thinking of our employees! We are working with our wishmasters to ensure they are well protected.', 'Congratulations to all the winners of #AajkiRaat contest. Please DM us your Flipkart registered mobile number and e… https://t.co/QiO4KdlZGn', 'Scaring away your shopping horrors since 2007. Have a #HappyHalloween https://t.co/Dme0zfDheZ', 'Divided by pin codes, but United by one dream - a Naya India. #NationalUnityDay https://t.co/a7xswjlPoo', 'RT @_mekin: A hiring hack from Flipkart days.... https://t.co/12LAz6d70d', 'Brighten up the occasion with lights, laughter, and wishes. #HappyDiwali https://t.co/Wd3pADMTsr', 'Our Flipsters are working round the clock fulfilling your wishes this festive season, because they know nothing is… https://t.co/NBDWKNuDVM', 'This Big Diwali Sale gift the gaming lovers in your family a Redmagic phone  at a never before price of Rs. 35,999… https://t.co/y16EGwzzjt', 'RT @XiaomiIndia: 360° air filtration, true HEPA filter, powerful &amp; stylish, #MiAirPurifier2C is made for the urban household.\\n\\nStay safe fr…', \"RT @manukumarjain: Mi fans, last chance to get #Xiaomi phones at incredible prices during @Flipkart's #Diwali sale. 🤗\\n\\n#Redmi7A: ₹4999\\n#Red…\", 'The all-new Infinix S5 is here with In-display 32 MP Selfie Camera &amp; AI Quad Camera with Macro Lens at Rs. 8999/-\\nS… https://t.co/yoWRHY5KQm', 'By taking the path less travelled and by fulfilling the wishes of millions of Indians, we’ve achieved several miles… https://t.co/kEcFyY0zrV', 'RT @MiTVIndia: Missed the sale for #MiTV43? Set your clocks for 8PM for the next sale.\\n\\nGet the MiTV 4X 43 at ₹24,999 on @Flipkart in #BigD…', 'RT @tenzin_pema: (1/3) @_Kalyan_K of @Flipkart answers rapid-fire questions posed by @SharmaShradha at @YourStoryCo\\'s #tsparks :\\n\\nCEO: \"Chi…', 'Reimagine your home the royal way with House Of Pataudi - furniture inspired by heritage. Crafted with high-grade s… https://t.co/yNmaAA9OtP', 'Get the power to do more with the all-new Redmi 8.', 'Presenting the all new Motorola One Macro with 6.2” HD+ display and Triple Camera. 4/64 GB starting at ₹9,999.', 'realme C2 now available in two exciting new colours – Diamond Ruby &amp; Diamond Sapphire. Starting from Rs. 8,999.', 'This #BigDiwaliSale, enjoy the Gold Dhamaka! Buy any mobile phone between 8:00 pm &amp; 9:00 pm today and stand a chanc… https://t.co/A92MEdSDmW', 'RT @ASUS_ROG_IN: The Gaming Gods who’ve wielded the ultimate weapon have given their verdict. The #ROGPhoneII has been rated 4.8 out of 5 o…', 'RT @LenovoMobileIN: This festive season, grab these AMAZING #Lenovo smartphones at AMAZING prices on #BigDiwaliOffers from 12th to 16th Oct…', \"RT @FlipkartSellers: We can't thank our sellers enough! Thank you for making The Big Billion Days sabse bada! https://t.co/EtKGikBvD3\", \"He's not just a legendary hero on the big screen, he's our superhero for #TheBigBillionDays too.… https://t.co/wBn3H34Bw5\", 'Get the power to do more with the all-new Redmi 8. Sale starts 12th Oct, 12 am. Only on #Flipkart #BigDiwaliSale', '@ideepak_143 @chetan_bhagat @authoramish @theRealKiyosaki Our pleasure. Enjoy!', '@sreejithmoolayl @rashmibansal Happy reading!', 'The mind works in a unique and complex way. \\n\\nTake the time to understand this, inside you and for those around you… https://t.co/eqs7ACPQWV', \"We're excited to be supporting 6 different causes - ranging from supplying saplings for a greener India, to aiding… https://t.co/kbLpdJDo1u\", '@CoorgRocker Music to our ears!', \"@Amanpr_t You're too kind! :)\", '@rajesh_krisu 🙏🏾', 'RT @FlipkartStories: .#KnowYourCause Spread the #JoyOfGiving with @Flipkart &amp; @GiveIndia. This #DaanUtsav, support Uma Educational &amp; Techni…', \"@Sathish76956012 You're most welcome. Glad to be of service!\", '@iamajaydaga Heh. Like the sound of that. 👊🏽', 'Wishes fulfilled during the festive season. A ton of wishes fulfilled! #TheBigBillionDays https://t.co/LfZNkJplRa', 'Blessings of warmth, joy and prosperity to each home. Happy Dussehra! https://t.co/Ii30dmCswv', 'RT @FlipkartStories: Spread the #JoyOfGiving with @Flipkart &amp; @GiveIndia. A lot of us want to contribute to social causes, but may not know…', '@Jhaanji035 💪🏽💪🏽💪🏽💪🏽', '@imAjayKewat ❤️', 'RT @FlipkartStories: .#MyFirstBBD Ever since he joined us in July this year as VP &amp; Head - Marketing, Vikas Gupta has been loving every mom…', '@imAjayKewat Music to our ears!', '@RanganathMS1 🙌🏽', 'Some #FunFacts and milestones from this year’s #TheBigBillionDays! https://t.co/W9hZTHSyvw', 'This #TheBigBillionDays would not have been the biggest, if not for our 1L+ Sellers and Artisan partners. We thank… https://t.co/8pHrgo3Z76', 'A BIG shout out to the millions of our customers, for your support and patronage. We hope you had as much fun as we… https://t.co/IFdVajCyzh', 'RT @WorkAtFlipkart: #TheBigBillionDays really set our creative juices flowing! This whole song was composed and performed by our talented #…', \"Add some class to your dining room with this Sheesham Wood 4 Seater Dining Set! There's a HUGE discount just for #TheBigBillionDays.\", 'Travel in style with one of these durable Suitcase Sets! There are great deals and BIG discounts just for #TheBigBillionDays.', 'RT @FlipkartStories: #HumansOfBBD “As a pantry boy at @Flipkart, I’m able to send money to my brothers &amp; my mother. During #TheBigBillionDa…', '@pratikdalmia @BoatNirvana Glad to be of service!', 'Dress to impress every day in spotless and hygienic garments, thanks to this IFB 6 kg Fully-automatic washing machine. #TheBigBillionDays', \"It's time to go big with the Redmi Note 7 Pro's 16-cm (6.3) FHD+ Dot Notch display. Powered by a 2.0 GHz Qualcomm S… https://t.co/CZvOljSRjK\", 'India! It’s the last day of #TheBigBillionDays! Make sure you shop today, because missing it would be a crime!\\n\\nSho… https://t.co/wFmU2h1WSc', \"It's all smiles during #TheBigBillionDays, India's Biggest Sale. #WorldSmileDay https://t.co/LxnHHtdf3w\", 'RT @AmitHPanchal: This WhatsApp bot called BigB by @flipkart has my attention. Showcasing their Big Billion Days offers by using emojis and…', 'RT @HiHonorIndia: Flipkart’s #TheBigBillionDays sale ends today! Your favourite #HONOR product is just a few clicks away! Buy now to avail…', \"Bring the ATTIITUDE to your wardrobe with Chris Gayle! Shop now and don't miss the amazing deals on the collection… https://t.co/YGcnEUEUIx\", \"Make lags a thing of the past with realme 5 as it's powered by a 2.0 GHz Qualcomm Snapdragon 665 AIE processor. Cli… https://t.co/0RhLcc3uwN\", 'Watch high-quality movies seamlessly, play graphics-rich games and do a lot more on the vivo Z1Pro. Its 16.59 cm (6… https://t.co/NwmevumBi5', 'Right from texting your buddies to clicking incredible pictures - the realme 5 Pro lets you do more of what you lov… https://t.co/xsZGzwfyVR', 'RT @WorkAtFlipkart: Photo ops are plenty on the @Flipkart campus during #TheBigBillionDays! Here are our CX and TA teams posing with some o…', 'Newsflash for those yet to shop on #TheBigBillionDays and those looking to shop some more… today is your LAST DAY t… https://t.co/NY7DSsEJRt', 'RT @MiTVIndia: #MiTV4X 43 &amp; #MiTV4A 40 are going for sale at 8PM on @Flipkart \\n\\nMi TV 4X 43: ₹24999\\nMi TV 4A 40: ₹17999\\n\\nGet yours:\\nhttps:/…', \"Presenting to you 'Big Billion Bot by Flipkart' on your WhatsApp 😍. Quiz, Trivia, Offers via emojis &amp; a lot more.… https://t.co/3C7xLkODAm\", 'Right from finding your phone to keeping your family entertained, the Google Home Mini is here to offer all the hel… https://t.co/XG3gMNY44D', 'RT @motorolaindia: Let the festivities begin with these spectacular #Motorola smartphones at unbelievable prices on #TheBigBillionDays only…', 'Bose Soundsport Free Earbuds are completely wireless, so you can enjoy total freedom of movement with nothing in yo… https://t.co/AVUtAUno6B', 'For those who desire to wield the ultimate weapon, we’d hate to keep you waiting any longer. So the ROG Phone II is… https://t.co/UEZb1YQPXE', 'Dirt, stains and lint - this Samsung 6.2 kg washing machine will remove every impurity to give you spotless garment… https://t.co/tA12dJR0h6', 'Ten great offers on the Top 10 bestselling DSLR cameras just for #TheBigBillionDays. This is your chance to take yo… https://t.co/b4GbNhs8bd', \"Looking to pull the trigger on a Gaming Console? Look no further. We've got amazing deals on the Xbox One and PS4 j… https://t.co/InolOBzSKx\", 'You never go hungry at the #Flipkart office during #TheBigBillionDays! https://t.co/lauL56s8vY', \"Upgrade you wardrobe with these great deals! Levi's, USPA, GAP and so much more. Shop now and don't miss out! #TheBigBillionDays\", 'Are you looking for an elegant and pocket-friendly chimney for your home? If yes, then this Kaff wall-mounted hood… https://t.co/EhFb9oJGFF', 'Stylish and smart! Galaxy Watch links you to the world around you with features of a smartwatch and the natural fee… https://t.co/l9XBZm1OZH', 'RT @akash207: Have you checked out @Flipkart’s WhatsApp innovation - BigB by Flipkart? \\n\\nWhatsApp in never seen avatar as before. Quiz, off…', \"RT @Flipkart: Forget everything else! India’s biggest sale is LIVE! \\n\\nDhoni is on ‘Do Not Disturb’ because India's Biggest Sale is now LIVE…\", \"RT @XiaomiIndia: Mi fans, it's time to buy India's first Smart Water Purifier that comes with DIY filter replacement.\\n\\n#MiSmartWaterPurifie…\", 'Remembering the man who fulfilled our nation’s wishlist. #GandhiJayanti https://t.co/glNKx2LvBl', 'RT @WorkAtFlipkart: As #Flipsters work hard towards providing our customers the best deals this #TheBigBillionDays, we curate different exp…', 'RT @KentROSystems: Mr @varungupta747, Wholetime Director, Kent RO Systems Ltd, talks about the grand success of #TheBigBillionDays @Flipkar…', 'RT @HiHonorIndia: The camera king totally rules the #TheBigBillionDays! Get the #HONOR20i at just ₹11,999.\\nHurry up! It’s now or never! 🤩\\nS…', \"RT @oppomobileindia: You don't need a billion reasons to be overjoyed during @Flipkart's Big Billion Days sale! Bring home the latest OPPO…\", \"The Acer Predator Helios could be yours for half the price! It's a limited-time offer just for #TheBigBillionDays... shop now!\", \"RT @HindwareApp: Mr. @Kaul14Rakesh, CEO and Whole-Time Director, Somany Home Innovation Limited talks about Hindware Appliances' great succ…\", 'RT @YourStoryCo: #Flipkart employees ignore sleep to make #BBD a bigger success.\\n\\n@Flipkart @FlipkartStories @_Kalyan_K @WorkAtFlipkart #Th…', \"Keep the sun out with Sunglasses from top brands! There's plenty to choose from, with BIG discounts just for #TheBigBillionDays.\", \"Dining sets, beds, coffee tables, book shelves... all made with the finest materials. We've got great deals on Soli… https://t.co/j1Nw2Peqoj\", 'RT @MadhavSheth1: As the No.1 Quality Smartphone Brand we are confident on quality &amp; customer satisfaction. For this very reason we have a…', \"RT @FlipkartStories: It's Day 3 of #TheBigBillionDays and we hope your festive shopping has been fabulous! We've seen some super-cool @Flip…\"]\n"
     ]
    }
   ],
   "source": [
    "# Function to extract tweets \n",
    "def get_tweets(username):\n",
    "    # Authorization to consumer key and consumer secret \n",
    "    auth = tweepy.OAuthHandler(consumer_key, consumer_secret) \n",
    "  \n",
    "    # Access to user's access key and access secret \n",
    "    auth.set_access_token(access_key, access_secret) \n",
    "  \n",
    "    # Calling api \n",
    "    api = tweepy.API(auth) \n",
    "  \n",
    "    # 1000 tweets to be extracted \n",
    "    number_of_tweets=1000\n",
    "    tweets = api.user_timeline(screen_name=username, count=number_of_tweets)\n",
    "    \n",
    "    # Empty Array \n",
    "    tmp=[]  \n",
    "  \n",
    "    # create array of tweet information: username,  \n",
    "    # tweet id, date/time, text \n",
    "    tweets_for_csv = [tweet.text for tweet in tweets] # CSV file created  \n",
    "    for j in tweets_for_csv:\n",
    "        # Appending tweets to the empty array tmp \n",
    "        tmp.append(j)\n",
    "    tm = pd.DataFrame({'tweets':tmp})\n",
    "    tm.to_csv(\"D:/IMS Proschool/AML & AI/Term2 Project/tweepy2.csv\", index=None)\n",
    "  \n",
    "    # Printing the tweets \n",
    "    print(tmp)  \n",
    "\n",
    "\n",
    "# Driver code:\n",
    "#if __name__ == '__main__': \n",
    "  \n",
    "    # Here goes the twitter handle for the user \n",
    "    # whose tweets are to be extracted. \n",
    "get_tweets(\"Flipkart\")"
   ]
  },
  {
   "cell_type": "code",
   "execution_count": 25,
   "metadata": {
    "collapsed": true
   },
   "outputs": [
    {
     "ename": "TweepError",
     "evalue": "[{'code': 34, 'message': 'Sorry, that page does not exist.'}]",
     "output_type": "error",
     "traceback": [
      "\u001b[1;31m---------------------------------------------------------------------------\u001b[0m",
      "\u001b[1;31mTweepError\u001b[0m                                Traceback (most recent call last)",
      "\u001b[1;32m<ipython-input-25-126bb1297aa6>\u001b[0m in \u001b[0;36m<module>\u001b[1;34m\u001b[0m\n\u001b[0;32m     35\u001b[0m     \u001b[1;31m# Here goes the twitter handle for the user\u001b[0m\u001b[1;33m\u001b[0m\u001b[1;33m\u001b[0m\u001b[1;33m\u001b[0m\u001b[0m\n\u001b[0;32m     36\u001b[0m     \u001b[1;31m# whose tweets are to be extracted.\u001b[0m\u001b[1;33m\u001b[0m\u001b[1;33m\u001b[0m\u001b[1;33m\u001b[0m\u001b[0m\n\u001b[1;32m---> 37\u001b[1;33m \u001b[0mget_tweets\u001b[0m\u001b[1;33m(\u001b[0m\u001b[1;34m\"amazonIN#headphone\"\u001b[0m\u001b[1;33m)\u001b[0m\u001b[1;33m\u001b[0m\u001b[1;33m\u001b[0m\u001b[0m\n\u001b[0m",
      "\u001b[1;32m<ipython-input-25-126bb1297aa6>\u001b[0m in \u001b[0;36mget_tweets\u001b[1;34m(username)\u001b[0m\n\u001b[0;32m     12\u001b[0m     \u001b[1;31m# 1000 tweets to be extracted\u001b[0m\u001b[1;33m\u001b[0m\u001b[1;33m\u001b[0m\u001b[1;33m\u001b[0m\u001b[0m\n\u001b[0;32m     13\u001b[0m     \u001b[0mnumber_of_tweets\u001b[0m\u001b[1;33m=\u001b[0m\u001b[1;36m1000\u001b[0m\u001b[1;33m\u001b[0m\u001b[1;33m\u001b[0m\u001b[0m\n\u001b[1;32m---> 14\u001b[1;33m     \u001b[0mtweets\u001b[0m \u001b[1;33m=\u001b[0m \u001b[0mapi\u001b[0m\u001b[1;33m.\u001b[0m\u001b[0muser_timeline\u001b[0m\u001b[1;33m(\u001b[0m\u001b[0mscreen_name\u001b[0m\u001b[1;33m=\u001b[0m\u001b[0musername\u001b[0m\u001b[1;33m,\u001b[0m \u001b[0mcount\u001b[0m\u001b[1;33m=\u001b[0m\u001b[0mnumber_of_tweets\u001b[0m\u001b[1;33m)\u001b[0m\u001b[1;33m\u001b[0m\u001b[1;33m\u001b[0m\u001b[0m\n\u001b[0m\u001b[0;32m     15\u001b[0m \u001b[1;33m\u001b[0m\u001b[0m\n\u001b[0;32m     16\u001b[0m     \u001b[1;31m# Empty Array\u001b[0m\u001b[1;33m\u001b[0m\u001b[1;33m\u001b[0m\u001b[1;33m\u001b[0m\u001b[0m\n",
      "\u001b[1;32m~\\Anaconda3\\lib\\site-packages\\tweepy\\binder.py\u001b[0m in \u001b[0;36m_call\u001b[1;34m(*args, **kwargs)\u001b[0m\n\u001b[0;32m    248\u001b[0m                 \u001b[1;32mreturn\u001b[0m \u001b[0mmethod\u001b[0m\u001b[1;33m\u001b[0m\u001b[1;33m\u001b[0m\u001b[0m\n\u001b[0;32m    249\u001b[0m             \u001b[1;32melse\u001b[0m\u001b[1;33m:\u001b[0m\u001b[1;33m\u001b[0m\u001b[1;33m\u001b[0m\u001b[0m\n\u001b[1;32m--> 250\u001b[1;33m                 \u001b[1;32mreturn\u001b[0m \u001b[0mmethod\u001b[0m\u001b[1;33m.\u001b[0m\u001b[0mexecute\u001b[0m\u001b[1;33m(\u001b[0m\u001b[1;33m)\u001b[0m\u001b[1;33m\u001b[0m\u001b[1;33m\u001b[0m\u001b[0m\n\u001b[0m\u001b[0;32m    251\u001b[0m         \u001b[1;32mfinally\u001b[0m\u001b[1;33m:\u001b[0m\u001b[1;33m\u001b[0m\u001b[1;33m\u001b[0m\u001b[0m\n\u001b[0;32m    252\u001b[0m             \u001b[0mmethod\u001b[0m\u001b[1;33m.\u001b[0m\u001b[0msession\u001b[0m\u001b[1;33m.\u001b[0m\u001b[0mclose\u001b[0m\u001b[1;33m(\u001b[0m\u001b[1;33m)\u001b[0m\u001b[1;33m\u001b[0m\u001b[1;33m\u001b[0m\u001b[0m\n",
      "\u001b[1;32m~\\Anaconda3\\lib\\site-packages\\tweepy\\binder.py\u001b[0m in \u001b[0;36mexecute\u001b[1;34m(self)\u001b[0m\n\u001b[0;32m    231\u001b[0m                     \u001b[1;32mraise\u001b[0m \u001b[0mRateLimitError\u001b[0m\u001b[1;33m(\u001b[0m\u001b[0merror_msg\u001b[0m\u001b[1;33m,\u001b[0m \u001b[0mresp\u001b[0m\u001b[1;33m)\u001b[0m\u001b[1;33m\u001b[0m\u001b[1;33m\u001b[0m\u001b[0m\n\u001b[0;32m    232\u001b[0m                 \u001b[1;32melse\u001b[0m\u001b[1;33m:\u001b[0m\u001b[1;33m\u001b[0m\u001b[1;33m\u001b[0m\u001b[0m\n\u001b[1;32m--> 233\u001b[1;33m                     \u001b[1;32mraise\u001b[0m \u001b[0mTweepError\u001b[0m\u001b[1;33m(\u001b[0m\u001b[0merror_msg\u001b[0m\u001b[1;33m,\u001b[0m \u001b[0mresp\u001b[0m\u001b[1;33m,\u001b[0m \u001b[0mapi_code\u001b[0m\u001b[1;33m=\u001b[0m\u001b[0mapi_error_code\u001b[0m\u001b[1;33m)\u001b[0m\u001b[1;33m\u001b[0m\u001b[1;33m\u001b[0m\u001b[0m\n\u001b[0m\u001b[0;32m    234\u001b[0m \u001b[1;33m\u001b[0m\u001b[0m\n\u001b[0;32m    235\u001b[0m             \u001b[1;31m# Parse the response payload\u001b[0m\u001b[1;33m\u001b[0m\u001b[1;33m\u001b[0m\u001b[1;33m\u001b[0m\u001b[0m\n",
      "\u001b[1;31mTweepError\u001b[0m: [{'code': 34, 'message': 'Sorry, that page does not exist.'}]"
     ]
    }
   ],
   "source": [
    "# Function to extract tweets \n",
    "def get_tweets(username):\n",
    "    # Authorization to consumer key and consumer secret \n",
    "    auth = tweepy.OAuthHandler(consumer_key, consumer_secret) \n",
    "  \n",
    "    # Access to user's access key and access secret \n",
    "    auth.set_access_token(access_key, access_secret) \n",
    "  \n",
    "    # Calling api \n",
    "    api = tweepy.API(auth) \n",
    "  \n",
    "    # 1000 tweets to be extracted \n",
    "    number_of_tweets=1000\n",
    "    tweets = api.user_timeline(screen_name=username, count=number_of_tweets)\n",
    "    \n",
    "    # Empty Array \n",
    "    tmp=[]  \n",
    "  \n",
    "    # create array of tweet information: username,  \n",
    "    # tweet id, date/time, text \n",
    "    tweets_for_csv = [tweet.text for tweet in tweets] # CSV file created  \n",
    "    for j in tweets_for_csv:\n",
    "        # Appending tweets to the empty array tmp \n",
    "        tmp.append(j)\n",
    "    tm = pd.DataFrame({'tweets':tmp})\n",
    "    tm.to_csv(\"D:/IMS Proschool/AML & AI/Term2 Project/tweepy3.csv\", index=None)\n",
    "  \n",
    "    # Printing the tweets \n",
    "    print(tmp)  \n",
    "\n",
    "\n",
    "# Driver code:\n",
    "#if __name__ == '__main__': \n",
    "  \n",
    "    # Here goes the twitter handle for the user \n",
    "    # whose tweets are to be extracted. \n",
    "get_tweets(\"amazonIN#headphone\")"
   ]
  },
  {
   "cell_type": "code",
   "execution_count": 27,
   "metadata": {},
   "outputs": [
    {
     "name": "stdout",
     "output_type": "stream",
     "text": [
      "['@hifimanofficial  Ananda-BT Bluetooth Over-Ear Planar Magnetic Review: Mind-Blowing Sound From These Amazing Wirele… https://t.co/meKRNiUPFW', '#LGV60ThinQ images show #headphone jack, huge battery, more https://t.co/movFSerXvh https://t.co/rsxjHo9sVb', 'Need a good #audio #headphone ? Shop this list https://t.co/9aLvGqxnYr  for top 10 in #electronics #earbuds', 'Belkin Rockstar Lightning Connector Headphone Review: Premium Device With Good Performance\\n\\n#BelkinRockstar… https://t.co/8RDuX46Oll', 'Is #Production or #PostProduction your thing?\\n#Microphone #MidiController #Headphone #Cables #AudioInterface… https://t.co/73OsgjeQWA', 'Is #Production or #PostProduction your thing?\\n\\n#Microphone #MidiController #Headphone #Cables #ilok #Software… https://t.co/XOWgmjDDyI', 'Always a joy to see our customs in the wild, this one being a Khan!\\n\\nPhoto:  @Kai0131\\n\\n#NobleAudio #Headphones… https://t.co/SRhobHWWmL', 'Inovative Security gadgets!\\n#IndiaCorpSolution #Clocks #Gifting #ChargingCable #ClipBoard #Personalized #Toolsets… https://t.co/uAM6eVJm1b', 'Beautifully crafted headphones for a premium audio experience. \\n\\n#neojdx #maestro #premium #wireless #audio… https://t.co/7TSSLNz7Eg', 'i100 TWS Bluetooth Earbuds with Wireless Charging\\nOrder Now -&gt; https://t.co/91aDR95dId\\n\\niPhone | Samsung | LG | Bla… https://t.co/Pw81oukipa', 'Wireless Earbuds,Bluetooth Headphones 5.0 Deep Bass HiFi Stereo Sound Earphones 16H Playtime with Charging Case and… https://t.co/UEzkuC0byz', 'Bluetooth Headphones, Waterproof HD Stereo Sound Sports Wireless in Ear Earbuds with Mic, Passive Noise Cancelling… https://t.co/3u0eFCC3jJ', 'Gaming Wireless Headphones 3D Stereo Bluetooth Fold-able With Mic FM TF Card Noise Reduction: Buy your favorite Gam… https://t.co/pPQpVtFXTI', 'Need a good #audio #headphone ? Shop this list https://t.co/9aLvGqxnYr  for top 10 in #electronics #earbuds', 'Honest Product Review For:  Betron #V7 #Earphones These sporty looking earphones by #Betron promise to offer 6 hour… https://t.co/CsDQejzXVA']\n"
     ]
    }
   ],
   "source": [
    "# Function to extract tweets \n",
    "def get_tweets(username):\n",
    "    # Authorization to consumer key and consumer secret \n",
    "    auth = tweepy.OAuthHandler(consumer_key, consumer_secret) \n",
    "  \n",
    "    # Access to user's access key and access secret \n",
    "    auth.set_access_token(access_key, access_secret) \n",
    "  \n",
    "    # Calling api \n",
    "    api = tweepy.API(auth) \n",
    "  \n",
    "    # tweets to be extracted \n",
    "    search_words = \"#headphone -filter:retweets\"\n",
    "    tweets = tweepy.Cursor(api.search,\n",
    "              q=search_words,\n",
    "              lang=\"en\").items(100)\n",
    "    \n",
    "    # Empty Array \n",
    "    tmp=[]  \n",
    "  \n",
    "    # create array of tweet information: username,  \n",
    "    # tweet id, date/time, text \n",
    "    tweets_for_csv = [tweet.text for tweet in tweets] # CSV file created  \n",
    "    for j in tweets_for_csv:\n",
    "        # Appending tweets to the empty array tmp \n",
    "        tmp.append(j)\n",
    "    tm = pd.DataFrame({'tweets':tmp})\n",
    "    tm.to_csv(\"D:/IMS Proschool/AML & AI/Term2 Project/tweepy3.csv\", index=None)\n",
    "  \n",
    "    # Printing the tweets \n",
    "    print(tmp)  \n",
    "\n",
    "\n",
    "# Driver code:\n",
    "#if __name__ == '__main__': \n",
    "  \n",
    "    # Here goes the twitter handle for the user \n",
    "    # whose tweets are to be extracted. \n",
    "get_tweets(\"amazonIN\")"
   ]
  },
  {
   "cell_type": "code",
   "execution_count": 24,
   "metadata": {},
   "outputs": [
    {
     "ename": "NameError",
     "evalue": "name 'tm' is not defined",
     "output_type": "error",
     "traceback": [
      "\u001b[1;31m---------------------------------------------------------------------------\u001b[0m",
      "\u001b[1;31mNameError\u001b[0m                                 Traceback (most recent call last)",
      "\u001b[1;32m<ipython-input-24-0ec9ed821db5>\u001b[0m in \u001b[0;36m<module>\u001b[1;34m\u001b[0m\n\u001b[1;32m----> 1\u001b[1;33m \u001b[0mtm\u001b[0m\u001b[1;33m\u001b[0m\u001b[1;33m\u001b[0m\u001b[0m\n\u001b[0m",
      "\u001b[1;31mNameError\u001b[0m: name 'tm' is not defined"
     ]
    }
   ],
   "source": [
    "tm"
   ]
  },
  {
   "cell_type": "code",
   "execution_count": 13,
   "metadata": {
    "collapsed": true
   },
   "outputs": [
    {
     "ename": "NameError",
     "evalue": "name 'tmp' is not defined",
     "output_type": "error",
     "traceback": [
      "\u001b[1;31m---------------------------------------------------------------------------\u001b[0m",
      "\u001b[1;31mNameError\u001b[0m                                 Traceback (most recent call last)",
      "\u001b[1;32m<ipython-input-13-52a35c59c6f2>\u001b[0m in \u001b[0;36m<module>\u001b[1;34m\u001b[0m\n\u001b[1;32m----> 1\u001b[1;33m \u001b[0mtmp\u001b[0m\u001b[1;33m\u001b[0m\u001b[1;33m\u001b[0m\u001b[0m\n\u001b[0m",
      "\u001b[1;31mNameError\u001b[0m: name 'tmp' is not defined"
     ]
    }
   ],
   "source": [
    "tmp"
   ]
  },
  {
   "cell_type": "code",
   "execution_count": 19,
   "metadata": {},
   "outputs": [],
   "source": [
    "import pandas as pd"
   ]
  },
  {
   "cell_type": "code",
   "execution_count": null,
   "metadata": {},
   "outputs": [],
   "source": []
  }
 ],
 "metadata": {
  "kernelspec": {
   "display_name": "Python 3",
   "language": "python",
   "name": "python3"
  },
  "language_info": {
   "codemirror_mode": {
    "name": "ipython",
    "version": 3
   },
   "file_extension": ".py",
   "mimetype": "text/x-python",
   "name": "python",
   "nbconvert_exporter": "python",
   "pygments_lexer": "ipython3",
   "version": "3.7.4"
  }
 },
 "nbformat": 4,
 "nbformat_minor": 2
}
