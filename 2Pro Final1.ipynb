{
 "cells": [
  {
   "cell_type": "code",
   "execution_count": 1,
   "metadata": {},
   "outputs": [],
   "source": [
    "import tweepy\n",
    "import re\n",
    "import pandas as pd\n",
    "import numpy as np\n",
    "import matplotlib.pyplot as plt\n",
    "import nltk\n",
    "from nltk.corpus import stopwords\n",
    "from nltk.corpus import wordnet\n",
    "from nltk.stem import PorterStemmer\n",
    "from nltk.stem import WordNetLemmatizer\n",
    "from wordcloud import WordCloud\n",
    "import random\n",
    "import glob\n",
    "from textblob import TextBlob\n",
    "import io\n",
    "from sklearn.feature_extraction.text import TfidfVectorizer\n",
    "from sklearn.feature_extraction.text import CountVectorizer"
   ]
  },
  {
   "cell_type": "code",
   "execution_count": 2,
   "metadata": {},
   "outputs": [],
   "source": [
    "# twitter app credentials\n",
    "consumer_key = \"hz76GGcveHsN26QvAcTHhDVnn\" \n",
    "consumer_secret = \"hrBmAzughGzIV7oMvYnMb3JqXBEa4nXnrhzNSDQ7pTPnjaxi4n\"\n",
    "access_key = \"2547850260-XM9U6ggp4KjqEROWzuqtHlNAjYia6tVOiLaXJXg\"\n",
    "access_secret = \"AkmHcW1PaEzfoD11XyMDWxXqXDzY02G19Lt4FGWgyclsW\"\n",
    "\n",
    "# Authorization to consumer key and consumer secret \n",
    "auth = tweepy.OAuthHandler(consumer_key, consumer_secret)\n",
    "\n",
    "# Access to user's access key and access secret \n",
    "auth.set_access_token(access_key, access_secret)\n",
    "\n",
    "# Calling api \n",
    "api = tweepy.API(auth, wait_on_rate_limit=True)"
   ]
  },
  {
   "cell_type": "code",
   "execution_count": 3,
   "metadata": {},
   "outputs": [],
   "source": [
    "# Tweets to be extracted for AmazonIN\n",
    "search_words_amazon = \"amazonIN -filter:retweets\"\n",
    "t_amazon = tweepy.Cursor(api.search,\n",
    "                       q = search_words_amazon,\n",
    "                       lang = \"en\").items(3000)\n",
    "amazon_tweets = [tweet.text for tweet in t_amazon]"
   ]
  },
  {
   "cell_type": "code",
   "execution_count": 5,
   "metadata": {},
   "outputs": [
    {
     "data": {
      "text/plain": [
       "3000"
      ]
     },
     "execution_count": 5,
     "metadata": {},
     "output_type": "execute_result"
    }
   ],
   "source": [
    "len(amazon_tweets)"
   ]
  },
  {
   "cell_type": "code",
   "execution_count": 6,
   "metadata": {},
   "outputs": [],
   "source": [
    "# Tweets to be extracted for Flipkart\n",
    "search_words_flipkart = \"flipkart -filter:retweets\"\n",
    "t_flipkart = tweepy.Cursor(api.search,\n",
    "                       q = search_words_flipkart,\n",
    "                       lang = \"en\").items(3000)\n",
    "flipkart_tweets = [tweet.text for tweet in t_flipkart]"
   ]
  },
  {
   "cell_type": "code",
   "execution_count": 7,
   "metadata": {},
   "outputs": [
    {
     "data": {
      "text/plain": [
       "3000"
      ]
     },
     "execution_count": 7,
     "metadata": {},
     "output_type": "execute_result"
    }
   ],
   "source": [
    "len(flipkart_tweets)"
   ]
  },
  {
   "cell_type": "code",
   "execution_count": 8,
   "metadata": {},
   "outputs": [],
   "source": [
    "# Tweets to be extracted for Snapdeal\n",
    "search_words_snapdeal = \"snapdeal -filter:retweets\"\n",
    "t_snapdeal = tweepy.Cursor(api.search,\n",
    "                       q = search_words_snapdeal,\n",
    "                       lang = \"en\").items(3000)\n",
    "snapdeal_tweets = [tweet.text for tweet in t_snapdeal]"
   ]
  },
  {
   "cell_type": "code",
   "execution_count": 9,
   "metadata": {},
   "outputs": [
    {
     "data": {
      "text/plain": [
       "694"
      ]
     },
     "execution_count": 9,
     "metadata": {},
     "output_type": "execute_result"
    }
   ],
   "source": [
    "len(snapdeal_tweets)"
   ]
  },
  {
   "cell_type": "code",
   "execution_count": 31,
   "metadata": {},
   "outputs": [],
   "source": [
    "# Tweets to be extracted for Croma retail\n",
    "search_words_croma = \"cromaretail -filter:retweets\"\n",
    "t_croma = tweepy.Cursor(api.search,\n",
    "                       q = search_words_croma,\n",
    "                       lang = \"en\").items(3000)\n",
    "croma_tweets = [tweet.text for tweet in t_croma]"
   ]
  },
  {
   "cell_type": "code",
   "execution_count": 32,
   "metadata": {},
   "outputs": [
    {
     "data": {
      "text/plain": [
       "319"
      ]
     },
     "execution_count": 32,
     "metadata": {},
     "output_type": "execute_result"
    }
   ],
   "source": [
    "len(croma_tweets)"
   ]
  },
  {
   "cell_type": "code",
   "execution_count": 33,
   "metadata": {},
   "outputs": [],
   "source": [
    "# Tweets to be extracted for reliance digital\n",
    "search_words_reliance = \"reliancedigital -filter:retweets\"\n",
    "t_reliance = tweepy.Cursor(api.search,\n",
    "                       q = search_words_reliance,\n",
    "                       lang = \"en\").items(3000)\n",
    "reliance_tweets = [tweet.text for tweet in t_reliance]"
   ]
  },
  {
   "cell_type": "code",
   "execution_count": 34,
   "metadata": {},
   "outputs": [
    {
     "data": {
      "text/plain": [
       "251"
      ]
     },
     "execution_count": 34,
     "metadata": {},
     "output_type": "execute_result"
    }
   ],
   "source": [
    "len(reliance_tweets)"
   ]
  },
  {
   "cell_type": "code",
   "execution_count": 35,
   "metadata": {},
   "outputs": [],
   "source": [
    "# Tweets to be extracted for shopclues\n",
    "search_words_shopclues = \"shopclues -filter:retweets\"\n",
    "t_shopclues = tweepy.Cursor(api.search,\n",
    "                       q = search_words_shopclues,\n",
    "                       lang = \"en\").items(3000)\n",
    "shopclues_tweets = [tweet.text for tweet in t_shopclues]"
   ]
  },
  {
   "cell_type": "code",
   "execution_count": 36,
   "metadata": {},
   "outputs": [
    {
     "data": {
      "text/plain": [
       "222"
      ]
     },
     "execution_count": 36,
     "metadata": {},
     "output_type": "execute_result"
    }
   ],
   "source": [
    "len(shopclues_tweets)"
   ]
  },
  {
   "cell_type": "code",
   "execution_count": 37,
   "metadata": {},
   "outputs": [],
   "source": [
    "# Tweets to be extracted for Paytm Mall\n",
    "search_words_paytm = \"paytmmall -filter:retweets\"\n",
    "t_paytm = tweepy.Cursor(api.search,\n",
    "                       q = search_words_paytm,\n",
    "                       lang = \"en\").items(3000)\n",
    "paytm_tweets = [tweet.text for tweet in t_paytm]"
   ]
  },
  {
   "cell_type": "code",
   "execution_count": 38,
   "metadata": {},
   "outputs": [
    {
     "data": {
      "text/plain": [
       "190"
      ]
     },
     "execution_count": 38,
     "metadata": {},
     "output_type": "execute_result"
    }
   ],
   "source": [
    "len(paytm_tweets)"
   ]
  },
  {
   "cell_type": "code",
   "execution_count": 39,
   "metadata": {},
   "outputs": [],
   "source": [
    "# Tweets to be extracted for Vijay sales\n",
    "search_words_vijaysales = \"vijaysales -filter:retweets\"\n",
    "t_vijaysales = tweepy.Cursor(api.search,\n",
    "                       q = search_words_vijaysales,\n",
    "                       lang = \"en\").items(3000)\n",
    "vijaysales_tweets = [tweet.text for tweet in t_vijaysales]"
   ]
  },
  {
   "cell_type": "code",
   "execution_count": 40,
   "metadata": {},
   "outputs": [
    {
     "data": {
      "text/plain": [
       "88"
      ]
     },
     "execution_count": 40,
     "metadata": {},
     "output_type": "execute_result"
    }
   ],
   "source": [
    "len(vijaysales_tweets)"
   ]
  },
  {
   "cell_type": "code",
   "execution_count": 41,
   "metadata": {},
   "outputs": [],
   "source": [
    "# Tweets to be extracted for Tata Cliq\n",
    "search_words_tatacliq = \"tatacliq -filter:retweets\"\n",
    "t_tatacliq = tweepy.Cursor(api.search,\n",
    "                       q = search_words_tatacliq,\n",
    "                       lang = \"en\").items(3000)\n",
    "tatacliq_tweets = [tweet.text for tweet in t_tatacliq]"
   ]
  },
  {
   "cell_type": "code",
   "execution_count": 42,
   "metadata": {},
   "outputs": [
    {
     "data": {
      "text/plain": [
       "164"
      ]
     },
     "execution_count": 42,
     "metadata": {},
     "output_type": "execute_result"
    }
   ],
   "source": [
    "len(tatacliq_tweets)"
   ]
  },
  {
   "cell_type": "markdown",
   "metadata": {},
   "source": [
    "### Since there are only two companies which have 3000 tweets, we will continue our Analysis with amazonIN and Flipkart only"
   ]
  },
  {
   "cell_type": "code",
   "execution_count": 10,
   "metadata": {},
   "outputs": [],
   "source": [
    "# convert list of tweets to a dataframe\n",
    "amazon_tweets_df = pd.DataFrame({'tweets' : amazon_tweets})\n",
    "flipkart_tweets_df = pd.DataFrame({'tweets' : flipkart_tweets})"
   ]
  },
  {
   "cell_type": "code",
   "execution_count": 11,
   "metadata": {},
   "outputs": [],
   "source": [
    "# list of stop words\n",
    "stop_words = list(set(stopwords.words('english')))\n",
    "\n",
    "# function to clean the data\n",
    "def cleanse(input_text):\n",
    "    keep_alpha = re.sub(\"[^a-zA-Z]\",\" \",input_text)\n",
    "    remove_extra_spaces = re.sub(\"[\\s]+\",\" \",keep_alpha)\n",
    "    convert_case = remove_extra_spaces.lower()\n",
    "    stop_words_removal = [word for word in convert_case.split()\n",
    "                          if word not in stop_words]\n",
    "    remove_smaller_words = [word for word in stop_words_removal\n",
    "                          if len(word) >=3]\n",
    "    clean_tokens = [word for word in remove_smaller_words\n",
    "                   if 'http' not in word and\n",
    "                   '@' not in word and\n",
    "                   '<' not in word and\n",
    "                   'RT' not in word]\n",
    "    return \" \".join(clean_tokens)\n",
    "\n",
    "# lemmatizer object\n",
    "lemmatizer = WordNetLemmatizer()\n",
    "\n",
    "# function to lemmatize\n",
    "def lemmatize(input_text):\n",
    "    lemmas=[]\n",
    "    tokens = input_text.split()\n",
    "    for token in tokens:\n",
    "        tag = nltk.pos_tag([token])[0][1][0].upper()\n",
    "        tag_dict = {\"J\": wordnet.ADJ,\n",
    "                    \"N\": wordnet.NOUN,\n",
    "                    \"V\": wordnet.VERB,\n",
    "                    \"R\": wordnet.ADV}\n",
    "        if tag in tag_dict.keys():\n",
    "            pos = tag_dict[tag]\n",
    "            lemma = lemmatizer.lemmatize(token,pos)\n",
    "            lemmas.append(lemma)\n",
    "        else:\n",
    "            lemmas.append(token)\n",
    "    return \" \".join(lemmas)"
   ]
  },
  {
   "cell_type": "code",
   "execution_count": 12,
   "metadata": {},
   "outputs": [],
   "source": [
    "# run the function on dataframes\n",
    "amazon_tweets_df['clean_tweets'] = amazon_tweets_df['tweets'].apply(cleanse)\n",
    "amazon_tweets_df['clean_tweets'] = amazon_tweets_df['clean_tweets'].apply(lemmatize)\n",
    "\n",
    "flipkart_tweets_df['clean_tweets'] = flipkart_tweets_df['tweets'].apply(cleanse)\n",
    "flipkart_tweets_df['clean_tweets'] = flipkart_tweets_df['clean_tweets'].apply(lemmatize)"
   ]
  },
  {
   "cell_type": "code",
   "execution_count": 14,
   "metadata": {},
   "outputs": [
    {
     "data": {
      "text/plain": [
       "0       amazonfashionin amazonin filmfare product revi...\n",
       "1       snapdeal kunalbahl rohitkbansal productsindian...\n",
       "2       amazonin cheap service service provider like t...\n",
       "3       amazonin bad remote bundle firestick first use...\n",
       "4       redmiindia flipkart amazonin redmi note user r...\n",
       "                              ...                        \n",
       "2995    vodafonein want issue resolve asap prime accou...\n",
       "2996    bikashg flipkart amazonin amazon well experien...\n",
       "2997                                   amazonin need help\n",
       "2998    contribute betterment india hope win amazonin ...\n",
       "2999    amazonin amazonpay bought new mobile go regist...\n",
       "Name: clean_tweets, Length: 3000, dtype: object"
      ]
     },
     "execution_count": 14,
     "metadata": {},
     "output_type": "execute_result"
    }
   ],
   "source": [
    "amazon_tweets_df.clean_tweets"
   ]
  },
  {
   "cell_type": "code",
   "execution_count": 15,
   "metadata": {},
   "outputs": [
    {
     "data": {
      "text/plain": [
       "0                top brand deodorant link drj rvdo qiryge\n",
       "1       indiapoco flipkart order poco first sale get l...\n",
       "2       flipkartsupport unable chat flipkart app load ...\n",
       "3       flipkart flipkartsupport order one samsung lit...\n",
       "4       indiapoco flipkart poco definitely best best p...\n",
       "                              ...                        \n",
       "2995    saha varsha flipkartsupport flipkart samsung d...\n",
       "2996    flipkartsellers flipkart gamezone disable sell...\n",
       "2997    cashify first time customer smooth process hig...\n",
       "2998    ashishk ensure flipkart account information sa...\n",
       "2999    flipkart flipkart india want sell product tami...\n",
       "Name: clean_tweets, Length: 3000, dtype: object"
      ]
     },
     "execution_count": 15,
     "metadata": {},
     "output_type": "execute_result"
    }
   ],
   "source": [
    "flipkart_tweets_df.clean_tweets"
   ]
  },
  {
   "cell_type": "code",
   "execution_count": 17,
   "metadata": {},
   "outputs": [],
   "source": [
    "# function to get sentiment\n",
    "def get_sentiment(input_string):\n",
    "    blob = TextBlob(input_string)\n",
    "    sentiment = blob.sentiment.polarity\n",
    "    return sentiment"
   ]
  },
  {
   "cell_type": "code",
   "execution_count": 18,
   "metadata": {},
   "outputs": [],
   "source": [
    "# get sentiment\n",
    "amazon_tweets_df['sentiment'] = amazon_tweets_df['clean_tweets'].apply(get_sentiment)\n",
    "flipkart_tweets_df['sentiment'] = flipkart_tweets_df['clean_tweets'].apply(get_sentiment)"
   ]
  },
  {
   "cell_type": "code",
   "execution_count": 19,
   "metadata": {},
   "outputs": [],
   "source": [
    "# counts\n",
    "amazon_negative_counts = amazon_tweets_df[amazon_tweets_df['sentiment']<0].count()[0]\n",
    "amazon_neutral_counts = amazon_tweets_df[amazon_tweets_df['sentiment']==0].count()[0]\n",
    "amazon_positive_counts = amazon_tweets_df[amazon_tweets_df['sentiment']>0].count()[0]\n",
    "\n",
    "flipkart_negative_counts = flipkart_tweets_df[flipkart_tweets_df['sentiment']<0].count()[0]\n",
    "flipkart_neutral_counts = flipkart_tweets_df[flipkart_tweets_df['sentiment']==0].count()[0]\n",
    "flipkart_positive_counts = flipkart_tweets_df[flipkart_tweets_df['sentiment']>0].count()[0]"
   ]
  },
  {
   "cell_type": "code",
   "execution_count": 20,
   "metadata": {},
   "outputs": [],
   "source": [
    "y_pos = [0,1,2]\n",
    "\n",
    "amazon_counts = [amazon_positive_counts, amazon_neutral_counts, amazon_negative_counts]\n",
    "flipkart_counts = [flipkart_positive_counts, flipkart_neutral_counts, flipkart_negative_counts]"
   ]
  },
  {
   "cell_type": "code",
   "execution_count": 21,
   "metadata": {},
   "outputs": [
    {
     "data": {
      "image/png": "[encoded data removed]",
      "text/plain": [
       "<Figure size 720x360 with 1 Axes>"
      ]
     },
     "metadata": {
      "needs_background": "light"
     },
     "output_type": "display_data"
    }
   ],
   "source": [
    "# plot amazon\n",
    "plt.figure(figsize=(10,5))\n",
    "plt.bar(y_pos, amazon_counts, align='center', alpha=0.5)\n",
    "plt.xticks(y_pos,['Positive','Neutral','Negative'])\n",
    "plt.ylabel('Sentiment')\n",
    "plt.title('Amazon Tweets: Sentiment Counts')\n",
    "plt.show()"
   ]
  },
  {
   "cell_type": "code",
   "execution_count": 22,
   "metadata": {},
   "outputs": [
    {
     "data": {
      "image/png": "[encoded data removed]",
      "text/plain": [
       "<Figure size 720x360 with 1 Axes>"
      ]
     },
     "metadata": {
      "needs_background": "light"
     },
     "output_type": "display_data"
    }
   ],
   "source": [
    "# plot flipkart\n",
    "plt.figure(figsize=(10,5))\n",
    "plt.bar(y_pos, flipkart_counts, align='center', alpha=0.5)\n",
    "plt.xticks(y_pos,['Positive','Neutral','Negative'])\n",
    "plt.ylabel('Sentiment')\n",
    "plt.title('Flipkart Tweets: Sentiment Counts')\n",
    "plt.show()"
   ]
  },
  {
   "cell_type": "code",
   "execution_count": 25,
   "metadata": {},
   "outputs": [],
   "source": [
    "# TF-IDF vectorizer\n",
    "vectorizer1 = TfidfVectorizer(ngram_range=(2,2),\n",
    "                             max_features=100,\n",
    "                             min_df=0.01,\n",
    "                             max_df=0.80)\n",
    "\n",
    "vectorizer2 = TfidfVectorizer(ngram_range=(2,2),\n",
    "                             max_features=100,\n",
    "                             min_df=0.01,\n",
    "                             max_df=0.80)"
   ]
  },
  {
   "cell_type": "code",
   "execution_count": 26,
   "metadata": {},
   "outputs": [
    {
     "data": {
      "text/plain": [
       "<694x72 sparse matrix of type '<class 'numpy.float64'>'\n",
       "\twith 1510 stored elements in Compressed Sparse Row format>"
      ]
     },
     "execution_count": 26,
     "metadata": {},
     "output_type": "execute_result"
    }
   ],
   "source": [
    "# call\n",
    "vectorizer1.fit_transform(amazon_tweets_df['clean_tweets'])\n",
    "vectorizer2.fit_transform(flipkart_tweets_df['clean_tweets'])"
   ]
  },
  {
   "cell_type": "code",
   "execution_count": 28,
   "metadata": {},
   "outputs": [
    {
     "data": {
      "text/plain": [
       "<wordcloud.wordcloud.WordCloud at 0x26e0f0d3f48>"
      ]
     },
     "execution_count": 28,
     "metadata": {},
     "output_type": "execute_result"
    }
   ],
   "source": [
    "# build a word cloud of top 25 words from amazon tweets\n",
    "\n",
    "top_n= 25\n",
    "indices = vectorizer1.idf_.argsort()[::-1] # sort by TF-IDF\n",
    "features = vectorizer1.get_feature_names() # word list\n",
    "top_features = [(features[i], vectorizer1.idf_[i],i)\n",
    "               for i in indices[:top_n]]\n",
    "\n",
    "d1 = {}\n",
    "for i in top_features:\n",
    "    d1[i[0]] = i[1]\n",
    "    \n",
    "w1 = WordCloud(background_color='white',\n",
    "             max_words=200,\n",
    "             max_font_size=200,\n",
    "             height=2000,\n",
    "             width=2000,\n",
    "             colormap='rainbow').fit_words(d1)\n",
    "\n",
    "w1.to_file('amazon_tweets.png')"
   ]
  },
  {
   "cell_type": "markdown",
   "metadata": {},
   "source": [
    "<img src='amazon_tweets.png'>"
   ]
  },
  {
   "cell_type": "code",
   "execution_count": 29,
   "metadata": {},
   "outputs": [
    {
     "data": {
      "text/plain": [
       "<wordcloud.wordcloud.WordCloud at 0x26e0f1c8688>"
      ]
     },
     "execution_count": 29,
     "metadata": {},
     "output_type": "execute_result"
    }
   ],
   "source": [
    "# build a word cloud of top 25 words from flipkart tweets\n",
    "\n",
    "#top_n= 25\n",
    "indices = vectorizer2.idf_.argsort()[::-1] # sort by TF-IDF\n",
    "features = vectorizer2.get_feature_names() # word list\n",
    "top_features = [(features[i], vectorizer2.idf_[i],i)\n",
    "               for i in indices[:top_n]]\n",
    "\n",
    "d2 = {}\n",
    "for i in top_features:\n",
    "    d2[i[0]] = i[1]\n",
    "    \n",
    "w2 = WordCloud(background_color='white',\n",
    "             max_words=200,\n",
    "             max_font_size=200,\n",
    "             height=2000,\n",
    "             width=2000,\n",
    "             colormap='rainbow').fit_words(d2)\n",
    "\n",
    "w2.to_file('flipkart_tweets.png')"
   ]
  },
  {
   "cell_type": "markdown",
   "metadata": {},
   "source": [
    "<img src='flipkart_tweets.png'>"
   ]
  },
  {
   "cell_type": "code",
   "execution_count": null,
   "metadata": {},
   "outputs": [],
   "source": []
  }
 ],
 "metadata": {
  "kernelspec": {
   "display_name": "Python 3",
   "language": "python",
   "name": "python3"
  },
  "language_info": {
   "codemirror_mode": {
    "name": "ipython",
    "version": 3
   },
   "file_extension": ".py",
   "mimetype": "text/x-python",
   "name": "python",
   "nbconvert_exporter": "python",
   "pygments_lexer": "ipython3",
   "version": "3.7.4"
  }
 },
 "nbformat": 4,
 "nbformat_minor": 2
}
