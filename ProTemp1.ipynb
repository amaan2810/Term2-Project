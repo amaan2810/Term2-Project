{
 "cells": [
  {
   "cell_type": "code",
   "execution_count": 1,
   "metadata": {},
   "outputs": [],
   "source": [
    "from requests_oauthlib import OAuth1"
   ]
  },
  {
   "cell_type": "code",
   "execution_count": 2,
   "metadata": {},
   "outputs": [],
   "source": [
    "import requests\n",
    "import bs4\n",
    "from bs4 import BeautifulSoup"
   ]
  },
  {
   "cell_type": "code",
   "execution_count": 3,
   "metadata": {},
   "outputs": [],
   "source": [
    "auth_params = {\n",
    "    'app_key':'hz76GGcveHsN26QvAcTHhDVnn',\n",
    "    'app_secret':'hrBmAzughGzIV7oMvYnMb3JqXBEa4nXnrhzNSDQ7pTPnjaxi4n',\n",
    "    'oauth_token':'2547850260-3sVyHvzTYVTME2OEKhr9XEaZJ60eVvmSTMDwFDr',\n",
    "    'oauth_token_secret':'CRJmrH50FcbMAvDrguTTmgrQwVp81avbLJKCXzulV1d2B'\n",
    "}\n",
    "\n",
    "# Creating an OAuth Client connection\n",
    "auth = OAuth1 (\n",
    "    auth_params['app_key'],\n",
    "    auth_params['app_secret'],\n",
    "    auth_params['oauth_token'],\n",
    "    auth_params['oauth_token_secret']\n",
    ")"
   ]
  },
  {
   "cell_type": "code",
   "execution_count": 4,
   "metadata": {},
   "outputs": [],
   "source": [
    "# url according to twitter API\n",
    "url_rest = \"https://api.twitter.com/1.1/search/tweets.json\"\n",
    "\n",
    "# getting rid of retweets in the extraction results and filtering all replies to the tweet often uncessary for the analysis\n",
    "q = '%40amazonIN -filter:retweets -filter:replies' # Twitter handle of Amazon India\n",
    "\n",
    "# count : no of tweets to be retrieved per one call and parameters according to twitter API\n",
    "params = {'q': q, 'count': 100, 'lang': 'en',  'result_type': 'recent'}\n",
    "results = requests.get(url_rest, params=params, auth=auth)"
   ]
  },
  {
   "cell_type": "code",
   "execution_count": 66,
   "metadata": {},
   "outputs": [],
   "source": [
    "p = '%40Flipkart -filter:retweets -filter:replies'\n",
    "params2 = {'q': p, 'count': 1000, 'lang': 'en',  'result_type': 'recent'}\n",
    "results2 = requests.get(url_rest, params=params2, auth=auth)"
   ]
  },
  {
   "cell_type": "code",
   "execution_count": 63,
   "metadata": {
    "collapsed": true
   },
   "outputs": [
    {
     "name": "stdout",
     "output_type": "stream",
     "text": [
      "['Download @amazonIN app now, play and win contest #AmazonFossilValentinesQuiz @amazon https://t.co/6b2oXQ23tD', 'Download @amazonIN app play and win contest #AmazonPaySpinAndWin @amazon https://t.co/6ue4tq2jda', 'I got this product yesterday delivered to my hostel and the product is damage after requesting return now they said… https://t.co/XTljB1bXH3', 'Order no. 408-7027865-7502737\\nOrder on 05/02/20\\nYour delivery executive behaved very badly with my family member… https://t.co/ULhts4L2PD', '#AmazonPaySpinAndWin\\n@amazonIN \\nHere I go of my spin. And correctly answered.\\nDo remember me when you announce. https://t.co/3rQ0zkNOZX', \"I got the #safari #safaribags from @amazonIN @amazon it's awesome 42Liter #travel bag. Outer material is good but i… https://t.co/GXzzCSJpBI\", 'If you are searching for your\\n\\n#ValentinesDay Date on @amazonIN then you need serious relationship advice!!!… https://t.co/JoLyGihVjK', 'Hey @amazonIN can u tell me plz why these offers not working... https://t.co/tTVCRQ08ZN', 'Hey @manukumarjain & @MiTVIndia 23rd Jan 2020 ko I\\'ll order Mi TV 4X 50\" from @amazonIN & installation complete on… https://t.co/2ciaFsR6zp', 'Thank you @amazonIN for giving the opportunity. \\n#AmazonBetterIndiaQuiz https://t.co/w41znbzns7', 'Comfortable and safe.\\n\\nMi AirPop Anti-Pollution Mask purifies air with 4-layers of advanced filtration and helps yo… https://t.co/zV2kNiMqy0', 'Rush now to buy @PCChandraJwelrs #Gold & #Diamond jewellery from @amazonIN and avail exciting offers like -\\n\\n- 10%… https://t.co/fzrt8fCsrw', 'Buy @Fastrack Red Casual Backpack (29.82 Ltrs) for Rs.1265 on @amazonIN \\nhttps://t.co/zUlqnT1CSv\\n\\n#shop #deals… https://t.co/QaeYmp44pr', 'The Murder of Sonia Raikkonen by Salil Desai #BookReviews #PoliceProcedural \\n https://t.co/2CakWaT3K9 \\n @fingerprintp @amazonin', '.@amazonIN said that the order issued by @CCI_India “has been passed without application of mind” and will cause ir… https://t.co/A6MASbaahJ', 'Thank you so much .@amazonIN .@AmazonINoffers\\nfor this amazing gesture. Truly touched. #cashback #wow 🙄 https://t.co/xRRLJirMMO', '#coronavirus \\n@amazonIN any restrictions put on sellers who are selling china manufactured items, what kind of prec… https://t.co/llR3B3O65q', 'Go sharp! It’s a way of luxury living‼ #XmateBeardTrimmer \\n\\nAvailable on @amazonIN \\n\\n#XmatePersonalCare… https://t.co/BX19aNg10h', \"Now it's the 2nd time.....u guys did something which is not acceptable.... Firstly your customer executive said tha… https://t.co/nZegrLqWx1\", '#AmazonPaySpinAndWin\\n@amazonIN \\nDone https://t.co/SaWCSTJzAw', '.@Xiaomi #Redmi9 teaser page live on @amazonIN; design, and battery capacity hinted. @RedmiIndia @XiaomiIndia… https://t.co/pxu7KuSDsk', 'Vinod Nagwanshi\\nvinod.nagwanshi@yahoo.com\\n#AmazonWheelOfLove\\n@PiratesOfAmazon @amazonIN\\nAll Answers Submitted Corre… https://t.co/twIJ25m3CQ', 'Vinod Nagwanshi\\nvinod.nagwanshi@yahoo.com\\n#AmazonFossilValentinesQuiz\\n@PiratesOfAmazon @amazonIN\\nAll Answers Submit… https://t.co/7KWfz9xxLA', 'Vinod Nagwanshi\\nvinod.nagwanshi@yahoo.com\\n#AmazonPaySpinAndWin\\n@PiratesOfAmazon @amazonIN\\nAll Answers Submitted Cor… https://t.co/2mEIMwSuHg', 'Dear @JeffBezos @amazonIN @awscloud @amazonindiasell  @  I am seller on Amazon India. I have a serious issue from l… https://t.co/oHyMq4u8p8', 'Comfortable and safe.\\n\\nMi AirPop Anti-Pollution Mask purifies air with 4-layers of advanced filtration and helps yo… https://t.co/RLNslYi5DF', '.@AmitAgarwal addressing @amazonIN leaders in an interactive session on the importance of self improvement and care… https://t.co/ysdLGB7Qjo', 'Dear @amazonIN please confirm any services are activated with 9515515566 because every month 129 rupees getting deducted', 'Vinod Nagwanshi\\nvinod.nagwanshi@yahoo.com\\n#AmazonBetterIndiaQuiz\\n@PiratesOfAmazon @amazonIN\\nAll Answers Submitted C… https://t.co/OEKnu4pLRZ', '#AmazonBetterIndiaQuiz\\n\\nAll Answers Submitted Correctly.\\nI am eligible to win Rs.15,000*\\nHOPE I WIN...\\n@amazonIN… https://t.co/usKaJCjjpq', 'hey @Uber_India, @amazonIN and @dominos_india haaaaaaaave you met @getsimpl', 'Amazon Pay ICICI Credit Card Application Approval is Pending..Hope you guys will help me . @ICICIBank_Care @amazonIN', 'Thanks Very much \\n@amazonInQuiz \\n@amazonIN \\n#AmazonBetterIndiaQuiz https://t.co/j9K2x2ynRt', 'AYUSEARCH HERBAL TOOTHPASTE Ayusearch https://t.co/M3gM5fZGVV via @amazonIN', 'Direx Tablet,60 tab Ayusearch https://t.co/vXYA9QZbVe via @amazonIN', 'Hemidex Capsule 100 Caps Ayusearch https://t.co/asR2JwwfA1 via @amazonIN', 'Ocicof -H Syrup 100ml Set of 6 Ayusearch https://t.co/ncJMYYroRn via @amazonIN', '#AmazonWheelOfLove\\n@amazonIN \\nHope to win https://t.co/GENtbPhEtA', 'Anabac Capsule, 10 * 10 Capsule, Useful in Sinus, Tonsilitis, Respiratory t... https://t.co/Yj5CU6vZMk via @amazonIN', 'News Flash: @AmazonIN seeks stay on CCI probe into alleged anti-competitive practices by e-commerce players https://t.co/GkjeQdKyl8', '40% off Lightning deal @amazonIN for the next 3 hours: https://t.co/ucaFKtztzT - grab your copy now! #startups #books', '#CNBCTV18Exclusive | Sources tell @MugdhaCNBCTV18 that @amazonIN has filed writ petition in Karnataka High Court fo… https://t.co/TQt8kXOwgH', 'Hello @amazonIN , can you help me to arrange my docket 2004882848 on order number 405-0005712-9889910.\\n\\n@amazon https://t.co/xTaCD69ddQ', 'Keeping your #EveryDayCarry elegant!\\n\\nAvailable on @amazonIN.\\n\\nShop Now: https://t.co/gd4GIoL4Ca\\n\\n#DeinKleider… https://t.co/yNrtHHUFmY', 'Smile moment of the day!! Got this with my amazon delivery. Ty @amazonIN for connecting small creative businesses w… https://t.co/1xuSvGBF9V', '#AmazonPaySpinAndWin \\nIm Eligible lets see what happens\\nI have never won but lets see 🤞\\n@amazonIN @amazon @AmazonUK… https://t.co/bUVqJbyep2', 'Amazon Web Services to invest $1.5 b for two data centres in India: https://t.co/rKOZcTdVaL\\n@amazon @awscloud… https://t.co/xn8LCjhNuU', 'Hey @amazonIN, Just got a call from a Call center employee (with bad language) who claiming to an Amazon employee.… https://t.co/9Q41cqyl1A', 'The furniture category remains a tough nut to crack for e-commerce players @Flipkart @amazonIN @Pepperfry… https://t.co/Ds5GAdfu9n', \"Worst service by @amazonIN seller support. Our orders aren't being picked up at all & we're being charged for it.… https://t.co/Vur36NCXBG\", 'But till today, this amt has not been credited to my A/c. \\n@amazonIN  and @TheOfficialSBI both are blaming each oth… https://t.co/J4I9eT6lNo', 'Hello @OnePlus_Support @OnePlus_IN Can i use Type-c to HDMI adaptor on #oneplus7 ? Is this adaptor will support on… https://t.co/AuTb40tLO4', '. @amazonIN @AmazonNews_IN @AmazonHelp Look at the way our fragile and valuable product is being thrown during pick… https://t.co/cz2EueltQv', \".@amazonIN @AmazonHelp\\nis this how you're supposed to deliver a book? The cover is in such a bad shape, doesn't loo… https://t.co/9GJ1UbsOoq\", 'late delivery, broken product, low quality, untrustworthy seller, fake product, expensive...never heard of it, I us… https://t.co/r0Em6sqA8H', 'HEY @Uber_India, @amazonIN, @NetflixIndia and @oyorooms Y U NO @getsimpl  #KeepItSimpl', \"What pathetic service offered by @amazonIN. Ordered @Lenovo received @Dell laptop! It's an expensive one, yet tryin… https://t.co/SsaoP1ypVo\", 'If @amazonIN begins this service in India, will the VHP rise up in protest or will they welcome it? #JustAsking https://t.co/VFfcLsJAkY', \"Amid growing concerns for corona outbreak, Amazon has declared that it won't be attending the Mobile World Congress… https://t.co/qkLnGwOkO3\", '#AmazonFossilValentinesQuiz @amazonIN  all answers got correct https://t.co/bt6RIGkQI3', 'Amazon Prime Membership At No Extra Cost, Website Says So, But Charges Levied @airtelindia @TelecomTalk… https://t.co/bYeQLQSn3d', 'hey \\n@amazonIN, why no inox theatre in your list of cinemas?? #lucknow \\n@bookmyshow https://t.co/OIzCRZFJEe', 'Dollhouse Miniature Furniture Cruel Torture Electric Chair 1/12 Scale  https://t.co/H6JqSyTWOY @amazonIN 님이 공유', 'No @inoxmovies cinema in your cinema list @amazonIN? @bookmyshow plz look into this! \\n #indore  #bookmyshow # inox', 'hey @Uber_India, @amazonIN, @myntra, @dominos_india, @NetflixIndia, @hotstartweets, @oyorooms and @jiosaavn haaaaaa… https://t.co/Jf6x6Voogt', 'No @inoxmovies cinema in your cinema list @amazonIN? @bookmyshow plz look into this! #indore', '#AmazonBetterIndiaQuiz \\n@amazonIN \\nThanks for selecting me for the lucky draw hope i will some of the contest soon. https://t.co/25zPmdwbcN', 'Paliwal Jewellers S999 Pure Silver Spoon- (Standard, Silver) BIS Hallmarked... https://t.co/uCXrosfvcO via @amazonIN', 'hey @amazonIN, why no inox theatre in your list of cinemas?? #lucknow @bookmyshow https://t.co/RI7NPESHIl', 'Operationalized: 260 heli routes\\nhttps://t.co/1pJVKhJLDT\\n@ExportersIndia @ExportWW @IndiaEximBank @EximBankUS… https://t.co/hgeuiGq6J1', 'Once we accept everything as His gift, we are in tune with His will.\\nOnce we are in sync with His will, we are at p… https://t.co/nsSSip5MIQ', '#AmazonPaySpinAndWin @amazonIN \\n\\nWill I seriously get this 50k ? https://t.co/jdbYXQbfAl', 'Ordered one trampoline (order no 406-3191454-1176356). This is to just inform you that many of my friends who have… https://t.co/OBPXUOlhby', 'Fingers crossed to win this @Fossil watch. Wanna gift it to my brother and @amazonIN came up with this amazing quiz… https://t.co/iFSm6ml8Na', 'Beware from this @AmazonHelp @amazonIN #OnlineFraud https://t.co/V8fgp9Ky0A', 'Thanks for this Quiz @amazonIN \\n\\n#QuizTimeMorningsWithAmazon https://t.co/boiiWW2veI', '#QuizTimeMorningsWithAmazon \\n@amazonIN \\nThanks for selecting me for the lucky draw hope i will some of the contest… https://t.co/HjfA7gLnA2', '#AmazonWheelofLove\\n@amazonIN  \\nThanks for selecting me for the lucky draw hope i will some of the contest soon https://t.co/dBY8n0VkQ5', '#QuizTimeMorningsWithAmazon \\n@amazonIN \\nDone https://t.co/nDvE1CcdbM', '#AmazonPaySpinAndWin\\nHope to win it @amazonIN @amazonquiz_IN https://t.co/v0AGrSbMLd', 'On 22nd jan while rcving a prdct ordrd thu @amazonIN by my elder brother, I paid Rs. 1494 via @NPCI_BHIM app to the… https://t.co/IxOMllvmPv']\n"
     ]
    }
   ],
   "source": [
    "tweets = results.json()\n",
    "\n",
    "messages = [BeautifulSoup(tweet['text'], 'html5lib').get_text() for tweet in tweets['statuses']]\n",
    "print(messages)"
   ]
  },
  {
   "cell_type": "code",
   "execution_count": 67,
   "metadata": {
    "collapsed": true
   },
   "outputs": [
    {
     "name": "stdout",
     "output_type": "stream",
     "text": [
      "['Where is my order, always I am facing issue on Flipkart, I have orders regularly from Flipkart I am a regular custo… https://t.co/urStRR5Y6z', 'Please be informed that @Flipkart sells stale sweets with fungal infestation on its website and when customer reque… https://t.co/Wewt7IO7PE', 'Reply Received from @flipkartsupport ,\\nIf option to remove UPI Address is not Available then why are you storing Pa… https://t.co/kmuIp7yDbx', 'Dear @Flipkart why not available \\nAmul butter ?', 'Worst Service From flipkart.There is no importance for them that you are a plus member. They have no control over t… https://t.co/M57TuHSBK1', \"What the heck is this, @flipkart won't reflect the money I paid and then they will charge late fee. Is this how you… https://t.co/vJ7KJeQhLQ\", 'Hello @Flipkart @flipkartsupport I ordered  a jacket from you and I got the different one so I request refund for t… https://t.co/kNNoHUB5CH', 'Thank you @Flipkart  for your honesty!❤️ https://t.co/tiRavJQlw8', \"Hey @Flipkart need your help..\\nIt's urgent\", 'Order ID-0D116602674017555000\\n Within 3 month  of  purchase,right bud is not working.I had contacted service center… https://t.co/6MCXhK1fAN', 'Dear @Flipkart  how much time it will take to resolve my issue. Also I have reordered by paying full amount as per… https://t.co/VqKZSNH9SY', 'hi @Flipkart  i need your help', 'Very Bad Customer And Shipping Service @Flipkart \\nI Have Order My Product 25-01-2020 but @Flipkart Deleviry Boy Did… https://t.co/rJPw2lcqOR', '#Featured on @yourstory - How a successful tech professional returned home to Tiruppur and overhauled his small fam… https://t.co/d1mc5NwptL', 'Riddle1⃣27 Watt fast charging\\n\\n#POCOX2 #SmoothAF \\n@IndiaPOCO @Flipkart https://t.co/ujJqd51xpf', 'it really irrating i did not get sny help so far @Flipkart @walmart\\nas my account is blocked and i did not get any help', 'Buy @RedmiIndia Note 7 Pro (Neptune-Blue) just for Rs.9999 on @Flipkart \\n\\nhttps://t.co/dLtarM9j8k\\n\\n#shop #discounts… https://t.co/v1nlMmI8N0', '.@NuShakti – a Royal @DSM brand – has entered the burgeoning multitrillion-dollar e-commerce space by partnering wi… https://t.co/5P0h3Wbql4', 'How should i get Asus Rog 2 as @Flipkart is not delivering at any location in whole India.\\nPlease help ASAP… https://t.co/CnoQKpNejM', \"Featured on @CNBCTV18News's Inspirational Brands - #MakeInIndia, follow the journey of @Flipkart and the innovation… https://t.co/Vo5Rw1BbFi\", 'Watch a series of extraordinary stories based on our ordinary, but beautiful lives. Zindagi inShort, releasing on 1… https://t.co/3OJu1F7f2i', 'Help @flipkart.\\n i need your help', \"And we're here with the 2nd last riddle!\\nFast and furious,\\nMaking everyone curious.\\n\\nSend your answers tagging… https://t.co/AAy3o491rM\", \"We're here with the 3rd riddle!\\nFlow and steady wins the race.\\nIf I were you, I would simply be amazed.\\n\\nSend your… https://t.co/YKhiMlMElb\", 'I ordered an @Reebok track pant from flipkart with FAssured and what i got is some torn product wich is not from… https://t.co/Op7xnWITkw', 'Hey POCO fans! #SmoothAF and #POCOX2 are now trending at #2 and #3 in India. This is awesome. Can we make it #1?\\n\\nV… https://t.co/L4UCT2Drxu', 'Our vanity is all decked up with bestsellers from @facescanada. Celebrate Valentine’s day with up to 50% off on all… https://t.co/lvCIHBUk4G', 'Riddle1⃣27 Watt fast charging\\n\\n#POCOX2 #SmoothAF \\n@IndiaPOCO @Flipkart https://t.co/ng1YYiY48m', 'Here comes the 2nd one!\\nI see you at your best and worst.\\nNot to judge but I am your must.\\n\\nSend your answers taggi… https://t.co/dsYP5XQNBF', 'Colour for every mood. 💁\\nShop your favourite shade from : https://t.co/be7RCeviD8\\nAlso available at : @mynykaa… https://t.co/lKdA59640E', 'From 20 orders a day to 240K orders a month, how this Tiruppur-based garment manufacturing business built a success… https://t.co/HBtXz5xcQv', \"Here's the 1st one!\\nWatt in the name of God is this speed?\\n\\nSend your answers tagging @IndiaPOCO with # tag #POCOX2… https://t.co/BKXn2yNbTH\", 'The furniture category remains a tough nut to crack for e-commerce players @Flipkart @amazonIN @Pepperfry… https://t.co/Ds5GAdfu9n', '@  I am order Nova hair dryer when I open the box I am totally shocked..  I am very disappointed with you.  guys or… https://t.co/n0f2BJ5fOh', 'Presenting the Quad Camera leap to exciting offers!\\n-Flat ₹500 Off on #realme5\\n-Flat ₹1,000 Off on #realme5Pro\\n-10%… https://t.co/PQM63u1RqL', 'Helllo @amazonb nd\\n@Flipkart\\nPlzzzz send lots of truck burnal Addressa @\\n\\n@RealVinduSingh   @imanveergurjar… https://t.co/3j0G42RBe5', 'Need correction @Flipkart @cmanmohan @IndiaPOCO https://t.co/5tyWjcFGLK', '#MicromaxYuAce, Canvas Infinity, Spark Go get discount on @Flipkart: Check out offers from @Micromax_Mobile… https://t.co/skwTEjEa5p', 'Proud to introduce \"author\" @Esha_Deol for her book #ammamia published by @PenguinIndia Its an awesome book with su… https://t.co/Jv8Sj8KqEH', '#Realme Days sale starts today: Check deals on Realme X2 Pro, Realme 5 Pro, Realme C2 and more \\n\\n#RealmeDays… https://t.co/fiQoAYKeuk', 'I have no problem in cancellation of my account. whatsoever my order is cancelled.\\n\\nBUt why my account is blocked.?… https://t.co/T8ebZ3tNJY', \"Purchased an iPhone dated 9 October 2019 from Flipkart.\\nMy product isn't working properly and the customer care exe… https://t.co/od3nm7woQE\", \"Received a bad quality product from Flipkart and and got rejected my return request.\\n\\nEven i can't share my feedbac… https://t.co/oSQZlvSUFs\", 'HEllo \\n@Flipkart, \\n@walmartindia\\n \\nplease help me to  unblock my account.\\ni really want to buy something from flipk… https://t.co/YxbwgA25VW', 'Flipkart is fraud.. In sales offer selling damaged n worthless product @Flipkart @flipkartsupport @wastofmomey', 'Yes, pls clear this ASAP @IndiaPOCO @cmanmohan @Flipkart https://t.co/DhaPVDjc8G', 'Exactly!!! Will people get 1000 Rs off on Debit card as well or not? @cmanmohan @IndiaPOCO @Flipkart https://t.co/cBPD5MJLIa', \"I can't able to return which i ordered in the flipcart @Flipkart https://t.co/E0qU4UAdow\", 'Dear @Flipkart , I had ordered Boat Rockere 255F while 255R was delivered to me which connects only 1 bluetooth dev… https://t.co/RqF4zYT7UC', 'https://t.co/wzXxyfLiyH\\nIf this YouTube video is right then india is going to be next biggest scam after 2001.… https://t.co/4oQun7PrdQ', 'Operationalized: 260 heli routes\\nhttps://t.co/1pJVKhJLDT\\n@ExportersIndia @ExportWW @IndiaEximBank @EximBankUS… https://t.co/hgeuiGq6J1', 'I have placed an earphone on Flipkart, and the order is in my city going from one place to another place from last… https://t.co/XhTNJtb1wI', 'Clearly a bad product, @Flipkart and @Nokia are both stuck and they would rather have the customers take the hit! https://t.co/HalmAn08ud', '#realmeC3 G70 processor with Mali G52 GPU.\\n #EntertainmentKaSuperstar home in the sale at 12 PM, 14th Feb on… https://t.co/IaClAkQOr6', 'Lifelike graphics, made to impress the gamer in you.\\n#realmeC3 comes packed with World’s First MediaTek Helio G70 p… https://t.co/NMURI3duue', 'Complete plastic ban is an impossible task @ present scenario because there is no exact replacement 4 many. But it’… https://t.co/01aLy5Ha2r', 'Problem facing since bought the product from 2gud. Problem not resolved. And now said visit our service center. Thi… https://t.co/C4wICIRT4b', 'Hii @Flipkart affiliate i am facing technical error from 2months my bank account details is not verified yet it alw… https://t.co/MvNaIK2Drw', '.@Flipkart Video is all set to launch another original #ZindagiinShort on 19 February. \\n\\nhttps://t.co/dUqHPbAOlp', 'Flipkart no change language\\nMy internet speed 50 Mbps \\nNo internet problem\\n@Flipkart \\n@flipkartsupport https://t.co/9lXpHkYNjj', 'Why did you people sell a duplicate @FlyingMachine80 bag caliming it to be original @Flipkart', 'I ♥ this product on Flipkart! 22K Solid Men & Women Black Track Pants https://t.co/hA3gvp0znl #buyonflipkart via @Flipkart', \"Here's #B2CECommerce!! The Online Shopping Boom Over The Internet!! Explained-  https://t.co/g4Sk7bQB9q \\n\\nVia… https://t.co/SUO0glHfTp\", 'REMINDER-104!!!\\nCENTURY OF REMINDERS\\nSHAMELESS-CHEAT-FRAUDSTER @Flipkart !! \\nOWNED BY @Walmart & ZERO SHAME!!!\\nNO R… https://t.co/wKVB3E34TR', 'Different two statements from #Flipkart \\nHe show me courier details but on web not mention the details..… https://t.co/97L0Vcy5Xo', 'this is how @MiTVIndia @XiaomiIndia do installation. \\n\\nit breaks things with hammer drill.\\n\\nand when you call they… https://t.co/oqeGAqwOcy', 'I thought you just told the origin story of @Flipkart , No matter how bad their services have gone. I will always r… https://t.co/0VuNkwka4n', 'this is to remind u abt my cmplain regarding order  in which u told me to cont. u today & snd a mail to u regading… https://t.co/yI7dfrXzDJ', \"Don't trust flipcart policies at the end they can't provide you solution and requested to visit service centre. Fra… https://t.co/0g1yBgmnVF\", 'Dear @Flipkart @flipkartsupport \\n\\nKindly help me to receive this product by 12th or max 13th feb. Before 2 pm, As o… https://t.co/NH5h9jFjbl', 'Aesthetics beyond ordinary.\\nThe #EntertainmentKaSuperstar, #realmeC3 comes with a 12+2MP AI Dual Rear Camera arrang… https://t.co/7dBBCMZzST', 'This is reason why i am loosing trust from @Flipkart they just cancel the order like they are the boss. But Gandhi… https://t.co/jWa0OU261b', \"Ordered Manorama Yearbook 2020 and got this. What's wrong with you guys? What's happening? @Flipkart https://t.co/yToxWUEklM\", \"Sir my product pickup successfully but i can't get refund\\nWhen will i get refund\\n\\nI cannot login my account\\nI am yo… https://t.co/QPVASVNCJT\", 'Hello @Flipkart can you help me', 'Hey @Flipkart @flipkartsupport, I want to close my pay later account as it shows as personal loan on my credit history.', 'Hi, to everyone I want to share my experience in Flipkart. I purchased a mixer grinder from @Flipkart. They send me… https://t.co/BlBOSjE3nO', 'Purchased vivo v15 pro smartphone from @Flipkart but the same consists of scratches over back panel and company sup… https://t.co/EXm9RRweVf', \"#fraudflipkart Flipkart cheats @Flipkart @flipkartsupport Don't buy anything from Flipkart. Flipkart sells duplicat… https://t.co/nMZCw9ANXk\", 'I placed an order from Flipkart and gave it a 30-day return policy, but now my account was blocked by Flipkart and… https://t.co/0G0ey3Q7fC', 'Hey @amazonIN , @Flipkart \\nI need a loyal & a caring girlfriend but this  item is not available on your website. Pl… https://t.co/xxWAqpGZY4', 'I paid this amount to flipcard pay later from my flipcad id is 8979909434. But my amount is debited from my bank ac… https://t.co/MyhivNea8l', 'Dear @Flipkart here you have a chance to beat your competitor @amazonIN @AmazonHelp, delivery system tis their weak… https://t.co/RY6bPMI1th', \"Flipkart not responding customer question, they now they didn't told solution to reactivate my flipkart account. Wo… https://t.co/Iy4tTl3hoy\", 'These e-commerce co. cheating innocent indians with lots of fake promises from his website with his replacement or… https://t.co/sL9NuIFDzk', 'Here’s @Gadget_Gig reviewing the latest MarQ By Flipkart Falkon Aerbook powered by the Intel Core i5 8th Gen proces… https://t.co/5KRVtHzxPX', 'Interesting @sharechatapp launches its own gaming platform \"Jeet11\"; love to see how this one plays out. \\n\\nIf the i… https://t.co/5OKA7vidDC', 'Date change karne ki ninja technique! I’ve heard people getting paid for reporting bugs.. hope I get too 🙈… https://t.co/hQUQ0jXiIx', 'I ♥ this product on Flipkart! TECH-U sa01 1 m AUX Cable https://t.co/oMnuTeoibV #buyonflipkart via @Flipkart', 'I ♥ this product on Flipkart! U360 Solid Men & Women Black Track Pants https://t.co/cnABwQVPQl #buyonflipkart via @Flipkart', 'When i create a item Missing file they blocked my account.Totally disgusting... Flipkart service is very bad.. Imme… https://t.co/SwWMLN3Xlw', 'My @Flipkart pay later is not working asking me about kyc my pan card, I am not able to submit my pan card to react… https://t.co/ZIcEzGEGkl', 'Success doesn’t come easy, found Hiren Lathiya when he quit his job to become an entrepreneur. But with timely supp… https://t.co/U6ofmt1y97', 'No detail shall be missed on pictures captured by the #EntertainmentKaSuperstar. With a 12+2MP Dual Rear Camera,… https://t.co/r13rKT0Qnr', 'dear @flipkart @flipkartsupport.  rcvd faulty/substandard iphone on 21/01 wid patches&scratches. cmplnt on CC 24, 2… https://t.co/4PD1hr3kCF', \"Dear @Flipkart I ordered a messenger bag on 2nd fab 2020. Still I'm waiting for delivery and also I'm plus member n… https://t.co/xh48QrUXJD\", 'i missed me my all ocasion due to flipkart . there service is worst my product who giving for my fiance bt they not… https://t.co/sRxYUt1LTW', 'Why on earth is @Flipkart selling pirated discs of movies of the @TheConjuring #annabelle franchise bundled with… https://t.co/bT9mYaaW3a', \"Dear @Flipkart please fix your delivery service and train your delivery boys or hire some professional boys. I've c… https://t.co/mFkm8uzmjQ\", 'Connect and control your IoT devices seamlessly with Mi Router 4C.\\n\\nNow available on @Flipkart and @amazonIN. https://t.co/dcTjnwtgY6']\n"
     ]
    }
   ],
   "source": [
    "tweets2 = results2.json()\n",
    "\n",
    "messages2 = [BeautifulSoup(tweet['text'], 'html5lib').get_text() for tweet in tweets2['statuses']]\n",
    "print(messages2)"
   ]
  },
  {
   "cell_type": "code",
   "execution_count": 6,
   "metadata": {},
   "outputs": [
    {
     "name": "stdout",
     "output_type": "stream",
     "text": [
      "[]\n"
     ]
    }
   ],
   "source": [
    "r = '#amazonIN#headphone -filter:retweets -filter:replies'\n",
    "params3 = {'q': r, 'count': 1000, 'lang': 'en',  'result_type': 'recent'}\n",
    "results3 = requests.get(url_rest, params=params3, auth=auth)\n",
    "\n",
    "tweets3 = results3.json()\n",
    "\n",
    "messages3 = [BeautifulSoup(tweet['text'], 'html5lib').get_text() for tweet in tweets3['statuses']]\n",
    "print(messages3)"
   ]
  },
  {
   "cell_type": "code",
   "execution_count": 14,
   "metadata": {},
   "outputs": [],
   "source": [
    "import pandas as pd"
   ]
  },
  {
   "cell_type": "code",
   "execution_count": 19,
   "metadata": {},
   "outputs": [],
   "source": [
    "m = pd.DataFrame({'tweets' : messages})"
   ]
  },
  {
   "cell_type": "code",
   "execution_count": 20,
   "metadata": {},
   "outputs": [
    {
     "data": {
      "text/html": [
       "<div>\n",
       "<style scoped>\n",
       "    .dataframe tbody tr th:only-of-type {\n",
       "        vertical-align: middle;\n",
       "    }\n",
       "\n",
       "    .dataframe tbody tr th {\n",
       "        vertical-align: top;\n",
       "    }\n",
       "\n",
       "    .dataframe thead th {\n",
       "        text-align: right;\n",
       "    }\n",
       "</style>\n",
       "<table border=\"1\" class=\"dataframe\">\n",
       "  <thead>\n",
       "    <tr style=\"text-align: right;\">\n",
       "      <th></th>\n",
       "      <th>tweets</th>\n",
       "    </tr>\n",
       "  </thead>\n",
       "  <tbody>\n",
       "    <tr>\n",
       "      <td>0</td>\n",
       "      <td>#AmazonPaySpinAndWin\\nHope to win it @amazonIN...</td>\n",
       "    </tr>\n",
       "    <tr>\n",
       "      <td>1</td>\n",
       "      <td>On 22nd jan while rcving a prdct ordrd thu @am...</td>\n",
       "    </tr>\n",
       "    <tr>\n",
       "      <td>2</td>\n",
       "      <td>Private investment drying up\\nhttps://t.co/OQC...</td>\n",
       "    </tr>\n",
       "    <tr>\n",
       "      <td>3</td>\n",
       "      <td>today amazonequize \\n@amazon \\n@amazonIN \\n#Qu...</td>\n",
       "    </tr>\n",
       "    <tr>\n",
       "      <td>4</td>\n",
       "      <td>I'm using smart bulb of @Syska_LED since 2 yea...</td>\n",
       "    </tr>\n",
       "    <tr>\n",
       "      <td>...</td>\n",
       "      <td>...</td>\n",
       "    </tr>\n",
       "    <tr>\n",
       "      <td>95</td>\n",
       "      <td>Thanks for this quiz @amazonIN \\n#Quiztimemorn...</td>\n",
       "    </tr>\n",
       "    <tr>\n",
       "      <td>96</td>\n",
       "      <td>#QuizTimeMorningsWithAmazon done @amazonIN htt...</td>\n",
       "    </tr>\n",
       "    <tr>\n",
       "      <td>97</td>\n",
       "      <td>Great opportunity to win @amazonIN \\n#AmazonFo...</td>\n",
       "    </tr>\n",
       "    <tr>\n",
       "      <td>98</td>\n",
       "      <td>Thanks for this quiz @amazonIN \\n#Quiztimemorn...</td>\n",
       "    </tr>\n",
       "    <tr>\n",
       "      <td>99</td>\n",
       "      <td>Hooray! I did it with @amazonIN \\n#QuizTimeMor...</td>\n",
       "    </tr>\n",
       "  </tbody>\n",
       "</table>\n",
       "<p>100 rows × 1 columns</p>\n",
       "</div>"
      ],
      "text/plain": [
       "                                               tweets\n",
       "0   #AmazonPaySpinAndWin\\nHope to win it @amazonIN...\n",
       "1   On 22nd jan while rcving a prdct ordrd thu @am...\n",
       "2   Private investment drying up\\nhttps://t.co/OQC...\n",
       "3   today amazonequize \\n@amazon \\n@amazonIN \\n#Qu...\n",
       "4   I'm using smart bulb of @Syska_LED since 2 yea...\n",
       "..                                                ...\n",
       "95  Thanks for this quiz @amazonIN \\n#Quiztimemorn...\n",
       "96  #QuizTimeMorningsWithAmazon done @amazonIN htt...\n",
       "97  Great opportunity to win @amazonIN \\n#AmazonFo...\n",
       "98  Thanks for this quiz @amazonIN \\n#Quiztimemorn...\n",
       "99  Hooray! I did it with @amazonIN \\n#QuizTimeMor...\n",
       "\n",
       "[100 rows x 1 columns]"
      ]
     },
     "execution_count": 20,
     "metadata": {},
     "output_type": "execute_result"
    }
   ],
   "source": [
    "m"
   ]
  },
  {
   "cell_type": "code",
   "execution_count": 68,
   "metadata": {},
   "outputs": [
    {
     "data": {
      "text/html": [
       "<div>\n",
       "<style scoped>\n",
       "    .dataframe tbody tr th:only-of-type {\n",
       "        vertical-align: middle;\n",
       "    }\n",
       "\n",
       "    .dataframe tbody tr th {\n",
       "        vertical-align: top;\n",
       "    }\n",
       "\n",
       "    .dataframe thead th {\n",
       "        text-align: right;\n",
       "    }\n",
       "</style>\n",
       "<table border=\"1\" class=\"dataframe\">\n",
       "  <thead>\n",
       "    <tr style=\"text-align: right;\">\n",
       "      <th></th>\n",
       "      <th>tweets</th>\n",
       "    </tr>\n",
       "  </thead>\n",
       "  <tbody>\n",
       "    <tr>\n",
       "      <td>0</td>\n",
       "      <td>Where is my order, always I am facing issue on...</td>\n",
       "    </tr>\n",
       "    <tr>\n",
       "      <td>1</td>\n",
       "      <td>Please be informed that @Flipkart sells stale ...</td>\n",
       "    </tr>\n",
       "    <tr>\n",
       "      <td>2</td>\n",
       "      <td>Reply Received from @flipkartsupport ,\\nIf opt...</td>\n",
       "    </tr>\n",
       "    <tr>\n",
       "      <td>3</td>\n",
       "      <td>Dear @Flipkart why not available \\nAmul butter ?</td>\n",
       "    </tr>\n",
       "    <tr>\n",
       "      <td>4</td>\n",
       "      <td>Worst Service From flipkart.There is no import...</td>\n",
       "    </tr>\n",
       "    <tr>\n",
       "      <td>...</td>\n",
       "      <td>...</td>\n",
       "    </tr>\n",
       "    <tr>\n",
       "      <td>95</td>\n",
       "      <td>Dear @Flipkart I ordered a messenger bag on 2n...</td>\n",
       "    </tr>\n",
       "    <tr>\n",
       "      <td>96</td>\n",
       "      <td>i missed me my all ocasion due to flipkart . t...</td>\n",
       "    </tr>\n",
       "    <tr>\n",
       "      <td>97</td>\n",
       "      <td>Why on earth is @Flipkart selling pirated disc...</td>\n",
       "    </tr>\n",
       "    <tr>\n",
       "      <td>98</td>\n",
       "      <td>Dear @Flipkart please fix your delivery servic...</td>\n",
       "    </tr>\n",
       "    <tr>\n",
       "      <td>99</td>\n",
       "      <td>Connect and control your IoT devices seamlessl...</td>\n",
       "    </tr>\n",
       "  </tbody>\n",
       "</table>\n",
       "<p>100 rows × 1 columns</p>\n",
       "</div>"
      ],
      "text/plain": [
       "                                               tweets\n",
       "0   Where is my order, always I am facing issue on...\n",
       "1   Please be informed that @Flipkart sells stale ...\n",
       "2   Reply Received from @flipkartsupport ,\\nIf opt...\n",
       "3    Dear @Flipkart why not available \\nAmul butter ?\n",
       "4   Worst Service From flipkart.There is no import...\n",
       "..                                                ...\n",
       "95  Dear @Flipkart I ordered a messenger bag on 2n...\n",
       "96  i missed me my all ocasion due to flipkart . t...\n",
       "97  Why on earth is @Flipkart selling pirated disc...\n",
       "98  Dear @Flipkart please fix your delivery servic...\n",
       "99  Connect and control your IoT devices seamlessl...\n",
       "\n",
       "[100 rows x 1 columns]"
      ]
     },
     "execution_count": 68,
     "metadata": {},
     "output_type": "execute_result"
    }
   ],
   "source": [
    "m2 = pd.DataFrame({'tweets' : messages2})\n",
    "m2"
   ]
  },
  {
   "cell_type": "code",
   "execution_count": 23,
   "metadata": {},
   "outputs": [],
   "source": [
    "import re\n",
    "import numpy as np\n",
    "import nltk\n",
    "from nltk.corpus import stopwords\n",
    "from nltk.corpus import wordnet\n",
    "from nltk.stem import PorterStemmer\n",
    "from nltk.stem import WordNetLemmatizer\n",
    "from wordcloud import WordCloud\n",
    "import random\n",
    "import glob\n",
    "from textblob import TextBlob\n",
    "import io\n",
    "from sklearn.feature_extraction.text import TfidfVectorizer\n",
    "from sklearn.feature_extraction.text import CountVectorizer\n",
    "from sklearn.metrics.pairwise import cosine_similarity\n",
    "from sklearn.metrics.pairwise import linear_kernel"
   ]
  },
  {
   "cell_type": "code",
   "execution_count": 26,
   "metadata": {},
   "outputs": [],
   "source": [
    "stop_words = list(set(stopwords.words('english')))"
   ]
  },
  {
   "cell_type": "code",
   "execution_count": 22,
   "metadata": {},
   "outputs": [],
   "source": [
    "def cleanse(input_text):\n",
    "    keep_alpha = re.sub(\"[^a-zA-Z]\",\" \",input_text)\n",
    "    remove_extra_spaces = re.sub(\"[\\s]+\",\" \",keep_alpha)\n",
    "    convert_case = remove_extra_spaces.lower()\n",
    "    stop_words_removal = [word for word in convert_case.split()\n",
    "                          if word not in stop_words]\n",
    "    remove_smaller_words = [word for word in stop_words_removal\n",
    "                          if len(word) >=3]\n",
    "    clean_tokens = [word for word in remove_smaller_words\n",
    "                   if 'http' not in word and\n",
    "                   '@' not in word and\n",
    "                   '<' not in word and\n",
    "                   'RT' not in word]\n",
    "    return \" \".join(clean_tokens)"
   ]
  },
  {
   "cell_type": "code",
   "execution_count": 24,
   "metadata": {},
   "outputs": [],
   "source": [
    "lemmatizer = WordNetLemmatizer()\n",
    "\n",
    "def lemmatize(input_text):\n",
    "    lemmas=[]\n",
    "    tokens = input_text.split()\n",
    "    for token in tokens:\n",
    "        tag = nltk.pos_tag([token])[0][1][0].upper()\n",
    "        tag_dict = {\"J\": wordnet.ADJ,\n",
    "                    \"N\": wordnet.NOUN,\n",
    "                    \"V\": wordnet.VERB,\n",
    "                    \"R\": wordnet.ADV}\n",
    "        if tag in tag_dict.keys():\n",
    "            pos = tag_dict[tag]\n",
    "            lemma = lemmatizer.lemmatize(token,pos)\n",
    "            lemmas.append(lemma)\n",
    "        else:\n",
    "            lemmas.append(token)\n",
    "    return \" \".join(lemmas)"
   ]
  },
  {
   "cell_type": "code",
   "execution_count": 27,
   "metadata": {},
   "outputs": [],
   "source": [
    "m['clean_tweets'] = m['tweets'].apply(cleanse)"
   ]
  },
  {
   "cell_type": "code",
   "execution_count": 28,
   "metadata": {},
   "outputs": [],
   "source": [
    "m['clean_tweets'] = m['clean_tweets'].apply(lemmatize)"
   ]
  },
  {
   "cell_type": "code",
   "execution_count": 29,
   "metadata": {},
   "outputs": [
    {
     "data": {
      "text/html": [
       "<div>\n",
       "<style scoped>\n",
       "    .dataframe tbody tr th:only-of-type {\n",
       "        vertical-align: middle;\n",
       "    }\n",
       "\n",
       "    .dataframe tbody tr th {\n",
       "        vertical-align: top;\n",
       "    }\n",
       "\n",
       "    .dataframe thead th {\n",
       "        text-align: right;\n",
       "    }\n",
       "</style>\n",
       "<table border=\"1\" class=\"dataframe\">\n",
       "  <thead>\n",
       "    <tr style=\"text-align: right;\">\n",
       "      <th></th>\n",
       "      <th>tweets</th>\n",
       "      <th>clean_tweets</th>\n",
       "    </tr>\n",
       "  </thead>\n",
       "  <tbody>\n",
       "    <tr>\n",
       "      <td>0</td>\n",
       "      <td>#AmazonPaySpinAndWin\\nHope to win it @amazonIN...</td>\n",
       "      <td>amazonpayspinandwin hope win amazonin amazonqu...</td>\n",
       "    </tr>\n",
       "    <tr>\n",
       "      <td>1</td>\n",
       "      <td>On 22nd jan while rcving a prdct ordrd thu @am...</td>\n",
       "      <td>jan rcving prdct ordrd thu amazonin elder brot...</td>\n",
       "    </tr>\n",
       "    <tr>\n",
       "      <td>2</td>\n",
       "      <td>Private investment drying up\\nhttps://t.co/OQC...</td>\n",
       "      <td>private investment dry oqcn ovrgp exportersind...</td>\n",
       "    </tr>\n",
       "    <tr>\n",
       "      <td>3</td>\n",
       "      <td>today amazonequize \\n@amazon \\n@amazonIN \\n#Qu...</td>\n",
       "      <td>today amazonequize amazon amazonin quiztimemor...</td>\n",
       "    </tr>\n",
       "    <tr>\n",
       "      <td>4</td>\n",
       "      <td>I'm using smart bulb of @Syska_LED since 2 yea...</td>\n",
       "      <td>use smart bulb syska lead since year still wor...</td>\n",
       "    </tr>\n",
       "    <tr>\n",
       "      <td>...</td>\n",
       "      <td>...</td>\n",
       "      <td>...</td>\n",
       "    </tr>\n",
       "    <tr>\n",
       "      <td>95</td>\n",
       "      <td>Thanks for this quiz @amazonIN \\n#Quiztimemorn...</td>\n",
       "      <td>thanks quiz amazonin quiztimemorningswithamazo...</td>\n",
       "    </tr>\n",
       "    <tr>\n",
       "      <td>96</td>\n",
       "      <td>#QuizTimeMorningsWithAmazon done @amazonIN htt...</td>\n",
       "      <td>quiztimemorningswithamazon do amazonin sptgmg</td>\n",
       "    </tr>\n",
       "    <tr>\n",
       "      <td>97</td>\n",
       "      <td>Great opportunity to win @amazonIN \\n#AmazonFo...</td>\n",
       "      <td>great opportunity win amazonin amazonfossilval...</td>\n",
       "    </tr>\n",
       "    <tr>\n",
       "      <td>98</td>\n",
       "      <td>Thanks for this quiz @amazonIN \\n#Quiztimemorn...</td>\n",
       "      <td>thanks quiz amazonin quiztimemorningswithamazo...</td>\n",
       "    </tr>\n",
       "    <tr>\n",
       "      <td>99</td>\n",
       "      <td>Hooray! I did it with @amazonIN \\n#QuizTimeMor...</td>\n",
       "      <td>hooray amazonin quiztimemorningswithamazon ajt...</td>\n",
       "    </tr>\n",
       "  </tbody>\n",
       "</table>\n",
       "<p>100 rows × 2 columns</p>\n",
       "</div>"
      ],
      "text/plain": [
       "                                               tweets  \\\n",
       "0   #AmazonPaySpinAndWin\\nHope to win it @amazonIN...   \n",
       "1   On 22nd jan while rcving a prdct ordrd thu @am...   \n",
       "2   Private investment drying up\\nhttps://t.co/OQC...   \n",
       "3   today amazonequize \\n@amazon \\n@amazonIN \\n#Qu...   \n",
       "4   I'm using smart bulb of @Syska_LED since 2 yea...   \n",
       "..                                                ...   \n",
       "95  Thanks for this quiz @amazonIN \\n#Quiztimemorn...   \n",
       "96  #QuizTimeMorningsWithAmazon done @amazonIN htt...   \n",
       "97  Great opportunity to win @amazonIN \\n#AmazonFo...   \n",
       "98  Thanks for this quiz @amazonIN \\n#Quiztimemorn...   \n",
       "99  Hooray! I did it with @amazonIN \\n#QuizTimeMor...   \n",
       "\n",
       "                                         clean_tweets  \n",
       "0   amazonpayspinandwin hope win amazonin amazonqu...  \n",
       "1   jan rcving prdct ordrd thu amazonin elder brot...  \n",
       "2   private investment dry oqcn ovrgp exportersind...  \n",
       "3   today amazonequize amazon amazonin quiztimemor...  \n",
       "4   use smart bulb syska lead since year still wor...  \n",
       "..                                                ...  \n",
       "95  thanks quiz amazonin quiztimemorningswithamazo...  \n",
       "96      quiztimemorningswithamazon do amazonin sptgmg  \n",
       "97  great opportunity win amazonin amazonfossilval...  \n",
       "98  thanks quiz amazonin quiztimemorningswithamazo...  \n",
       "99  hooray amazonin quiztimemorningswithamazon ajt...  \n",
       "\n",
       "[100 rows x 2 columns]"
      ]
     },
     "execution_count": 29,
     "metadata": {},
     "output_type": "execute_result"
    }
   ],
   "source": [
    "m"
   ]
  },
  {
   "cell_type": "code",
   "execution_count": 30,
   "metadata": {},
   "outputs": [],
   "source": [
    "def get_sentiment(input_string):\n",
    "    blob = TextBlob(input_string)\n",
    "    sentiment = blob.sentiment.polarity\n",
    "    return sentiment\n",
    "\n",
    "m['sentiment'] = m['clean_tweets'].apply(get_sentiment)"
   ]
  },
  {
   "cell_type": "code",
   "execution_count": 31,
   "metadata": {},
   "outputs": [
    {
     "data": {
      "text/html": [
       "<div>\n",
       "<style scoped>\n",
       "    .dataframe tbody tr th:only-of-type {\n",
       "        vertical-align: middle;\n",
       "    }\n",
       "\n",
       "    .dataframe tbody tr th {\n",
       "        vertical-align: top;\n",
       "    }\n",
       "\n",
       "    .dataframe thead th {\n",
       "        text-align: right;\n",
       "    }\n",
       "</style>\n",
       "<table border=\"1\" class=\"dataframe\">\n",
       "  <thead>\n",
       "    <tr style=\"text-align: right;\">\n",
       "      <th></th>\n",
       "      <th>tweets</th>\n",
       "      <th>clean_tweets</th>\n",
       "      <th>sentiment</th>\n",
       "    </tr>\n",
       "  </thead>\n",
       "  <tbody>\n",
       "    <tr>\n",
       "      <td>0</td>\n",
       "      <td>#AmazonPaySpinAndWin\\nHope to win it @amazonIN...</td>\n",
       "      <td>amazonpayspinandwin hope win amazonin amazonqu...</td>\n",
       "      <td>0.800000</td>\n",
       "    </tr>\n",
       "    <tr>\n",
       "      <td>1</td>\n",
       "      <td>On 22nd jan while rcving a prdct ordrd thu @am...</td>\n",
       "      <td>jan rcving prdct ordrd thu amazonin elder brot...</td>\n",
       "      <td>0.000000</td>\n",
       "    </tr>\n",
       "    <tr>\n",
       "      <td>2</td>\n",
       "      <td>Private investment drying up\\nhttps://t.co/OQC...</td>\n",
       "      <td>private investment dry oqcn ovrgp exportersind...</td>\n",
       "      <td>-0.033333</td>\n",
       "    </tr>\n",
       "    <tr>\n",
       "      <td>3</td>\n",
       "      <td>today amazonequize \\n@amazon \\n@amazonIN \\n#Qu...</td>\n",
       "      <td>today amazonequize amazon amazonin quiztimemor...</td>\n",
       "      <td>0.000000</td>\n",
       "    </tr>\n",
       "    <tr>\n",
       "      <td>4</td>\n",
       "      <td>I'm using smart bulb of @Syska_LED since 2 yea...</td>\n",
       "      <td>use smart bulb syska lead since year still wor...</td>\n",
       "      <td>0.409524</td>\n",
       "    </tr>\n",
       "    <tr>\n",
       "      <td>...</td>\n",
       "      <td>...</td>\n",
       "      <td>...</td>\n",
       "      <td>...</td>\n",
       "    </tr>\n",
       "    <tr>\n",
       "      <td>95</td>\n",
       "      <td>Thanks for this quiz @amazonIN \\n#Quiztimemorn...</td>\n",
       "      <td>thanks quiz amazonin quiztimemorningswithamazo...</td>\n",
       "      <td>0.200000</td>\n",
       "    </tr>\n",
       "    <tr>\n",
       "      <td>96</td>\n",
       "      <td>#QuizTimeMorningsWithAmazon done @amazonIN htt...</td>\n",
       "      <td>quiztimemorningswithamazon do amazonin sptgmg</td>\n",
       "      <td>0.000000</td>\n",
       "    </tr>\n",
       "    <tr>\n",
       "      <td>97</td>\n",
       "      <td>Great opportunity to win @amazonIN \\n#AmazonFo...</td>\n",
       "      <td>great opportunity win amazonin amazonfossilval...</td>\n",
       "      <td>0.800000</td>\n",
       "    </tr>\n",
       "    <tr>\n",
       "      <td>98</td>\n",
       "      <td>Thanks for this quiz @amazonIN \\n#Quiztimemorn...</td>\n",
       "      <td>thanks quiz amazonin quiztimemorningswithamazo...</td>\n",
       "      <td>0.200000</td>\n",
       "    </tr>\n",
       "    <tr>\n",
       "      <td>99</td>\n",
       "      <td>Hooray! I did it with @amazonIN \\n#QuizTimeMor...</td>\n",
       "      <td>hooray amazonin quiztimemorningswithamazon ajt...</td>\n",
       "      <td>0.000000</td>\n",
       "    </tr>\n",
       "  </tbody>\n",
       "</table>\n",
       "<p>100 rows × 3 columns</p>\n",
       "</div>"
      ],
      "text/plain": [
       "                                               tweets  \\\n",
       "0   #AmazonPaySpinAndWin\\nHope to win it @amazonIN...   \n",
       "1   On 22nd jan while rcving a prdct ordrd thu @am...   \n",
       "2   Private investment drying up\\nhttps://t.co/OQC...   \n",
       "3   today amazonequize \\n@amazon \\n@amazonIN \\n#Qu...   \n",
       "4   I'm using smart bulb of @Syska_LED since 2 yea...   \n",
       "..                                                ...   \n",
       "95  Thanks for this quiz @amazonIN \\n#Quiztimemorn...   \n",
       "96  #QuizTimeMorningsWithAmazon done @amazonIN htt...   \n",
       "97  Great opportunity to win @amazonIN \\n#AmazonFo...   \n",
       "98  Thanks for this quiz @amazonIN \\n#Quiztimemorn...   \n",
       "99  Hooray! I did it with @amazonIN \\n#QuizTimeMor...   \n",
       "\n",
       "                                         clean_tweets  sentiment  \n",
       "0   amazonpayspinandwin hope win amazonin amazonqu...   0.800000  \n",
       "1   jan rcving prdct ordrd thu amazonin elder brot...   0.000000  \n",
       "2   private investment dry oqcn ovrgp exportersind...  -0.033333  \n",
       "3   today amazonequize amazon amazonin quiztimemor...   0.000000  \n",
       "4   use smart bulb syska lead since year still wor...   0.409524  \n",
       "..                                                ...        ...  \n",
       "95  thanks quiz amazonin quiztimemorningswithamazo...   0.200000  \n",
       "96      quiztimemorningswithamazon do amazonin sptgmg   0.000000  \n",
       "97  great opportunity win amazonin amazonfossilval...   0.800000  \n",
       "98  thanks quiz amazonin quiztimemorningswithamazo...   0.200000  \n",
       "99  hooray amazonin quiztimemorningswithamazon ajt...   0.000000  \n",
       "\n",
       "[100 rows x 3 columns]"
      ]
     },
     "execution_count": 31,
     "metadata": {},
     "output_type": "execute_result"
    }
   ],
   "source": [
    "m"
   ]
  },
  {
   "cell_type": "code",
   "execution_count": 33,
   "metadata": {},
   "outputs": [
    {
     "name": "stdout",
     "output_type": "stream",
     "text": [
      "5\n",
      "39\n",
      "56\n"
     ]
    }
   ],
   "source": [
    "negative_counts = m[m['sentiment']<0].count()[0]\n",
    "neutral_counts = m[m['sentiment']==0].count()[0]\n",
    "positive_counts = m[m['sentiment']>0].count()[0]\n",
    "\n",
    "print(negative_counts)\n",
    "print(neutral_counts)\n",
    "print(positive_counts)"
   ]
  },
  {
   "cell_type": "code",
   "execution_count": 36,
   "metadata": {},
   "outputs": [],
   "source": [
    "y_pos = [0,1,2]\n",
    "counts = [positive_counts,neutral_counts,negative_counts]\n",
    "\n",
    "import matplotlib.pyplot as plt"
   ]
  },
  {
   "cell_type": "code",
   "execution_count": 35,
   "metadata": {},
   "outputs": [
    {
     "data": {
      "image/png": "[encoded data removed]",
      "text/plain": [
       "<Figure size 720x360 with 1 Axes>"
      ]
     },
     "metadata": {
      "needs_background": "light"
     },
     "output_type": "display_data"
    }
   ],
   "source": [
    "plt.figure(figsize=(10,5))\n",
    "plt.bar(y_pos, counts, align='center', alpha=0.5)\n",
    "plt.xticks(y_pos,['Positive','Neutral','Negative'])\n",
    "plt.ylabel('Sentiment')\n",
    "plt.title('Demo')\n",
    "plt.show()"
   ]
  },
  {
   "cell_type": "code",
   "execution_count": 69,
   "metadata": {},
   "outputs": [
    {
     "data": {
      "text/html": [
       "<div>\n",
       "<style scoped>\n",
       "    .dataframe tbody tr th:only-of-type {\n",
       "        vertical-align: middle;\n",
       "    }\n",
       "\n",
       "    .dataframe tbody tr th {\n",
       "        vertical-align: top;\n",
       "    }\n",
       "\n",
       "    .dataframe thead th {\n",
       "        text-align: right;\n",
       "    }\n",
       "</style>\n",
       "<table border=\"1\" class=\"dataframe\">\n",
       "  <thead>\n",
       "    <tr style=\"text-align: right;\">\n",
       "      <th></th>\n",
       "      <th>tweets</th>\n",
       "      <th>clean_tweets</th>\n",
       "      <th>sentiment</th>\n",
       "    </tr>\n",
       "  </thead>\n",
       "  <tbody>\n",
       "    <tr>\n",
       "      <td>0</td>\n",
       "      <td>Where is my order, always I am facing issue on...</td>\n",
       "      <td>order always face issue flipkart order regular...</td>\n",
       "      <td>0.0000</td>\n",
       "    </tr>\n",
       "    <tr>\n",
       "      <td>1</td>\n",
       "      <td>Please be informed that @Flipkart sells stale ...</td>\n",
       "      <td>please inform flipkart sell stale sweet fungal...</td>\n",
       "      <td>-0.0750</td>\n",
       "    </tr>\n",
       "    <tr>\n",
       "      <td>2</td>\n",
       "      <td>Reply Received from @flipkartsupport ,\\nIf opt...</td>\n",
       "      <td>reply receive flipkartsupport option remove up...</td>\n",
       "      <td>0.4000</td>\n",
       "    </tr>\n",
       "    <tr>\n",
       "      <td>3</td>\n",
       "      <td>Dear @Flipkart why not available \\nAmul butter ?</td>\n",
       "      <td>dear flipkart available amul butter</td>\n",
       "      <td>0.4000</td>\n",
       "    </tr>\n",
       "    <tr>\n",
       "      <td>4</td>\n",
       "      <td>Worst Service From flipkart.There is no import...</td>\n",
       "      <td>bad service flipkart importance plus member co...</td>\n",
       "      <td>-0.7000</td>\n",
       "    </tr>\n",
       "    <tr>\n",
       "      <td>...</td>\n",
       "      <td>...</td>\n",
       "      <td>...</td>\n",
       "      <td>...</td>\n",
       "    </tr>\n",
       "    <tr>\n",
       "      <td>95</td>\n",
       "      <td>Dear @Flipkart I ordered a messenger bag on 2n...</td>\n",
       "      <td>dear flipkart order messenger bag fab still wa...</td>\n",
       "      <td>0.0000</td>\n",
       "    </tr>\n",
       "    <tr>\n",
       "      <td>96</td>\n",
       "      <td>i missed me my all ocasion due to flipkart . t...</td>\n",
       "      <td>miss ocasion due flipkart service bad product ...</td>\n",
       "      <td>-0.4125</td>\n",
       "    </tr>\n",
       "    <tr>\n",
       "      <td>97</td>\n",
       "      <td>Why on earth is @Flipkart selling pirated disc...</td>\n",
       "      <td>earth flipkart sell pirate disc movie theconju...</td>\n",
       "      <td>0.0000</td>\n",
       "    </tr>\n",
       "    <tr>\n",
       "      <td>98</td>\n",
       "      <td>Dear @Flipkart please fix your delivery servic...</td>\n",
       "      <td>dear flipkart please fix delivery service trai...</td>\n",
       "      <td>0.1000</td>\n",
       "    </tr>\n",
       "    <tr>\n",
       "      <td>99</td>\n",
       "      <td>Connect and control your IoT devices seamlessl...</td>\n",
       "      <td>connect control iot device seamlessly router a...</td>\n",
       "      <td>0.2500</td>\n",
       "    </tr>\n",
       "  </tbody>\n",
       "</table>\n",
       "<p>100 rows × 3 columns</p>\n",
       "</div>"
      ],
      "text/plain": [
       "                                               tweets  \\\n",
       "0   Where is my order, always I am facing issue on...   \n",
       "1   Please be informed that @Flipkart sells stale ...   \n",
       "2   Reply Received from @flipkartsupport ,\\nIf opt...   \n",
       "3    Dear @Flipkart why not available \\nAmul butter ?   \n",
       "4   Worst Service From flipkart.There is no import...   \n",
       "..                                                ...   \n",
       "95  Dear @Flipkart I ordered a messenger bag on 2n...   \n",
       "96  i missed me my all ocasion due to flipkart . t...   \n",
       "97  Why on earth is @Flipkart selling pirated disc...   \n",
       "98  Dear @Flipkart please fix your delivery servic...   \n",
       "99  Connect and control your IoT devices seamlessl...   \n",
       "\n",
       "                                         clean_tweets  sentiment  \n",
       "0   order always face issue flipkart order regular...     0.0000  \n",
       "1   please inform flipkart sell stale sweet fungal...    -0.0750  \n",
       "2   reply receive flipkartsupport option remove up...     0.4000  \n",
       "3                 dear flipkart available amul butter     0.4000  \n",
       "4   bad service flipkart importance plus member co...    -0.7000  \n",
       "..                                                ...        ...  \n",
       "95  dear flipkart order messenger bag fab still wa...     0.0000  \n",
       "96  miss ocasion due flipkart service bad product ...    -0.4125  \n",
       "97  earth flipkart sell pirate disc movie theconju...     0.0000  \n",
       "98  dear flipkart please fix delivery service trai...     0.1000  \n",
       "99  connect control iot device seamlessly router a...     0.2500  \n",
       "\n",
       "[100 rows x 3 columns]"
      ]
     },
     "execution_count": 69,
     "metadata": {},
     "output_type": "execute_result"
    }
   ],
   "source": [
    "m2['clean_tweets'] = m2['tweets'].apply(cleanse)\n",
    "m2['clean_tweets'] = m2['clean_tweets'].apply(lemmatize)\n",
    "m2['sentiment'] = m2['clean_tweets'].apply(get_sentiment)\n",
    "m2"
   ]
  },
  {
   "cell_type": "code",
   "execution_count": 71,
   "metadata": {},
   "outputs": [],
   "source": [
    "negative_counts = m2[m2['sentiment']<0].count()[0]\n",
    "neutral_counts = m2[m2['sentiment']==0].count()[0]\n",
    "positive_counts = m2[m2['sentiment']>0].count()[0]\n",
    "\n",
    "y_pos = [0,1,2]\n",
    "counts = [positive_counts,neutral_counts,negative_counts]"
   ]
  },
  {
   "cell_type": "code",
   "execution_count": 72,
   "metadata": {},
   "outputs": [
    {
     "data": {
      "image/png": "[encoded data removed]",
      "text/plain": [
       "<Figure size 720x360 with 1 Axes>"
      ]
     },
     "metadata": {
      "needs_background": "light"
     },
     "output_type": "display_data"
    }
   ],
   "source": [
    "plt.figure(figsize=(10,5))\n",
    "plt.bar(y_pos, counts, align='center', alpha=0.5)\n",
    "plt.xticks(y_pos,['Positive','Neutral','Negative'])\n",
    "plt.ylabel('Sentiment')\n",
    "plt.title('Demo')\n",
    "plt.show()"
   ]
  },
  {
   "cell_type": "code",
   "execution_count": 37,
   "metadata": {},
   "outputs": [],
   "source": [
    "vectorizer1 = TfidfVectorizer(ngram_range=(2,2),\n",
    "                             max_features=100,\n",
    "                             min_df=0.01,\n",
    "                             max_df=0.80)"
   ]
  },
  {
   "cell_type": "code",
   "execution_count": 38,
   "metadata": {},
   "outputs": [],
   "source": [
    "vect1 = vectorizer1.fit_transform(m['clean_tweets'])"
   ]
  },
  {
   "cell_type": "code",
   "execution_count": 39,
   "metadata": {},
   "outputs": [],
   "source": [
    "#top 10 words in TF-IDF (word, TF-IDF value, index)\n",
    "\n",
    "top_n= 200\n",
    "indices = vectorizer1.idf_.argsort()[::-1] # sort by TF-IDF\n",
    "features = vectorizer1.get_feature_names() # word list\n",
    "top_features = [(features[i], vectorizer1.idf_[i],i)\n",
    "               for i in indices[:top_n]]"
   ]
  },
  {
   "cell_type": "code",
   "execution_count": 40,
   "metadata": {},
   "outputs": [],
   "source": [
    "d = {}\n",
    "for i in top_features:\n",
    "    d[i[0]] = i[1]\n",
    "    \n",
    "w = WordCloud(background_color='white',\n",
    "             max_words=200,\n",
    "             max_font_size=200,\n",
    "             height=2000,\n",
    "             width=2000,\n",
    "             colormap='rainbow').fit_words(d)"
   ]
  },
  {
   "cell_type": "code",
   "execution_count": 41,
   "metadata": {},
   "outputs": [
    {
     "data": {
      "text/plain": [
       "<matplotlib.image.AxesImage at 0x1ad3b69f7c8>"
      ]
     },
     "execution_count": 41,
     "metadata": {},
     "output_type": "execute_result"
    },
    {
     "data": {
      "image/png": "[encoded data removed]",
      "text/plain": [
       "<Figure size 432x288 with 1 Axes>"
      ]
     },
     "metadata": {
      "needs_background": "light"
     },
     "output_type": "display_data"
    }
   ],
   "source": [
    "w.to_file('demo.png')\n",
    "plt.imshow(w, interpolation='bilinear')"
   ]
  },
  {
   "cell_type": "markdown",
   "metadata": {},
   "source": [
    "<img src='demo.png'>"
   ]
  },
  {
   "cell_type": "code",
   "execution_count": null,
   "metadata": {},
   "outputs": [],
   "source": []
  }
 ],
 "metadata": {
  "kernelspec": {
   "display_name": "Python 3",
   "language": "python",
   "name": "python3"
  },
  "language_info": {
   "codemirror_mode": {
    "name": "ipython",
    "version": 3
   },
   "file_extension": ".py",
   "mimetype": "text/x-python",
   "name": "python",
   "nbconvert_exporter": "python",
   "pygments_lexer": "ipython3",
   "version": "3.7.4"
  }
 },
 "nbformat": 4,
 "nbformat_minor": 2
}
