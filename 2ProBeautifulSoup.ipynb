{
 "cells": [
  {
   "cell_type": "code",
   "execution_count": 1,
   "metadata": {},
   "outputs": [],
   "source": [
    "import requests\n",
    "import bs4\n",
    "from bs4 import BeautifulSoup\n",
    "from requests_oauthlib import OAuth1"
   ]
  },
  {
   "cell_type": "code",
   "execution_count": 2,
   "metadata": {},
   "outputs": [],
   "source": [
    "auth_params = {\n",
    "    'app_key':'hz76GGcveHsN26QvAcTHhDVnn',\n",
    "    'app_secret':'hrBmAzughGzIV7oMvYnMb3JqXBEa4nXnrhzNSDQ7pTPnjaxi4n',\n",
    "    'oauth_token':'2547850260-3sVyHvzTYVTME2OEKhr9XEaZJ60eVvmSTMDwFDr',\n",
    "    'oauth_token_secret':'CRJmrH50FcbMAvDrguTTmgrQwVp81avbLJKCXzulV1d2B'\n",
    "}\n",
    "\n",
    "# Creating an OAuth Client connection\n",
    "auth = OAuth1 (\n",
    "    auth_params['app_key'],\n",
    "    auth_params['app_secret'],\n",
    "    auth_params['oauth_token'],\n",
    "    auth_params['oauth_token_secret']\n",
    ")\n",
    "\n",
    "# url according to twitter API\n",
    "url_rest = \"https://api.twitter.com/1.1/search/tweets.json\""
   ]
  },
  {
   "cell_type": "code",
   "execution_count": 22,
   "metadata": {},
   "outputs": [],
   "source": [
    "# getting rid of retweets in the extraction results and filtering all replies to the tweet often uncessary for the analysis\n",
    "q = '%40Flipkart -filter:retweets -filter:replies' # Twitter handle of Flipkart\n",
    "\n",
    "# count : no of tweets to be retrieved per one call and parameters according to twitter API\n",
    "params = {'q': q, 'count': 1000, 'lang': 'en',  'result_type': 'recent'}\n",
    "\n",
    "results = requests.get(url_rest, params=params, auth=auth)\n",
    "\n",
    "tweets = results.json()\n",
    "\n",
    "messages = [BeautifulSoup(tweet['text'], 'html5lib').get_text() for tweet in tweets['statuses']]"
   ]
  },
  {
   "cell_type": "code",
   "execution_count": 23,
   "metadata": {
    "collapsed": true
   },
   "outputs": [
    {
     "data": {
      "text/plain": [
       "[\"Why my return is rejected?? Even Allocated jeevas engineer came for verification but he did not know the mobile's m… https://t.co/5I4LfnFAHh\",\n",
       " 'I ♥ this product on Flipkart! Aamivi Twin Heart Shape 3D LED Multi Colour Night Lamp https://t.co/WcBXLm3JaF #buyonflipkart via @Flipkart',\n",
       " 'Ready, set, GO!! #RedmiGo, the #AndroidGo hero comes with:\\n\\n- 8MP rear camera, 5MP front camera\\n- 3000mAh long-last… https://t.co/E3Cd2bcD2G',\n",
       " 'Perfect the limits with Note lip pencil for a clean look. ✨\\n.\\n.\\nShop at : https://t.co/be7RCeviD8\\nAlso available at… https://t.co/TYYAPg4BfQ',\n",
       " 'Hey @flipkartsupport  ! I need urgent support for my order with order ID 0D117825914110857000 on my provided number… https://t.co/ZciQ2zsCJK',\n",
       " 'Time to revamp your wardrobe with #ICICIBank’s #TrendyWednesdays offer. Simply, shop on @Flipkart across fashion ca… https://t.co/Gcnj6Izzd0',\n",
       " \"Why @amazonIN and @Flipkart are shipping using plastic packages? Amazon can atleast ship 'Prime Orders' using cardb… https://t.co/AqRiaoYn4P\",\n",
       " 'My product was missing.. And when I complained they blocked my flipkart today is the given date.When I called to Co… https://t.co/hfT44lniID',\n",
       " 'Flipkart expands furniture section; aims to cater to young crowd\\n\\n@Flipkart \\n\\nhttps://t.co/QF8OHShSaN',\n",
       " 'Does anyone know if @Flipkart and @myntra have affiliate programs? I think I found Flipkart on… https://t.co/gzZxbbn7No',\n",
       " 'Flipkart @Flipkart is the Worst E-commerce Platform in terms of Delivery. Always Go for Amazon if you want your Pro… https://t.co/OyZJm9Zalu',\n",
       " 'Sorry Flipkart me aapki team ka call attend nahi kar paya because mere grandmother and grandfather serious ill plea… https://t.co/ODaelLyBIs',\n",
       " 'Why are you taking that much\\xa0time? First you say 3rd February then 4th February and last you 11th February now you… https://t.co/wA1iDI7fFW',\n",
       " \"So @Flipkart cancelled my Poco X2 yesterday and they've not bothered to reply at all to the query apart from an aut… https://t.co/TNBuftlEVN\",\n",
       " 'Blazing fast delivery by @Flipkart .\\n\\nLooking forward to use #POCO 🔥\\n\\n@cmanmohan @IndiaPOCO https://t.co/9cIfcFzJoc',\n",
       " \"We've hit 1 Million + followers on @LinkedIn - thanks to each and everyone of you that has joined us in our journey… https://t.co/MbD9Hb9Klv\",\n",
       " 'Ship equipment trial in progress\\nhttps://t.co/a9wBUUEnmV\\n@ExportersIndia @ExportWW @IndiaEximBank @EximBankUS… https://t.co/lRqpPbOqkP',\n",
       " 'Stupid flifkart always cancelling products @Flipkart @IndiaPOCO  @Walmart https://t.co/slbJoGdGEt',\n",
       " 'Our customers wrote in about #AFriendInFlipkart! Whether it was an emergency, a concern, or even that much-needed e… https://t.co/oGoUetGGhw',\n",
       " 'The E-Commerce marketing giant, Flipkart is set to collaborate with Assam Government. \\n#Assam @Flipkart @cmpatowary… https://t.co/K4nNdfZUED',\n",
       " 'day 32 and a new TARIK from @Flipkart 14feb2020\\nfor my order id OD117541973479178000 order placed on 9feb2020 3:35… https://t.co/ebUCxAug5q',\n",
       " 'Thank You @Flipkart your Support And Good Service Thank You..',\n",
       " \"Uninterrupted gaming with energy-saving!\\nPowered with World's First MediaTek Helio G70 chipset and 12nm Octa-Core P… https://t.co/rde3iUWvKO\",\n",
       " 'Indian artisans all over India struggle to make a sustainable living while preserving their art. But with… https://t.co/Y3ZADeXXPw',\n",
       " 'After Myntra @myntra here is new issue with @Flipkart promise delivery date was 11 feb now they said it will be 17… https://t.co/c75APnDB1A',\n",
       " '#News: @Flipkart expands its #furniture portfolio with the launch of ‘Perfect Homes Studio’, offering a functional… https://t.co/ODCJJWhB61',\n",
       " 'Hello @Flipkart @flipkartsupport , I have a concern of updating my mobile number. When I try to do it on the websit… https://t.co/uRuyVKh4dp',\n",
       " 'REMINDER-105!!!\\nCENTURY OF REMINDERS\\nSHAMELESS-CHEAT-FRAUDSTER @Flipkart !! \\nOWNED BY @Walmart & ZERO SHAME!!!\\nNO R… https://t.co/VVRDt7K2xa',\n",
       " \"#ThatFaceWhen you're thinking about him or the Ultime Pro Matte Lip Crayons. Long-lasting and smooth, with 31 shade… https://t.co/n8J8gMxcBZ\",\n",
       " 'and after the horrifying shopping and return experience with @Flipkart for my last order of some sport shoes , i ha… https://t.co/rYIwQoSF5G',\n",
       " \"Mighty Vibe here's the New Look, Sync and listen for free for Spotify and Amazon Music Player.\\nOrder Now in Amazon… https://t.co/IVlZmsqaUs\",\n",
       " 'Mr.@_Kalyan_K  I got cheated from Flipkart product, recently i bought cheap quality product not worth as i paid. pl… https://t.co/547uKPtyST',\n",
       " 'This ex-army contractor became the first #seller from Prayagraj to take his business online! His success on… https://t.co/K64UBtmZym',\n",
       " 'I had more than 5000 Gift Card in my 2 years old fk ac. When I called customer care and enquired about the same the… https://t.co/matNo0M3zW',\n",
       " 'Dear @Flipkart ,@_sachinbansal,\\nToday is 12 Feb,2020 but my refund was not reflect in my gif card wallet,\\nI just ca… https://t.co/qwRpmb8sdC',\n",
       " 'Fraud with customer by @Flipkart & @Flipkart sellers. Selling phones with technical fault and closing issue without… https://t.co/GKGQSScKy6',\n",
       " 'My order id is OD117540353717955000. I received small size of this item. Please replace it @Flipkart',\n",
       " 'Hello @Flipkart & @AxisBankSupport applied for @AxisBank Flipkart Card, as promised over mobile app Page, will get… https://t.co/ipQTwfuxrc',\n",
       " \"Hey @Flipkart @flipkartsupport @IndiaPOCO ordered #POCOX2 yesterday and it's a prepaid order, but your seller is st… https://t.co/qYoEiNK2EB\",\n",
       " \"It's been almost 2 weeks I raised a request for refund through @Flipkart and I haven't received and refund yet. Thi… https://t.co/yL3a8tfCdg\",\n",
       " 'Fuck you @Flipkart n @IndiaPOCO 😒',\n",
       " 'never work as a seller in flipkart they are scraper they will list own product make it at higher visibility . amazo… https://t.co/ErIwWV1BuF',\n",
       " 'pproved Ford-Mahindra JV\\nhttps://t.co/v0s10sq8mw\\n@ExportersIndia @ExportWW @IndiaEximBank @EximBankUS… https://t.co/IsvfquKg70',\n",
       " 'Is any offers coming  on this #ValentinesDay\\n\\n from @amazon @Flipkart',\n",
       " 'I bought USHA CD503 cooler on 23 Jan for 8829 but recvd a damaged one which I wanted to return/replace. But FK inst… https://t.co/qAKO58ZaOs',\n",
       " '#boycottflipkart flipkart cancelling order without any valid reason after successful placement of order nd deductin… https://t.co/OF2DzsmAhh',\n",
       " \"Top Business of the Day. #Startup journey of India's leading e-commerce company, @Flipkart\\n\\nLike and Share.\\n\\nWe sha… https://t.co/z28MUeKnaN\",\n",
       " 'Is it a genuine product or a first copy. @Flipkart @VANS_66 https://t.co/517Vh08OMe',\n",
       " 'Hi, \\n@oyorooms \\n@amazonIN \\n@Flipkart \\n@snapdeal \\n@swiggy_in \\n@ZomatoIN \\n@Uber_India \\n@Olacabs \\n@FernsNPetals \\nAnd a… https://t.co/Ed5E6MXRmf',\n",
       " 'This is 3rd time @myntra u auto cancelled my return request against my following orders, what should I do?… https://t.co/zoVYjd06dn',\n",
       " 'Wtf @Flipkart @IndiaPOCO @XiaomiIndia why would you automatically cancel a prepaid order? First you make customers… https://t.co/YP0FOuGJXM',\n",
       " 'Had a very bad experience with @thesouledstore . Return is not initiate as it has been more than 27 days. There was… https://t.co/rglKZHDFQC',\n",
       " 'Several deals are up for grabs under @realmemobiles Days and @oppo Fantastic Days, taking place on both @amazonIN a… https://t.co/3gPIyJL9bd',\n",
       " 'Feeling bullshit because of supreme service of @Flipkart . I ordered a special type of washing machine cleaner by… https://t.co/DLx92eFDjY',\n",
       " 'My find for the day. https://t.co/RY8zWnLcxK via @Flipkart',\n",
       " 'I had 50 super coins in my wallet @Flipkart All have come down to 0 today. Please assist @Flipkart',\n",
       " 'This s the 5th time I\\'m ordering a phn and it\\'s got cancelled stating.. \"cancelled due to high demand and limited s… https://t.co/bW3Z0PZp3n',\n",
       " \"thanks @flipkartsupport @flipkart. if my message made your day, I'm delighted too 😊 commend @SamsungIndia customer… https://t.co/vr4wpgJAK3\",\n",
       " 'Thread. So @Flipkart just said F***k you to the customer for their mess up.\\nHad prebooked Galaxy Note 10+. Offer wa… https://t.co/lswOhcYFzd',\n",
       " 'Ordered a laptop @Flipkart ,the product is not even turning ON and they are rejecting my return request.Worst servi… https://t.co/soZcmsSBPr',\n",
       " \"#News | Let's take a look at how @Flipkart is able to cater to 65 Mn customers out of the base of 200 Mn customers.… https://t.co/OhrG8xgFCu\",\n",
       " 'We helped to create #Brand_Ambassadors for @Flipkart  supplying #Sport_wear apparels for a cricket tournament held… https://t.co/F1oigjXk3S',\n",
       " 'One shirt in @Flipkart @flipkartsupport 590-/Rs\\nAnd same shirt in @AmazonHelp\\n@amazon 527-/Rs only\\nSame comapny brand but rate changes.',\n",
       " 'Aaj se Flipkart account close and Amazon account open because Flipkart is a not a good company for coustomer @amazon @Flipkart',\n",
       " 'HEllo \\n@Flipkart @walmartindia \\nPLease Please\\nplease help me to  unblock my account.\\ni really want to buy something… https://t.co/BaPRHcenaY',\n",
       " 'Dear @flipkartsupport please wake up. Your seller rejected my return request again. I won’t be eating fungus infest… https://t.co/jhpeBxl1GV',\n",
       " 'Really dissapointed by your service @flipkartsupport @Flipkart just cant place any order for pen , only \"maximum un… https://t.co/2gpzozXhK7',\n",
       " 'is this is your help ?\\nand what if i return the product as i dont like then you will block my account ?\\nas what you… https://t.co/HKUVu2Hw1Y',\n",
       " \"E-commerce giant @Flipkart's credit business for both buyers and sellers has grown 30% and 70% YoY\\nFunny how their… https://t.co/jM1V8whlok\",\n",
       " \"We're yet to reach the 4500 RTs mark. But, here's some motivation for y'all.\\n\\nAnnouncing the 1st winner of… https://t.co/Kyg5ei6U6l\",\n",
       " '3rd time my order return is cancel without no reason @Flipkart',\n",
       " '#Flipkart is Selling Stolen Phone with Duplicate IME No ends with 0009, complaint filed against @FlipkartInternet P… https://t.co/T4fG7YKxzB',\n",
       " 'Today I ordered POCO X2 (6/128) red colour from Flipkart. It was a prepaid order and It got cancelled automatically… https://t.co/Y9sqBuBpcu',\n",
       " 'Do you feel the love in the air? We do too! Shop for your favourites with up to 50% off on all @facescanada product… https://t.co/qOREFtWQKV',\n",
       " 'Pastel or bold shades? Which one is you today? 💁\\n.\\n.\\nShop at : https://t.co/be7RCeviD8\\nAlso available at : @mynykaa… https://t.co/AtQV59IhGB',\n",
       " 'Upto 40% Off on New Released #Books @Flipkart \\nhttps://t.co/H8sdr5rKYz https://t.co/oUbPqh0X1a',\n",
       " 'Worst customer support, worst delivery associate, n false commitments n fame promises @Flipkart @flipkartsupport',\n",
       " \"What Happened is, @IndiaPOCO , @POCOSupport and @cmanmohan , Even these Guyz didn't knew that Rs. 1000 will be Off… https://t.co/EPvmwj3NLw\",\n",
       " 'Designed to be smart enough for work & stylish enough for the weekend. #DeinKleider\\n\\nNow also available on… https://t.co/1zqro4QmNT',\n",
       " 'Tell me the resaon why are you taking longer then expected i want my money back today your 11 day period is over no… https://t.co/icG94dzuf3',\n",
       " '#Flipkart would conduct training and workshop for the people involved in sectors like #Assamese jewellery, Assamese… https://t.co/fCpYcQlntN',\n",
       " 'Investors for Grade A Malls\\nhttps://t.co/tmiiUcOIw8\\n@ExportersIndia @ExportWW @IndiaEximBank @EximBankUS… https://t.co/n7xNNDdwZV',\n",
       " 'Today i call Flipkart coustomer care call for my return order for my order and my order two times cancel without no… https://t.co/wvKuFj4DGp',\n",
       " 'Get your real bass experience today!\\nBring home #realmeBudsWireless, now available at just ₹1,599 in the… https://t.co/TvqF5PbU9H',\n",
       " 'Why are you taking that much\\xa0time? First you say 3rd February then 4th February and last you 11th February now you… https://t.co/F2v0PYqOVW',\n",
       " 'Worst service to a PLUS member. My product laptop is in the nearby hub since last 10days. Please deliver it asap. F… https://t.co/1SOXp8jNTH',\n",
       " 'Can we Mount 50 inch TV in this wall unit. Asked @Flipkart #RoyalOak no revert back. Hence twitting to see if I cou… https://t.co/7lM3ODwfQr',\n",
       " 'Dwivedi to work on large-scale creation \\nhttps://t.co/VUnY9CHTII\\n@ExportersIndia @ExportWW @IndiaEximBank… https://t.co/DzOWZBADPw',\n",
       " 'FOUND IT!\\n@HiHonorIndia #UpForXtra\\n#Honor9X @Honorglobal @Flipkart https://t.co/0OlvpbZdgf https://t.co/ZPSTcYvOhS',\n",
       " \"My order number FMPC0712731754 is showing delivery attempt failed (customer rejected) while I didn't get any call f… https://t.co/Nwes31kvI6\",\n",
       " 'I told flipkart to unblocked my Flipkart account because account blocked 2 years ago now flipkart send me message .… https://t.co/0GFiupSANa',\n",
       " 'I am very disappointed,i have ordered an sketchers shoe woth rupees 3900 but got different brand shoes.I have recor… https://t.co/41P7F7CqFo',\n",
       " 'I do not have  free time to repeat my issue time n https://t.co/Iglbn4A7oi go listen the call with your agent.n fin… https://t.co/V8sUF7WW3n',\n",
       " 'Did you know that you can shop to your heart’s content on @Flipkart and pay later for it all? With Flipkart’s… https://t.co/cAM7KsfU4F',\n",
       " \"As you say issue is sorted by our end then why i don't receive any call or message Tell me fast I am waiting for yo… https://t.co/gcUhHTTVOE\",\n",
       " '#UpForXtra craziness? Have a look at all that’s popping out from the #HONOR9X. We challenge you to spot the pop-up… https://t.co/Uq94N8hU71',\n",
       " 'Why are you taking that much\\xa0time? First you say 3rd February then 4th February and last you 11th February now you… https://t.co/qi5x1Tf5jU',\n",
       " 'This #realmeDays Sale, get a flat ₹2,000 discount on your favourite #realmeX, with the best Pop-Up Selfie Camera at… https://t.co/5Y6N953Flw',\n",
       " 'Thank you for Ruining my surprise anniversary gift for my girlfriend😣😣😣 @Flipkart \\n@IndiaPOCO https://t.co/RVwcqcZOtR',\n",
       " \"Here's my orders\\n#POCOX2 #SmoothAF #Flipkart \\n@IndiaPOCO @cmanmohan @Flipkart @geekabhishek_ @techstarsrk… https://t.co/rxr0dT2Ogn\"]"
      ]
     },
     "execution_count": 23,
     "metadata": {},
     "output_type": "execute_result"
    }
   ],
   "source": [
    "messages"
   ]
  },
  {
   "cell_type": "code",
   "execution_count": 34,
   "metadata": {},
   "outputs": [],
   "source": [
    "# getting rid of retweets in the extraction results and filtering all replies to the tweet often uncessary for the analysis\n",
    "p = 'Snapdeal+headphones'# -filter:retweets -filter:replies'\n",
    "\n",
    "# count : no of tweets to be retrieved per one call and parameters according to twitter API\n",
    "params = {'q': p, 'count': 1000, 'lang': 'en',  'result_type': 'recent'}\n",
    "\n",
    "results = requests.get(url_rest, params=params, auth=auth)\n",
    "\n",
    "tweets = results.json()\n",
    "\n",
    "messages = [BeautifulSoup(tweet['text'], 'html5lib').get_text() for tweet in tweets['statuses']]"
   ]
  },
  {
   "cell_type": "code",
   "execution_count": 35,
   "metadata": {},
   "outputs": [
    {
     "data": {
      "text/plain": [
       "[\"@snapdeal is scam. I have ordered headphones. But not received. I raised complain also no response. It's scam. @Snapdeal_Help\"]"
      ]
     },
     "execution_count": 35,
     "metadata": {},
     "output_type": "execute_result"
    }
   ],
   "source": [
    "messages"
   ]
  },
  {
   "cell_type": "code",
   "execution_count": 5,
   "metadata": {},
   "outputs": [],
   "source": [
    "import re\n",
    "import pandas as pd\n",
    "import numpy as np\n",
    "import nltk\n",
    "from nltk.corpus import stopwords\n",
    "from nltk.corpus import wordnet\n",
    "from nltk.stem import PorterStemmer\n",
    "from nltk.stem import WordNetLemmatizer\n",
    "from wordcloud import WordCloud\n",
    "import random\n",
    "import glob\n",
    "from textblob import TextBlob\n",
    "import io\n",
    "from sklearn.feature_extraction.text import TfidfVectorizer\n",
    "from sklearn.feature_extraction.text import CountVectorizer\n",
    "import matplotlib.pyplot as plt"
   ]
  },
  {
   "cell_type": "code",
   "execution_count": 24,
   "metadata": {},
   "outputs": [
    {
     "data": {
      "text/html": [
       "<div>\n",
       "<style scoped>\n",
       "    .dataframe tbody tr th:only-of-type {\n",
       "        vertical-align: middle;\n",
       "    }\n",
       "\n",
       "    .dataframe tbody tr th {\n",
       "        vertical-align: top;\n",
       "    }\n",
       "\n",
       "    .dataframe thead th {\n",
       "        text-align: right;\n",
       "    }\n",
       "</style>\n",
       "<table border=\"1\" class=\"dataframe\">\n",
       "  <thead>\n",
       "    <tr style=\"text-align: right;\">\n",
       "      <th></th>\n",
       "      <th>tweets</th>\n",
       "    </tr>\n",
       "  </thead>\n",
       "  <tbody>\n",
       "    <tr>\n",
       "      <td>0</td>\n",
       "      <td>Why my return is rejected?? Even Allocated jee...</td>\n",
       "    </tr>\n",
       "    <tr>\n",
       "      <td>1</td>\n",
       "      <td>I ♥ this product on Flipkart! Aamivi Twin Hear...</td>\n",
       "    </tr>\n",
       "    <tr>\n",
       "      <td>2</td>\n",
       "      <td>Ready, set, GO!! #RedmiGo, the #AndroidGo hero...</td>\n",
       "    </tr>\n",
       "    <tr>\n",
       "      <td>3</td>\n",
       "      <td>Perfect the limits with Note lip pencil for a ...</td>\n",
       "    </tr>\n",
       "    <tr>\n",
       "      <td>4</td>\n",
       "      <td>Hey @flipkartsupport  ! I need urgent support ...</td>\n",
       "    </tr>\n",
       "    <tr>\n",
       "      <td>5</td>\n",
       "      <td>Time to revamp your wardrobe with #ICICIBank’s...</td>\n",
       "    </tr>\n",
       "    <tr>\n",
       "      <td>6</td>\n",
       "      <td>Why @amazonIN and @Flipkart are shipping using...</td>\n",
       "    </tr>\n",
       "    <tr>\n",
       "      <td>7</td>\n",
       "      <td>My product was missing.. And when I complained...</td>\n",
       "    </tr>\n",
       "    <tr>\n",
       "      <td>8</td>\n",
       "      <td>Flipkart expands furniture section; aims to ca...</td>\n",
       "    </tr>\n",
       "    <tr>\n",
       "      <td>9</td>\n",
       "      <td>Does anyone know if @Flipkart and @myntra have...</td>\n",
       "    </tr>\n",
       "  </tbody>\n",
       "</table>\n",
       "</div>"
      ],
      "text/plain": [
       "                                              tweets\n",
       "0  Why my return is rejected?? Even Allocated jee...\n",
       "1  I ♥ this product on Flipkart! Aamivi Twin Hear...\n",
       "2  Ready, set, GO!! #RedmiGo, the #AndroidGo hero...\n",
       "3  Perfect the limits with Note lip pencil for a ...\n",
       "4  Hey @flipkartsupport  ! I need urgent support ...\n",
       "5  Time to revamp your wardrobe with #ICICIBank’s...\n",
       "6  Why @amazonIN and @Flipkart are shipping using...\n",
       "7  My product was missing.. And when I complained...\n",
       "8  Flipkart expands furniture section; aims to ca...\n",
       "9  Does anyone know if @Flipkart and @myntra have..."
      ]
     },
     "execution_count": 24,
     "metadata": {},
     "output_type": "execute_result"
    }
   ],
   "source": [
    "tweets_df = pd.DataFrame({'tweets' : messages})\n",
    "tweets_df.head(10)"
   ]
  },
  {
   "cell_type": "code",
   "execution_count": 25,
   "metadata": {},
   "outputs": [
    {
     "data": {
      "text/plain": [
       "(100, 1)"
      ]
     },
     "execution_count": 25,
     "metadata": {},
     "output_type": "execute_result"
    }
   ],
   "source": [
    "tweets_df.shape"
   ]
  },
  {
   "cell_type": "code",
   "execution_count": 8,
   "metadata": {},
   "outputs": [],
   "source": [
    "stop_words = list(set(stopwords.words('english')))\n",
    "\n",
    "def cleanse(input_text):\n",
    "    keep_alpha = re.sub(\"[^a-zA-Z]\",\" \",input_text)\n",
    "    remove_extra_spaces = re.sub(\"[\\s]+\",\" \",keep_alpha)\n",
    "    convert_case = remove_extra_spaces.lower()\n",
    "    stop_words_removal = [word for word in convert_case.split()\n",
    "                          if word not in stop_words]\n",
    "    remove_smaller_words = [word for word in stop_words_removal\n",
    "                          if len(word) >=3]\n",
    "    clean_tokens = [word for word in remove_smaller_words\n",
    "                   if 'http' not in word and\n",
    "                   '@' not in word and\n",
    "                   '<' not in word and\n",
    "                   'RT' not in word]\n",
    "    return \" \".join(clean_tokens)\n",
    "\n",
    "lemmatizer = WordNetLemmatizer()\n",
    "\n",
    "def lemmatize(input_text):\n",
    "    lemmas=[]\n",
    "    tokens = input_text.split()\n",
    "    for token in tokens:\n",
    "        tag = nltk.pos_tag([token])[0][1][0].upper()\n",
    "        tag_dict = {\"J\": wordnet.ADJ,\n",
    "                    \"N\": wordnet.NOUN,\n",
    "                    \"V\": wordnet.VERB,\n",
    "                    \"R\": wordnet.ADV}\n",
    "        if tag in tag_dict.keys():\n",
    "            pos = tag_dict[tag]\n",
    "            lemma = lemmatizer.lemmatize(token,pos)\n",
    "            lemmas.append(lemma)\n",
    "        else:\n",
    "            lemmas.append(token)\n",
    "    return \" \".join(lemmas)"
   ]
  },
  {
   "cell_type": "code",
   "execution_count": 26,
   "metadata": {},
   "outputs": [
    {
     "data": {
      "text/html": [
       "<div>\n",
       "<style scoped>\n",
       "    .dataframe tbody tr th:only-of-type {\n",
       "        vertical-align: middle;\n",
       "    }\n",
       "\n",
       "    .dataframe tbody tr th {\n",
       "        vertical-align: top;\n",
       "    }\n",
       "\n",
       "    .dataframe thead th {\n",
       "        text-align: right;\n",
       "    }\n",
       "</style>\n",
       "<table border=\"1\" class=\"dataframe\">\n",
       "  <thead>\n",
       "    <tr style=\"text-align: right;\">\n",
       "      <th></th>\n",
       "      <th>tweets</th>\n",
       "      <th>clean_tweets</th>\n",
       "    </tr>\n",
       "  </thead>\n",
       "  <tbody>\n",
       "    <tr>\n",
       "      <td>0</td>\n",
       "      <td>Why my return is rejected?? Even Allocated jee...</td>\n",
       "      <td>return reject even allocate jeevas engineer co...</td>\n",
       "    </tr>\n",
       "    <tr>\n",
       "      <td>1</td>\n",
       "      <td>I ♥ this product on Flipkart! Aamivi Twin Hear...</td>\n",
       "      <td>product flipkart aamivi twin heart shape lead ...</td>\n",
       "    </tr>\n",
       "    <tr>\n",
       "      <td>2</td>\n",
       "      <td>Ready, set, GO!! #RedmiGo, the #AndroidGo hero...</td>\n",
       "      <td>ready set redmigo androidgo hero come rear cam...</td>\n",
       "    </tr>\n",
       "    <tr>\n",
       "      <td>3</td>\n",
       "      <td>Perfect the limits with Note lip pencil for a ...</td>\n",
       "      <td>perfect limit note lip pencil clean look shop ...</td>\n",
       "    </tr>\n",
       "    <tr>\n",
       "      <td>4</td>\n",
       "      <td>Hey @flipkartsupport  ! I need urgent support ...</td>\n",
       "      <td>hey flipkartsupport need urgent support order ...</td>\n",
       "    </tr>\n",
       "    <tr>\n",
       "      <td>...</td>\n",
       "      <td>...</td>\n",
       "      <td>...</td>\n",
       "    </tr>\n",
       "    <tr>\n",
       "      <td>95</td>\n",
       "      <td>#UpForXtra craziness? Have a look at all that’...</td>\n",
       "      <td>upforxtra craziness look pop honor challenge s...</td>\n",
       "    </tr>\n",
       "    <tr>\n",
       "      <td>96</td>\n",
       "      <td>Why are you taking that much time? First you s...</td>\n",
       "      <td>take much time first say february february las...</td>\n",
       "    </tr>\n",
       "    <tr>\n",
       "      <td>97</td>\n",
       "      <td>This #realmeDays Sale, get a flat ₹2,000 disco...</td>\n",
       "      <td>realmedays sale get flat discount favourite re...</td>\n",
       "    </tr>\n",
       "    <tr>\n",
       "      <td>98</td>\n",
       "      <td>Thank you for Ruining my surprise anniversary ...</td>\n",
       "      <td>thank ruin surprise anniversary gift girlfrien...</td>\n",
       "    </tr>\n",
       "    <tr>\n",
       "      <td>99</td>\n",
       "      <td>Here's my orders\\n#POCOX2 #SmoothAF #Flipkart ...</td>\n",
       "      <td>order pocox smoothaf flipkart indiapoco cmanmo...</td>\n",
       "    </tr>\n",
       "  </tbody>\n",
       "</table>\n",
       "<p>100 rows × 2 columns</p>\n",
       "</div>"
      ],
      "text/plain": [
       "                                               tweets  \\\n",
       "0   Why my return is rejected?? Even Allocated jee...   \n",
       "1   I ♥ this product on Flipkart! Aamivi Twin Hear...   \n",
       "2   Ready, set, GO!! #RedmiGo, the #AndroidGo hero...   \n",
       "3   Perfect the limits with Note lip pencil for a ...   \n",
       "4   Hey @flipkartsupport  ! I need urgent support ...   \n",
       "..                                                ...   \n",
       "95  #UpForXtra craziness? Have a look at all that’...   \n",
       "96  Why are you taking that much time? First you s...   \n",
       "97  This #realmeDays Sale, get a flat ₹2,000 disco...   \n",
       "98  Thank you for Ruining my surprise anniversary ...   \n",
       "99  Here's my orders\\n#POCOX2 #SmoothAF #Flipkart ...   \n",
       "\n",
       "                                         clean_tweets  \n",
       "0   return reject even allocate jeevas engineer co...  \n",
       "1   product flipkart aamivi twin heart shape lead ...  \n",
       "2   ready set redmigo androidgo hero come rear cam...  \n",
       "3   perfect limit note lip pencil clean look shop ...  \n",
       "4   hey flipkartsupport need urgent support order ...  \n",
       "..                                                ...  \n",
       "95  upforxtra craziness look pop honor challenge s...  \n",
       "96  take much time first say february february las...  \n",
       "97  realmedays sale get flat discount favourite re...  \n",
       "98  thank ruin surprise anniversary gift girlfrien...  \n",
       "99  order pocox smoothaf flipkart indiapoco cmanmo...  \n",
       "\n",
       "[100 rows x 2 columns]"
      ]
     },
     "execution_count": 26,
     "metadata": {},
     "output_type": "execute_result"
    }
   ],
   "source": [
    "tweets_df['clean_tweets'] = tweets_df['tweets'].apply(cleanse)\n",
    "tweets_df['clean_tweets'] = tweets_df['clean_tweets'].apply(lemmatize)\n",
    "tweets_df"
   ]
  },
  {
   "cell_type": "code",
   "execution_count": 10,
   "metadata": {},
   "outputs": [],
   "source": [
    "def get_sentiment(input_string):\n",
    "    blob = TextBlob(input_string)\n",
    "    sentiment = blob.sentiment.polarity\n",
    "    return sentiment"
   ]
  },
  {
   "cell_type": "code",
   "execution_count": 27,
   "metadata": {},
   "outputs": [
    {
     "data": {
      "text/html": [
       "<div>\n",
       "<style scoped>\n",
       "    .dataframe tbody tr th:only-of-type {\n",
       "        vertical-align: middle;\n",
       "    }\n",
       "\n",
       "    .dataframe tbody tr th {\n",
       "        vertical-align: top;\n",
       "    }\n",
       "\n",
       "    .dataframe thead th {\n",
       "        text-align: right;\n",
       "    }\n",
       "</style>\n",
       "<table border=\"1\" class=\"dataframe\">\n",
       "  <thead>\n",
       "    <tr style=\"text-align: right;\">\n",
       "      <th></th>\n",
       "      <th>tweets</th>\n",
       "      <th>clean_tweets</th>\n",
       "      <th>sentiment</th>\n",
       "    </tr>\n",
       "  </thead>\n",
       "  <tbody>\n",
       "    <tr>\n",
       "      <td>0</td>\n",
       "      <td>Why my return is rejected?? Even Allocated jee...</td>\n",
       "      <td>return reject even allocate jeevas engineer co...</td>\n",
       "      <td>0.000000</td>\n",
       "    </tr>\n",
       "    <tr>\n",
       "      <td>1</td>\n",
       "      <td>I ♥ this product on Flipkart! Aamivi Twin Hear...</td>\n",
       "      <td>product flipkart aamivi twin heart shape lead ...</td>\n",
       "      <td>0.000000</td>\n",
       "    </tr>\n",
       "    <tr>\n",
       "      <td>2</td>\n",
       "      <td>Ready, set, GO!! #RedmiGo, the #AndroidGo hero...</td>\n",
       "      <td>ready set redmigo androidgo hero come rear cam...</td>\n",
       "      <td>0.050000</td>\n",
       "    </tr>\n",
       "    <tr>\n",
       "      <td>3</td>\n",
       "      <td>Perfect the limits with Note lip pencil for a ...</td>\n",
       "      <td>perfect limit note lip pencil clean look shop ...</td>\n",
       "      <td>0.588889</td>\n",
       "    </tr>\n",
       "    <tr>\n",
       "      <td>4</td>\n",
       "      <td>Hey @flipkartsupport  ! I need urgent support ...</td>\n",
       "      <td>hey flipkartsupport need urgent support order ...</td>\n",
       "      <td>0.000000</td>\n",
       "    </tr>\n",
       "    <tr>\n",
       "      <td>...</td>\n",
       "      <td>...</td>\n",
       "      <td>...</td>\n",
       "      <td>...</td>\n",
       "    </tr>\n",
       "    <tr>\n",
       "      <td>95</td>\n",
       "      <td>#UpForXtra craziness? Have a look at all that’...</td>\n",
       "      <td>upforxtra craziness look pop honor challenge s...</td>\n",
       "      <td>0.000000</td>\n",
       "    </tr>\n",
       "    <tr>\n",
       "      <td>96</td>\n",
       "      <td>Why are you taking that much time? First you s...</td>\n",
       "      <td>take much time first say february february las...</td>\n",
       "      <td>0.150000</td>\n",
       "    </tr>\n",
       "    <tr>\n",
       "      <td>97</td>\n",
       "      <td>This #realmeDays Sale, get a flat ₹2,000 disco...</td>\n",
       "      <td>realmedays sale get flat discount favourite re...</td>\n",
       "      <td>0.487500</td>\n",
       "    </tr>\n",
       "    <tr>\n",
       "      <td>98</td>\n",
       "      <td>Thank you for Ruining my surprise anniversary ...</td>\n",
       "      <td>thank ruin surprise anniversary gift girlfrien...</td>\n",
       "      <td>0.000000</td>\n",
       "    </tr>\n",
       "    <tr>\n",
       "      <td>99</td>\n",
       "      <td>Here's my orders\\n#POCOX2 #SmoothAF #Flipkart ...</td>\n",
       "      <td>order pocox smoothaf flipkart indiapoco cmanmo...</td>\n",
       "      <td>0.000000</td>\n",
       "    </tr>\n",
       "  </tbody>\n",
       "</table>\n",
       "<p>100 rows × 3 columns</p>\n",
       "</div>"
      ],
      "text/plain": [
       "                                               tweets  \\\n",
       "0   Why my return is rejected?? Even Allocated jee...   \n",
       "1   I ♥ this product on Flipkart! Aamivi Twin Hear...   \n",
       "2   Ready, set, GO!! #RedmiGo, the #AndroidGo hero...   \n",
       "3   Perfect the limits with Note lip pencil for a ...   \n",
       "4   Hey @flipkartsupport  ! I need urgent support ...   \n",
       "..                                                ...   \n",
       "95  #UpForXtra craziness? Have a look at all that’...   \n",
       "96  Why are you taking that much time? First you s...   \n",
       "97  This #realmeDays Sale, get a flat ₹2,000 disco...   \n",
       "98  Thank you for Ruining my surprise anniversary ...   \n",
       "99  Here's my orders\\n#POCOX2 #SmoothAF #Flipkart ...   \n",
       "\n",
       "                                         clean_tweets  sentiment  \n",
       "0   return reject even allocate jeevas engineer co...   0.000000  \n",
       "1   product flipkart aamivi twin heart shape lead ...   0.000000  \n",
       "2   ready set redmigo androidgo hero come rear cam...   0.050000  \n",
       "3   perfect limit note lip pencil clean look shop ...   0.588889  \n",
       "4   hey flipkartsupport need urgent support order ...   0.000000  \n",
       "..                                                ...        ...  \n",
       "95  upforxtra craziness look pop honor challenge s...   0.000000  \n",
       "96  take much time first say february february las...   0.150000  \n",
       "97  realmedays sale get flat discount favourite re...   0.487500  \n",
       "98  thank ruin surprise anniversary gift girlfrien...   0.000000  \n",
       "99  order pocox smoothaf flipkart indiapoco cmanmo...   0.000000  \n",
       "\n",
       "[100 rows x 3 columns]"
      ]
     },
     "execution_count": 27,
     "metadata": {},
     "output_type": "execute_result"
    }
   ],
   "source": [
    "tweets_df['sentiment'] = tweets_df['clean_tweets'].apply(get_sentiment)\n",
    "tweets_df"
   ]
  },
  {
   "cell_type": "code",
   "execution_count": 28,
   "metadata": {},
   "outputs": [
    {
     "name": "stdout",
     "output_type": "stream",
     "text": [
      "17\n",
      "43\n",
      "40\n"
     ]
    }
   ],
   "source": [
    "negative_counts = tweets_df[tweets_df['sentiment']<0].count()[0]\n",
    "neutral_counts = tweets_df[tweets_df['sentiment']==0].count()[0]\n",
    "positive_counts = tweets_df[tweets_df['sentiment']>0].count()[0]\n",
    "\n",
    "print(negative_counts)\n",
    "print(neutral_counts)\n",
    "print(positive_counts)"
   ]
  },
  {
   "cell_type": "code",
   "execution_count": 29,
   "metadata": {},
   "outputs": [],
   "source": [
    "y_pos = [0,1,2]\n",
    "counts = [positive_counts,neutral_counts,negative_counts]"
   ]
  },
  {
   "cell_type": "code",
   "execution_count": 30,
   "metadata": {},
   "outputs": [
    {
     "data": {
      "image/png": "[encoded data removed]",
      "text/plain": [
       "<Figure size 720x360 with 1 Axes>"
      ]
     },
     "metadata": {
      "needs_background": "light"
     },
     "output_type": "display_data"
    }
   ],
   "source": [
    "plt.figure(figsize=(10,5))\n",
    "plt.bar(y_pos, counts, align='center', alpha=0.5)\n",
    "plt.xticks(y_pos,['Positive','Neutral','Negative'])\n",
    "plt.ylabel('Sentiment')\n",
    "plt.title('Demo')\n",
    "plt.show()"
   ]
  },
  {
   "cell_type": "code",
   "execution_count": 31,
   "metadata": {},
   "outputs": [],
   "source": [
    "vectorizer = TfidfVectorizer(ngram_range=(2,2),\n",
    "                             max_features=100,\n",
    "                             min_df=0.01,\n",
    "                             max_df=0.80)\n",
    "\n",
    "vectorizer.fit_transform(tweets_df['clean_tweets'])\n",
    "\n",
    "#top 20 words in TF-IDF (word, TF-IDF value, index)\n",
    "top_n= 20\n",
    "indices = vectorizer.idf_.argsort()[::-1] # sort by TF-IDF\n",
    "features = vectorizer.get_feature_names() # word list\n",
    "top_features = [(features[i], vectorizer.idf_[i],i)\n",
    "               for i in indices[:top_n]]\n",
    "\n",
    "d = {}\n",
    "for i in top_features:\n",
    "    d[i[0]] = i[1]\n",
    "    \n",
    "w = WordCloud(background_color='white',\n",
    "             max_words=200,\n",
    "             max_font_size=200,\n",
    "             height=2000,\n",
    "             width=2000,\n",
    "             colormap='rainbow').fit_words(d)"
   ]
  },
  {
   "cell_type": "code",
   "execution_count": 32,
   "metadata": {},
   "outputs": [
    {
     "data": {
      "text/plain": [
       "<matplotlib.image.AxesImage at 0x1e5429abec8>"
      ]
     },
     "execution_count": 32,
     "metadata": {},
     "output_type": "execute_result"
    },
    {
     "data": {
      "image/png": "[encoded data removed]",
      "text/plain": [
       "<Figure size 432x288 with 1 Axes>"
      ]
     },
     "metadata": {
      "needs_background": "light"
     },
     "output_type": "display_data"
    }
   ],
   "source": [
    "w.to_file('beautifulSoup_demo2.png')\n",
    "plt.imshow(w, interpolation='bilinear')"
   ]
  },
  {
   "cell_type": "markdown",
   "metadata": {},
   "source": [
    "<img src='beautifulSoup_demo2.png'>"
   ]
  },
  {
   "cell_type": "code",
   "execution_count": null,
   "metadata": {},
   "outputs": [],
   "source": []
  }
 ],
 "metadata": {
  "kernelspec": {
   "display_name": "Python 3",
   "language": "python",
   "name": "python3"
  },
  "language_info": {
   "codemirror_mode": {
    "name": "ipython",
    "version": 3
   },
   "file_extension": ".py",
   "mimetype": "text/x-python",
   "name": "python",
   "nbconvert_exporter": "python",
   "pygments_lexer": "ipython3",
   "version": "3.7.4"
  }
 },
 "nbformat": 4,
 "nbformat_minor": 2
}
