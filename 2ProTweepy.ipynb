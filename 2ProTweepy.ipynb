{
 "cells": [
  {
   "cell_type": "code",
   "execution_count": 1,
   "metadata": {},
   "outputs": [],
   "source": [
    "import tweepy"
   ]
  },
  {
   "cell_type": "code",
   "execution_count": 2,
   "metadata": {},
   "outputs": [],
   "source": [
    "consumer_key = \"hz76GGcveHsN26QvAcTHhDVnn\" \n",
    "consumer_secret = \"hrBmAzughGzIV7oMvYnMb3JqXBEa4nXnrhzNSDQ7pTPnjaxi4n\"\n",
    "access_key = \"2547850260-3sVyHvzTYVTME2OEKhr9XEaZJ60eVvmSTMDwFDr\"\n",
    "access_secret = \"CRJmrH50FcbMAvDrguTTmgrQwVp81avbLJKCXzulV1d2B\""
   ]
  },
  {
   "cell_type": "code",
   "execution_count": 3,
   "metadata": {},
   "outputs": [],
   "source": [
    "# Authorization to consumer key and consumer secret \n",
    "auth = tweepy.OAuthHandler(consumer_key, consumer_secret)"
   ]
  },
  {
   "cell_type": "code",
   "execution_count": 4,
   "metadata": {},
   "outputs": [],
   "source": [
    "# Access to user's access key and access secret \n",
    "auth.set_access_token(access_key, access_secret)"
   ]
  },
  {
   "cell_type": "code",
   "execution_count": 5,
   "metadata": {},
   "outputs": [],
   "source": [
    "# Calling api \n",
    "api = tweepy.API(auth)"
   ]
  },
  {
   "cell_type": "code",
   "execution_count": 24,
   "metadata": {},
   "outputs": [],
   "source": [
    "# Tweets to be extracted\n",
    "c = \"#amazonIN\"\n",
    "search_words = c + \" -filter:retweets\"\n",
    "t = tweepy.Cursor(api.search,\n",
    "                       q = search_words,\n",
    "                       lang = \"en\").items(1000)\n",
    "tweets = [tweet.text for tweet in t]"
   ]
  },
  {
   "cell_type": "code",
   "execution_count": 11,
   "metadata": {
    "collapsed": true
   },
   "outputs": [
    {
     "data": {
      "text/plain": [
       "['#Ecommercephotography\\nGurgaon#videography #photography #weddingphotography #Products #VIDEO #Dthirdeyestudio… https://t.co/jvK8OAPxyk',\n",
       " 'I hope i win\\n#quiztimemoringswithamazon\\n#amazonIn https://t.co/0hm232nLYT',\n",
       " '#QuizTimeMorningsWithAmazon\\n#amazonin\\nDone 👍 https://t.co/4XeW6g22qj',\n",
       " '#quiztimemorningswithamazon \\n#quiztimemorningswithamazon \\n#amazonIN \\n#amazonquiz \\n#iPhoneXR\\n#amazon\\n#iphonexs \\nExit… https://t.co/Uf5SscKJBv',\n",
       " 'Rabin Roy @papercrafts13 #QuizTimeMorningsWithAmazon plz plz plz god hope I win this Apple iPhone XS #amazonIN https://t.co/Z6ntxln0YH',\n",
       " 'Sykam.Yanadi@chinna Saikam\\n#QuizTimeMoringsWithAmazon \\nToday Quiz Time @AmazonIN Iam Enter The Lucky Draw.Thank You… https://t.co/30hsBYHUjo',\n",
       " '#QuizTimeMorningsWithAmazon\\n#amazonIN\\nEligible for Apple iPhone XS https://t.co/nl39ocZ2mT',\n",
       " 'Adarsh Kumar @Adarsh82586022 \\n  #QuizTimeMoringsWithAmazon \\n     Thanks for. #amazonIN https://t.co/smx4TksXkr',\n",
       " \"@AmazonHelp I didn't get any email from Amazon on the issue concerned.. Except for asking feedback by the customer… https://t.co/qlcQoNsYyr\",\n",
       " '@AmazonHelp But why the account is blocked???  I have lodged complaints at least 4 times.. nothing seems to move..… https://t.co/oPf3V84H1f',\n",
       " '#amazonin customer service number 9093905295 //9631271233 amazon visibility to the top of the... https://t.co/NmNy97SP66',\n",
       " '#amazonIN Payment charged from my bank for an order, your customer sales executive confirms receipt and yet you dec… https://t.co/Cj8k7petvW',\n",
       " 'Buy now Inalsa Hand Mixer Easy Mix-200W with 7 Speed Control &amp; Detachable Stainless-Steel Finish Beater &amp; Whisker|… https://t.co/l1RpEETcN1',\n",
       " 'Redmi 8A Dual comes with:\\n- 13MP+2MP  Dual Camera, 8MP Selfie\\n- 5000mAh Battery\\n- 15.8cm(6.22) High-Definition+ Dis… https://t.co/Ow6h7teG4q',\n",
       " 'Samsung #GalaxyM31 launching in India on 25th Feb @ 12 PM , to be sold via #amazonIN \\n• FHD+ sAMOLED infinity-U dis… https://t.co/2aFQD2tSE3',\n",
       " '@CouponHunterr Play Todays and Win Sony alpha 6400 micro less Camera*\\n#amazonquiz #mirrorless #camera #SonyAlpha… https://t.co/pgyscLWz3G',\n",
       " '#Samsung Galaxy M31 India Launch: 25th Feb, 12PM\\nSold Via #AmazonIN\\n64MP Quad Rear Camera\\n6000mAh Battery\\nFHD+ sAMO… https://t.co/qa9ir1cXz0',\n",
       " '#QuizTimeMorningsWithAmazon\\n#amazonin\\nDone 👍 https://t.co/5k7ZacBr1D',\n",
       " 'Thanks for this quiz #AmazonIn \\n#Quiztimemorningswithamazon https://t.co/RgPT6yijIx',\n",
       " 'Thanks for this quiz\\n\\n#QuizTimeMoringsWithAmazon #amazonin https://t.co/0FeGzxprNN',\n",
       " 'Play Todays #amazonquiz and win #mirrorless #camera #SonyAlpha 6400 \\n#TuesdayThoughts #tuesdayMotivation… https://t.co/LBOySM63DU',\n",
       " 'Rabin Roy @papercrafts13 #QuizTimeMorningsWithAmazon I am eligible to win this prize.#amazonIN https://t.co/CKVvD9zMSn',\n",
       " 'Eligble. Hope to win this tym.\\n#amazonin #SonyAlpha #QuizTimeMorningWithAmazon https://t.co/Cz98m2CfCt',\n",
       " '#QuizTimeMorningsWithAmazon\\n#amazonIN\\nToday successfully completed quiz. https://t.co/uEvghyWYLM',\n",
       " '#QuizTimeMorningsWithAmazon\\nQuiz Time\\nDaily Quiz\\nSony Alpha 6400 mirrorless camera\\n#Amazonin\\n#JeffBezos https://t.co/sTVzSx3yHY',\n",
       " 'Samsung #GalaxyM31 Launching in India on 25th Feb @ 12 Noon to be sold via #amazonIN\\nhttps://t.co/2wSmcXDpw4\\n\\n•FHD+… https://t.co/eYIOYL9CIC',\n",
       " '@AMBRANEINDIA @amazonIN @amazonIN u better look into this matter or I sue  both  of u for selling faulty  products… https://t.co/umwVc0Blpu',\n",
       " '@amazonIN @ConsumerReports\\nI ordered a product order no. #406-5235957-6956329 from amazon on 22nd January. I was ch… https://t.co/KILdxPDVMc',\n",
       " '#amazonIN I report this on your FB and they still say you deliver ... Is something wrong... from a success story An… https://t.co/5xku4pK3YT',\n",
       " '#QuizTimeMorningsWithAmazon\\nAlll answer done\\nI have eligible to win ₹5000\\nThanks for #amazonquiz  #amazonin https://t.co/bud9UYfrxh',\n",
       " '#QuizTimeMorningsWithAmazon\\n#amazonIN\\nEligible for 5k. https://t.co/qBoCfQYfHu',\n",
       " 'SHOP NOW: https://t.co/bZegEz5ckP\\n\\nDISCOUNT: 20%\\n\\nPRODUCT: Sony WH-1000XM3 Wireless Industry Leading Noise Cancelli… https://t.co/ZA4yBrc9sj',\n",
       " 'SHOP NOW: https://t.co/1TSOBzTYaH\\n\\nDISCOUNT: 29%\\n\\nPRODUCT: Canon EOS 1500D 24.1 Digital SLR Camera \\n(Black)… https://t.co/96tHjrm2Wg',\n",
       " 'SHOP NOW: https://t.co/ZGOaqu4dgf\\n\\nDISCOUNT: 32%\\n\\nPRODUCT: Sony WI-C200 Wireless Bluetooth in-Ear… https://t.co/MJqVjT8yDJ',\n",
       " 'Some big  news about \\n#amazonin REPORTEDLY INTERESTED IN BUYING WWE PAY-PER-VIEW\\xa0 \\nLike and comment about it… https://t.co/KHBZQGzvIF',\n",
       " 'Egilble for draw... #amazonin  @amazonIN #AmazonSpinandWin #AmazonPaySpinAndWin https://t.co/sNTeABQPEf',\n",
       " 'Two fakes in 2 days. Shabash @AmazonHelp @amazonIN . Is Casio as a company aware that you are selling fake palika b… https://t.co/dALYnZc3uD',\n",
       " '🙄🙄🙄🙄Hoping for the best\\n\\n#AmazonWheelOfLove\\n#Amazon\\n#amazonIN \\n@amazonIN https://t.co/UN6HbInv95',\n",
       " 'Won so many times but never got selected 😐\\n#AmazonPaySpinAndWin \\n#amazonIN https://t.co/Pp7KAIalQc',\n",
       " \"Let's see if the wheel brings some fortune !\\n#AmazonWheelOfFortune  #amazonin https://t.co/FUO3Djjn9x\",\n",
       " \"Hemant Singh @hemants34244167\\n#AmazonWheelOfFortune\\n#amazonIN\\n#amazon\\nIt's lovely to play this wheel of fortune and… https://t.co/xAq6EHEDS3\",\n",
       " '#AmazonBetterIndiaQuiz \\n#Amazon #amazonIN #amazonquizwinner \\n@Amazonquiztime @amazon @amazonIN \\n  @JeffBezos sir he… https://t.co/NQGVrBTDmq',\n",
       " '#QuizTimeMorningsWithAmazon  I am eligible to win oppo reno2Z thankyou so much #amazonIN #JeffBezos #LOVEYOUAMAZON https://t.co/4Pmx0p8Al9',\n",
       " 'After 8 yrs i lost trust in #Amazon just bcoz of #amazonIN policies. 8 yrs relation with #Amazon USA &amp; never felt a… https://t.co/1qwmmOBayN',\n",
       " 'Which one is a better value for money smartphone according to you?\\nComment down your thoughts below ⬇️\\n\\n#Samsung… https://t.co/5c4z7hPnSi',\n",
       " \"Yay! I'm eligible. Hope i win it.\\n#amazonIN\",\n",
       " '#QuizTimeMorningsWithAmazon\\n#amazonin\\nHope I will be selected for this quiz prize https://t.co/rrUh5sBYK3',\n",
       " '#WheelOfFortune #amazonIN I am eligible to win the prize https://t.co/Z4mvkSGr5p',\n",
       " '#QuizTimeMorningsWithAmazon\\n#amazonin\\nDone 👍 https://t.co/J3vZvuVfVi',\n",
       " 'I successfully completed this quiz. And i hope to win this tym.\\n😣😣😣😣😣😣😣😣😣😣\\nMandeep.singh4632@gmail.com\\n#amazonIN… https://t.co/tWmRljnwaG',\n",
       " '#AmazonWheelOfFortune #amazonIN Hope to win https://t.co/Mqt1renrmi',\n",
       " 'Won Bose speaker i want this gift #AmazonWheelOfFortune #amazonin #amazonindia https://t.co/L4VGOUvegK',\n",
       " 'Just can pray for winning #quiztimemorningswithamazon #amazonin #amazonindia https://t.co/C1x4UDjxzR',\n",
       " '#AmazonWheelOfLove \\n#Sony4kledtv\\n#AmazonIN \\nhope to win it. https://t.co/502kRaSBqv',\n",
       " '#AmazonWheelOfFortune \\n#YamahaAcoustic Guitar\\n#AmazonIN \\ni hope to win i https://t.co/tE75qqTElb',\n",
       " '#QuizTimeMorningsWithAmazon\\n#OppoReno2z\\n#AmazonIN \\nhope to win it https://t.co/WB8kKtRICq',\n",
       " '#AmazonBetterIndiaQuiz \\n#Rs15000 as pay balance\\n#amazonin\\nhope to win https://t.co/VB9Dw1JBoX',\n",
       " '#AmazonFossilValentinesQuiz\\n#AmazonIN\\ni hope i will win https://t.co/4kDxgzraa7',\n",
       " '#AmazonBetterIndiaQuiz\\n#Amazonin\\n#JeffBezos\\nSPECIAL EDITION QUIZ\\nQUIZ TIME\\nAmazon Pay\\nMake me WIN https://t.co/cltR5RsXWG',\n",
       " 'WHEEL OF FORTUNE\\nHAPPY SUNDAY\\nSpin\\n#AmazonWheelOfFortune\\n#Amazonin\\n#JeffBezos\\nMake me WIN https://t.co/yLdoWfe5Br',\n",
       " 'toady mrg quiz #QuizTimeMorningsWithAmazon play on time with timely tweet ..done all answers correct hope i could w… https://t.co/caKxp9MsUr',\n",
       " \"#QuizTimeMorningsWithAmazon\\n#amazonIN\\nToday's entry for OPPO Reno2 Z https://t.co/APPHexVFhJ\",\n",
       " '#AmazonWheelOfFortune \\nSuccessfully entered into the draw to win Rs. 20,000. I just hope I could win it.\\nKALBURGI333@GMAI.COM\\n#amazonIn',\n",
       " '#AmazonBetterIndiaQuiz\\n#amazonIN\\nChance to win ₹ 15,000 https://t.co/G7yNWEGClq',\n",
       " 'Jeetendra Kumar Kushwaha @Jeetendrakush93 \\nthanks amazon for this special quiz \\n#amazonbetterindiaquiz\\n#amazonin… https://t.co/B9oD3UwyP7',\n",
       " 'READ REVIEW AND BUY.\\n\\n#AmazonDeals #ExitPolls #amazonIN #InspirationAsim \\n\\nhttps://t.co/otaxsYEzVr',\n",
       " \"Thanks @AlexaCMBLR for the world's first Alexa community day. All talks were great. Got me more interested in Alexa… https://t.co/onKkLWo6EJ\",\n",
       " 'thankyou #Amazon #AmazonIN',\n",
       " \"Jeetendra Kumar Kushwaha @Jeetendrakush93 \\nthanks amazon for this Valentine's day quiz \\n#AmazonFossilValentinesQuiz… https://t.co/8LEPdKfF8z\",\n",
       " 'Appalled at how @Flipkart blatantly allows selling of pirated street-side books. Bought 20 different books and all… https://t.co/TQaCTeiyMH',\n",
       " 'Small Gesture,\\nLarger Value creation.\\n.\\n.\\n.\\n.\\n.\\n#Amazon #amazonin #BudgetSession2020 #Budget2020 #India #Indian… https://t.co/RZ2e8knbMf',\n",
       " 'thanks for this quiz\\n\\n#AmazonWheelOfLove \\n#amazonin https://t.co/HOCtkWYKLs',\n",
       " 'Thanks for the spin and quiz\\n\\n#AmazonPaySpinAndWin \\n#amazonin https://t.co/o58Kh6MNO0',\n",
       " 'Thanks for quiz #AmazonIN\\n#QuizTimeMoringsWithAmazon https://t.co/AX9csdADSU',\n",
       " 'LCARE Quick Charge Display Power Bank Now Available On #Amazon!\\n\\n•Fast Charging\\n•Better look \\n•Display power bank… https://t.co/1Y80P7JWYn',\n",
       " \"I'm eligible for this.\\n#AmazonWheelOfLove\\n#amazonin @amazon https://t.co/KpzrdasaFb\",\n",
       " \"I'm eligible for this.\\n#QuizTimeMorningsWithAmazon\\n#amazonin @amazon https://t.co/4dZtVnbphl\",\n",
       " \"I'm eligible for this. \\n#AmazonKarigarQuiz\\n@amazon #amazonin https://t.co/VnFW6q4fkd\",\n",
       " \"I'm eligible for this.\\n#AmazonFossilValentinesQuiz\\n@amazon #amazonin https://t.co/utjPrnW2CZ\",\n",
       " \"I'm eligible for this adorable game. \\n#AmazonPaySpinAndWin\\n#amazonin https://t.co/Zp3nj77DnX\",\n",
       " 'Thanks for this quiz #AmazonIN \\n#QuizTimeMorningsWithAmazon https://t.co/9ooycEs42k',\n",
       " 'Amazon wheel of love #AmazonIN \\n#AmozonWheelOfLove https://t.co/ZNLcJvb11W',\n",
       " 'Play for #QuizTimeMorningsWithAmazon hope i could win thanks #amazonIN https://t.co/KILY7CH95z',\n",
       " '#QuizTimeMorningsWithAmazon\\n#amazonIN\\nHope I will be selected for this quiz prize https://t.co/Elokd6nb0R',\n",
       " '#QuizTimeMorningsWithAmazon\\n#amazonin\\nDone 👍 https://t.co/J8xH50GHG7',\n",
       " '#QuizTimeMorningsWithAmazon\\n#amazonIN\\nLove to win Kenwood Food Processor https://t.co/hhgA9vu7Bo',\n",
       " '#AmazonWheelOfLove\\n#AmazonIN thankyou\\ni am win sony 4k LED TV\\niam very happy https://t.co/umXwp7cFyb',\n",
       " 'Thanks #amazonin \\n#QuizTimeMorningsWithAmazon https://t.co/iMiquE03Ux',\n",
       " 'Get FREE delivery on all #LCARE electronics items with the all over the 100 cities across India.\\n\\nShop Now:… https://t.co/yDOCbybB9P',\n",
       " '#AmazonkarigarQuiz \\n#Amazon \\n#amazonIN I am eligible\\n😍😍😍 https://t.co/qU68PwMx3Y',\n",
       " 'Thank for quiz #amazonIN \\n#QuizTimeMorningsWithAmazon https://t.co/rrI61Vz9Ml',\n",
       " '#AmazonWheelOfLove \\nReally 😂😂 #amazonIN https://t.co/aNqAdHZfqh',\n",
       " 'Jeetendra Kumar Kushwaha @Jeetendrakush93 \\nthanks amazon for this special quiz \\n#AmazonWheelOfLove \\n#amazonin… https://t.co/RFaBKxepzt',\n",
       " 'Thank for quiz time #AmazonIN F.L.A.M.E.S #AmazonWheelOfLove https://t.co/3R7vHIgKIO',\n",
       " '@kashifrz27gmai1 #AmazonWheelOfLove #amazonin #Amazon #Amazonindia #amazonquizwinner \\nlucky draw to win 15000 amazo… https://t.co/r09LffP7SZ',\n",
       " \"I'm eligible for this.\\n#QuizTimeMorningsWithAmazon\\n#amazonin thanks @amazon https://t.co/tx86kbJIqN\",\n",
       " '@kashifrz27gmai1 #QuizTimeMorningsWithAmazone #amazonin #Amazon #Amazonindia eligible fossil leather bag. https://t.co/yndBpUpqZd',\n",
       " '#AmazonWheelOFLove #amazonin @amazonIN @AbudlAdil I hope to win this Quiz https://t.co/kO5FFQirgw',\n",
       " '#AmazonWheelOfLove\\n#amazonin \\nHope I will be selected for this quiz https://t.co/ekDmAgh8E5',\n",
       " 'Amazon wheel of LOVE\\nF. L. A. M. E. S\\nVALENTINES DAY SPECIAL♥️\\n#AmazonWheelOfLove\\n#amazonin\\n#JeffBezos\\nSony Bravia… https://t.co/eNyIblWWRa',\n",
       " 'Rabin Roy @papercrafts13 #QuizTimeMorningsWithAmazon I am eligible to win this #amazonIN https://t.co/rONxNMuVTK',\n",
       " '#Ecommercephotography #videography #photography #weddingphotography #branding #Products #VIDEO #Dthirdeyestudio… https://t.co/UVQZN0Flxm',\n",
       " '#QuizTimeMorningsWithAmazon\\n#amazonIN\\nChance to win Fossil Leather Bag https://t.co/PyFYJOSODr',\n",
       " '#AmazonWheelOfLove\\n#amazonIN\\nAnd here is chance to win Fossil watches https://t.co/gfocCqKnRG',\n",
       " 'Redmi to launch new smartphone on 11th Feb, 12 Noon available from #amazonIN https://t.co/9oWuoJ2NUY… https://t.co/cg1xaZ0ni0',\n",
       " 'I am sick and tired now. Please look into this. #AmazonIn #Amazon',\n",
       " 'SHOP NOW: https://t.co/Rw23Sj9vs0\\n\\nDISCOUNT: 62%\\n\\nPRODUCT: boAt BassHeads 100 in-Ear Headphones with… https://t.co/OqfOQT6GeG',\n",
       " '#Redmi9A to be sold via #amazonIN\\nhttps://t.co/PyKWMWSRIL\\n\\n#DeshKaDumdaarSmartphone #Xiaomi #Redmi https://t.co/WEmz7oJviy',\n",
       " 'Conversation with my 6yr old.. \\n\\nKid: Mama why do they have shops? \\nMe: For people to buy what they want.. \\nKid: Bu… https://t.co/CHLbKD3ISR',\n",
       " 'Us review need refund after reveiw #amazonfilmfareawards \\n#amazonギフト券\\n#amazonプライムビデオ\\n#amazonprimevideo\\n#amazonprime… https://t.co/ue4HCdPU36',\n",
       " '#ICICIBank #icicicreditcard #iciciBank_care #amazonpaycredicard #AmazonIndia #amazonin Dear icici bank, amazon cust… https://t.co/6RGw8n5KHy',\n",
       " '#QuizTimeMorningsWithAmazon\\n#amazonin\\nDone 👍 https://t.co/FkStVfVMjl',\n",
       " 'Please give me valentine gift #AmazonFossilValentinesQuiz #amazonin #AmazonIndia https://t.co/aNHVYleSGI',\n",
       " 'Please pray for me #AmazonSpinandWin #amazonin #AmazonIndia https://t.co/lMtmsLov5D',\n",
       " 'Done it #quiztimemorningswithamazon #amazonin https://t.co/z3gWNn62JF',\n",
       " \"You just can't miss these crazy deals for your home...Just explore here👇👇\\n\\n#homesweethome #AmazonDeals #Deals… https://t.co/UXqHMfMmg0\",\n",
       " \"@?#QuizTimeMorningsWithAmazon\\n\\nI'm eligible #amazonin https://t.co/1oBBBvYFO9\",\n",
       " 'I am Rabin Roy @papercrafts13  #QuizTimeMorningsWithAmazon I am eligible to win 15,000 rupees hope I win this.If I… https://t.co/zUEyri7qZA',\n",
       " 'Surya yadav @suryayadav72 \\n#quiztimemorningswithamazon \\nHi #amazonin i am eligibile to win 15,000 rs i am very to p… https://t.co/EucaQ4qL0A',\n",
       " '#QuizTimeMorningsWithAmazon\\n#amazonIN\\nDay starts with quiz. https://t.co/4N47SaRkO9',\n",
       " 'Thank you #amazonin #QuizTimeMorningsWithAmazon https://t.co/lrc3hTwrdE',\n",
       " '#QuizTimeMorningsWithAmazon\\nTHANK YOU #AmazonIN\\nThis competition is a good effort for life improvement and future i… https://t.co/JVBLIFbAwQ',\n",
       " '#amazonin customer service number 9330088529 8298018926 amazon visibility to the top of the https://t.co/zn0QEtNKEG',\n",
       " \"@amazonIN Why isn't delivery available to Kashmir (190006) on any of your Items whether its books or any other thin… https://t.co/D13D0Rfin4\",\n",
       " '#QuizTimeMorningsWithAmazon\\n#AmazonIN\\n#Amazon\\nMorning winner ☀️ https://t.co/lqovnZdCZM',\n",
       " \"Hey #amazonIN I'm eligible to win this contest\\n\\n#AmazonKarigarQuiz https://t.co/ZFlsr4KxUd\",\n",
       " 'Amazon india morning quiz\\n#QuizTimeMorningsWithAmazon #RedmiNote8Pro #Amazon #amazonin #redmi https://t.co/EMNtMi8ARY',\n",
       " 'Done!👍🤞\\n#QuizTimeMorningsWithAmazon \\n#RedmiNote8Pro \\n#amazonin https://t.co/WblJBlM54l',\n",
       " '#QuizTimeMorningsWithAmazon\\n#amazonin\\nDone 👍 https://t.co/qLPa7y2uEK',\n",
       " 'Valentine days special #AmazonIN \\n#AmazonFossilValentinesQuiz https://t.co/jnKKqcBPLb',\n",
       " 'Surya yadav @suryayadav72 \\n#QuizTimeMorningsWithAmazon hi #amazonin i am able to win REDMI NOTE 8 PRO mobile phone… https://t.co/SuwfcynIDx',\n",
       " 'Morning with Amazon #AmazonIN \\n#QuizTimeMorningsWithAmazon https://t.co/QTOcK8wlkd',\n",
       " \"Jeetendra Kumar Kushwaha @Jeetendrakush93 \\nGood morning amazon \\nI'm really excited for winning redmi Note 8pro… https://t.co/6aahXjYfG8\",\n",
       " 'Thank for quiz time #AmazonIN #AmazonPaySpinAndWin https://t.co/eLg5u4UaPZ',\n",
       " 'I am Rabin Roy @papercrafts13  #QuizTimeMorningsWithAmazon I am eligible to win Redmi Note 8 Pro. please god hope I… https://t.co/kI2HsSHXVx',\n",
       " 'A similar problem with Amazon Pay was treated with all seriousness and resolved within 2 days. #amazonin',\n",
       " 'Thanks for this quiz #AmazonIN \\n@amazon #QuizTimeMorningsWithAmazon https://t.co/CpYgBHqqcM',\n",
       " 'Good mrg amazon i am happy to play  #QuizTimeMorningsWithAmazon for my favourite apple ipad pro done all answers co… https://t.co/c7LxqDqnfP',\n",
       " \"Hey #amazonIN I'm eligible to win this contest \\n#QuizTimeMorningsWithAmazon https://t.co/MBeahWTtr6\",\n",
       " '#QuizTimeMorningsWithAmazon\\n#amazonIN\\n#Amazon\\nMorning 🌞 winner https://t.co/1brA6KqoIG',\n",
       " 'Participate and win #QuizTimeMorningsWithAmazone #amazondailyquiz #Amazon #amazonin https://t.co/QdNFH0N0fj',\n",
       " '#QuizTimeMorningsWithAmazon\\n#amazonin\\nDone 👍 https://t.co/W2O4c6ar8q',\n",
       " '@amazonIN is no more faithful as they avoid replying with proper resolution &amp; keep on Automatic replies , Seems… https://t.co/HhqmotmXr5',\n",
       " '#QuizTimeMorningsWithAmazon\\n#amazonin\\n#AmazonSmbhav \\nHope I can get some of that prizes https://t.co/qJk5OJy6Ik',\n",
       " \"#QuizTimeMorningsWithAmazon\\n#amazonIN\\nAnd here is today's entry for Apple iPod Pro https://t.co/v02dIbaptZ\",\n",
       " 'Rabin Roy @papercrafts13 #QuizTimeMorningsWithAmazon  I am eligible to win Apple iPad Pro.#amazonIN https://t.co/7MISC86NV5',\n",
       " '#QuizTimeMorningsWithAmazon \\n#amazonin \\nFinally hope to win thanks for the quiz https://t.co/hcvfSVGu2L',\n",
       " '#QuizTimeMorningsWithAmazon @AbudlAdil I am playing every day daily Amazon Quiz I hope to win this Quiz @amazonIN… https://t.co/p7wYIPnPQa',\n",
       " '@kashifrz27gmai1 #AmazonPaySpinAndWin #Amazonquiztime #amazonin #amazonindia eligible for 25000. https://t.co/zXsJOnRqAi',\n",
       " '#QuizTimeMorningsWithAmazon @AbudlAdil @amazonIN I am playing every day daily Amazon Quiz I hope to win today Quiz… https://t.co/NXJDjnGmeL']"
      ]
     },
     "execution_count": 11,
     "metadata": {},
     "output_type": "execute_result"
    }
   ],
   "source": [
    "tweets"
   ]
  },
  {
   "cell_type": "code",
   "execution_count": 37,
   "metadata": {},
   "outputs": [
    {
     "data": {
      "text/plain": [
       "[\"@Freespirit10110 @raghavsomani @amazonIN Hey Rohan, \\nFor Sony XB900N, the product is on Sony's Valentine's Day sale… https://t.co/Gr2uSNt7oG\",\n",
       " '@Headphone_Zone @raghavsomani -The price of Sony Xb900n Is same as amazon in your site any reason why I buy from yo… https://t.co/WmkWHlQ3Th',\n",
       " '#Samsung Galaxy M31 India Launch: 25th Feb, 12PM\\nSold Via #AmazonIN\\n64MP Quad Rear Camera\\n6000mAh Battery\\nFHD+ sAMO… https://t.co/qa9ir1cXz0',\n",
       " '@amazonIN hey i am regular  customer amazon ecommerce app .i purcahse Boat bluetooth headphone . its two tym defcti… https://t.co/y7v9zWTwtL',\n",
       " '@amazonIN  hi amazing guys from amazon, I will be coming india on dated 14 feb, can you guys deliver one headphone… https://t.co/Y2ZCOQoUG7',\n",
       " '@OnePlus_IN  I would like to know that if a customer buys your products via @amazonIN does he does not pay you. the… https://t.co/xReCEguNqF']"
      ]
     },
     "execution_count": 37,
     "metadata": {},
     "output_type": "execute_result"
    }
   ],
   "source": [
    "# Tweets to be extracted\n",
    "search_words = \"amazonIN+headphone -filter:retweets\"\n",
    "t = tweepy.Cursor(api.search,\n",
    "                       q = search_words,\n",
    "                       lang = \"en\").items(1000)\n",
    "tweets = [tweet.text for tweet in t]\n",
    "tweets"
   ]
  },
  {
   "cell_type": "code",
   "execution_count": 31,
   "metadata": {},
   "outputs": [],
   "source": [
    "import re\n",
    "import pandas as pd\n",
    "import numpy as np\n",
    "import nltk\n",
    "from nltk.corpus import stopwords\n",
    "from nltk.corpus import wordnet\n",
    "from nltk.stem import PorterStemmer\n",
    "from nltk.stem import WordNetLemmatizer\n",
    "from wordcloud import WordCloud\n",
    "import random\n",
    "import glob\n",
    "from textblob import TextBlob\n",
    "import io\n",
    "from sklearn.feature_extraction.text import TfidfVectorizer\n",
    "from sklearn.feature_extraction.text import CountVectorizer\n",
    "import matplotlib.pyplot as plt"
   ]
  },
  {
   "cell_type": "code",
   "execution_count": 25,
   "metadata": {},
   "outputs": [
    {
     "data": {
      "text/html": [
       "<div>\n",
       "<style scoped>\n",
       "    .dataframe tbody tr th:only-of-type {\n",
       "        vertical-align: middle;\n",
       "    }\n",
       "\n",
       "    .dataframe tbody tr th {\n",
       "        vertical-align: top;\n",
       "    }\n",
       "\n",
       "    .dataframe thead th {\n",
       "        text-align: right;\n",
       "    }\n",
       "</style>\n",
       "<table border=\"1\" class=\"dataframe\">\n",
       "  <thead>\n",
       "    <tr style=\"text-align: right;\">\n",
       "      <th></th>\n",
       "      <th>tweets</th>\n",
       "    </tr>\n",
       "  </thead>\n",
       "  <tbody>\n",
       "    <tr>\n",
       "      <td>0</td>\n",
       "      <td>#Ecommercephotography\\nGurgaon#videography #ph...</td>\n",
       "    </tr>\n",
       "    <tr>\n",
       "      <td>1</td>\n",
       "      <td>I hope i win\\n#quiztimemoringswithamazon\\n#ama...</td>\n",
       "    </tr>\n",
       "    <tr>\n",
       "      <td>2</td>\n",
       "      <td>#QuizTimeMorningsWithAmazon\\n#amazonin\\nDone 👍...</td>\n",
       "    </tr>\n",
       "    <tr>\n",
       "      <td>3</td>\n",
       "      <td>#quiztimemorningswithamazon \\n#quiztimemorning...</td>\n",
       "    </tr>\n",
       "    <tr>\n",
       "      <td>4</td>\n",
       "      <td>Rabin Roy @papercrafts13 #QuizTimeMorningsWith...</td>\n",
       "    </tr>\n",
       "    <tr>\n",
       "      <td>5</td>\n",
       "      <td>Sykam.Yanadi@chinna Saikam\\n#QuizTimeMoringsWi...</td>\n",
       "    </tr>\n",
       "    <tr>\n",
       "      <td>6</td>\n",
       "      <td>#QuizTimeMorningsWithAmazon\\n#amazonIN\\nEligib...</td>\n",
       "    </tr>\n",
       "    <tr>\n",
       "      <td>7</td>\n",
       "      <td>Adarsh Kumar @Adarsh82586022 \\n  #QuizTimeMori...</td>\n",
       "    </tr>\n",
       "    <tr>\n",
       "      <td>8</td>\n",
       "      <td>@AmazonHelp I didn't get any email from Amazon...</td>\n",
       "    </tr>\n",
       "    <tr>\n",
       "      <td>9</td>\n",
       "      <td>@AmazonHelp But why the account is blocked??? ...</td>\n",
       "    </tr>\n",
       "  </tbody>\n",
       "</table>\n",
       "</div>"
      ],
      "text/plain": [
       "                                              tweets\n",
       "0  #Ecommercephotography\\nGurgaon#videography #ph...\n",
       "1  I hope i win\\n#quiztimemoringswithamazon\\n#ama...\n",
       "2  #QuizTimeMorningsWithAmazon\\n#amazonin\\nDone 👍...\n",
       "3  #quiztimemorningswithamazon \\n#quiztimemorning...\n",
       "4  Rabin Roy @papercrafts13 #QuizTimeMorningsWith...\n",
       "5  Sykam.Yanadi@chinna Saikam\\n#QuizTimeMoringsWi...\n",
       "6  #QuizTimeMorningsWithAmazon\\n#amazonIN\\nEligib...\n",
       "7  Adarsh Kumar @Adarsh82586022 \\n  #QuizTimeMori...\n",
       "8  @AmazonHelp I didn't get any email from Amazon...\n",
       "9  @AmazonHelp But why the account is blocked??? ..."
      ]
     },
     "execution_count": 25,
     "metadata": {},
     "output_type": "execute_result"
    }
   ],
   "source": [
    "tweets_df = pd.DataFrame({'tweets' : tweets})\n",
    "tweets_df.head(10)"
   ]
  },
  {
   "cell_type": "code",
   "execution_count": 36,
   "metadata": {},
   "outputs": [
    {
     "data": {
      "text/plain": [
       "(151, 3)"
      ]
     },
     "execution_count": 36,
     "metadata": {},
     "output_type": "execute_result"
    }
   ],
   "source": [
    "tweets_df.shape"
   ]
  },
  {
   "cell_type": "code",
   "execution_count": 26,
   "metadata": {},
   "outputs": [],
   "source": [
    "stop_words = list(set(stopwords.words('english')))\n",
    "\n",
    "def cleanse(input_text):\n",
    "    keep_alpha = re.sub(\"[^a-zA-Z]\",\" \",input_text)\n",
    "    remove_extra_spaces = re.sub(\"[\\s]+\",\" \",keep_alpha)\n",
    "    convert_case = remove_extra_spaces.lower()\n",
    "    stop_words_removal = [word for word in convert_case.split()\n",
    "                          if word not in stop_words]\n",
    "    remove_smaller_words = [word for word in stop_words_removal\n",
    "                          if len(word) >=3]\n",
    "    clean_tokens = [word for word in remove_smaller_words\n",
    "                   if 'http' not in word and\n",
    "                   '@' not in word and\n",
    "                   '<' not in word and\n",
    "                   'RT' not in word]\n",
    "    return \" \".join(clean_tokens)\n",
    "\n",
    "lemmatizer = WordNetLemmatizer()\n",
    "\n",
    "def lemmatize(input_text):\n",
    "    lemmas=[]\n",
    "    tokens = input_text.split()\n",
    "    for token in tokens:\n",
    "        tag = nltk.pos_tag([token])[0][1][0].upper()\n",
    "        tag_dict = {\"J\": wordnet.ADJ,\n",
    "                    \"N\": wordnet.NOUN,\n",
    "                    \"V\": wordnet.VERB,\n",
    "                    \"R\": wordnet.ADV}\n",
    "        if tag in tag_dict.keys():\n",
    "            pos = tag_dict[tag]\n",
    "            lemma = lemmatizer.lemmatize(token,pos)\n",
    "            lemmas.append(lemma)\n",
    "        else:\n",
    "            lemmas.append(token)\n",
    "    return \" \".join(lemmas)"
   ]
  },
  {
   "cell_type": "code",
   "execution_count": 27,
   "metadata": {},
   "outputs": [
    {
     "data": {
      "text/html": [
       "<div>\n",
       "<style scoped>\n",
       "    .dataframe tbody tr th:only-of-type {\n",
       "        vertical-align: middle;\n",
       "    }\n",
       "\n",
       "    .dataframe tbody tr th {\n",
       "        vertical-align: top;\n",
       "    }\n",
       "\n",
       "    .dataframe thead th {\n",
       "        text-align: right;\n",
       "    }\n",
       "</style>\n",
       "<table border=\"1\" class=\"dataframe\">\n",
       "  <thead>\n",
       "    <tr style=\"text-align: right;\">\n",
       "      <th></th>\n",
       "      <th>tweets</th>\n",
       "      <th>clean_tweets</th>\n",
       "    </tr>\n",
       "  </thead>\n",
       "  <tbody>\n",
       "    <tr>\n",
       "      <td>0</td>\n",
       "      <td>#Ecommercephotography\\nGurgaon#videography #ph...</td>\n",
       "      <td>ecommercephotography gurgaon videography photo...</td>\n",
       "    </tr>\n",
       "    <tr>\n",
       "      <td>1</td>\n",
       "      <td>I hope i win\\n#quiztimemoringswithamazon\\n#ama...</td>\n",
       "      <td>hope win quiztimemoringswithamazon amazonin nlyt</td>\n",
       "    </tr>\n",
       "    <tr>\n",
       "      <td>2</td>\n",
       "      <td>#QuizTimeMorningsWithAmazon\\n#amazonin\\nDone 👍...</td>\n",
       "      <td>quiztimemorningswithamazon amazonin do xew</td>\n",
       "    </tr>\n",
       "    <tr>\n",
       "      <td>3</td>\n",
       "      <td>#quiztimemorningswithamazon \\n#quiztimemorning...</td>\n",
       "      <td>quiztimemorningswithamazon quiztimemorningswit...</td>\n",
       "    </tr>\n",
       "    <tr>\n",
       "      <td>4</td>\n",
       "      <td>Rabin Roy @papercrafts13 #QuizTimeMorningsWith...</td>\n",
       "      <td>rabin roy papercrafts quiztimemorningswithamaz...</td>\n",
       "    </tr>\n",
       "    <tr>\n",
       "      <td>...</td>\n",
       "      <td>...</td>\n",
       "      <td>...</td>\n",
       "    </tr>\n",
       "    <tr>\n",
       "      <td>146</td>\n",
       "      <td>#QuizTimeMorningsWithAmazon \\n#amazonin \\nFina...</td>\n",
       "      <td>quiztimemorningswithamazon amazonin finally ho...</td>\n",
       "    </tr>\n",
       "    <tr>\n",
       "      <td>147</td>\n",
       "      <td>#QuizTimeMorningsWithAmazon @AbudlAdil I am pl...</td>\n",
       "      <td>quiztimemorningswithamazon abudladil play ever...</td>\n",
       "    </tr>\n",
       "    <tr>\n",
       "      <td>148</td>\n",
       "      <td>#amazonin customer care number(9749685478) all...</td>\n",
       "      <td>amazonin customer care number problem solve op...</td>\n",
       "    </tr>\n",
       "    <tr>\n",
       "      <td>149</td>\n",
       "      <td>@kashifrz27gmai1 #AmazonPaySpinAndWin #Amazonq...</td>\n",
       "      <td>kashifrz gmai amazonpayspinandwin amazonquizti...</td>\n",
       "    </tr>\n",
       "    <tr>\n",
       "      <td>150</td>\n",
       "      <td>#QuizTimeMorningsWithAmazon @AbudlAdil @amazon...</td>\n",
       "      <td>quiztimemorningswithamazon abudladil amazonin ...</td>\n",
       "    </tr>\n",
       "  </tbody>\n",
       "</table>\n",
       "<p>151 rows × 2 columns</p>\n",
       "</div>"
      ],
      "text/plain": [
       "                                                tweets  \\\n",
       "0    #Ecommercephotography\\nGurgaon#videography #ph...   \n",
       "1    I hope i win\\n#quiztimemoringswithamazon\\n#ama...   \n",
       "2    #QuizTimeMorningsWithAmazon\\n#amazonin\\nDone 👍...   \n",
       "3    #quiztimemorningswithamazon \\n#quiztimemorning...   \n",
       "4    Rabin Roy @papercrafts13 #QuizTimeMorningsWith...   \n",
       "..                                                 ...   \n",
       "146  #QuizTimeMorningsWithAmazon \\n#amazonin \\nFina...   \n",
       "147  #QuizTimeMorningsWithAmazon @AbudlAdil I am pl...   \n",
       "148  #amazonin customer care number(9749685478) all...   \n",
       "149  @kashifrz27gmai1 #AmazonPaySpinAndWin #Amazonq...   \n",
       "150  #QuizTimeMorningsWithAmazon @AbudlAdil @amazon...   \n",
       "\n",
       "                                          clean_tweets  \n",
       "0    ecommercephotography gurgaon videography photo...  \n",
       "1     hope win quiztimemoringswithamazon amazonin nlyt  \n",
       "2           quiztimemorningswithamazon amazonin do xew  \n",
       "3    quiztimemorningswithamazon quiztimemorningswit...  \n",
       "4    rabin roy papercrafts quiztimemorningswithamaz...  \n",
       "..                                                 ...  \n",
       "146  quiztimemorningswithamazon amazonin finally ho...  \n",
       "147  quiztimemorningswithamazon abudladil play ever...  \n",
       "148  amazonin customer care number problem solve op...  \n",
       "149  kashifrz gmai amazonpayspinandwin amazonquizti...  \n",
       "150  quiztimemorningswithamazon abudladil amazonin ...  \n",
       "\n",
       "[151 rows x 2 columns]"
      ]
     },
     "execution_count": 27,
     "metadata": {},
     "output_type": "execute_result"
    }
   ],
   "source": [
    "tweets_df['clean_tweets'] = tweets_df['tweets'].apply(cleanse)\n",
    "tweets_df['clean_tweets'] = tweets_df['clean_tweets'].apply(lemmatize)\n",
    "tweets_df"
   ]
  },
  {
   "cell_type": "code",
   "execution_count": 28,
   "metadata": {},
   "outputs": [],
   "source": [
    "def get_sentiment(input_string):\n",
    "    blob = TextBlob(input_string)\n",
    "    sentiment = blob.sentiment.polarity\n",
    "    return sentiment"
   ]
  },
  {
   "cell_type": "code",
   "execution_count": 29,
   "metadata": {},
   "outputs": [
    {
     "data": {
      "text/html": [
       "<div>\n",
       "<style scoped>\n",
       "    .dataframe tbody tr th:only-of-type {\n",
       "        vertical-align: middle;\n",
       "    }\n",
       "\n",
       "    .dataframe tbody tr th {\n",
       "        vertical-align: top;\n",
       "    }\n",
       "\n",
       "    .dataframe thead th {\n",
       "        text-align: right;\n",
       "    }\n",
       "</style>\n",
       "<table border=\"1\" class=\"dataframe\">\n",
       "  <thead>\n",
       "    <tr style=\"text-align: right;\">\n",
       "      <th></th>\n",
       "      <th>tweets</th>\n",
       "      <th>clean_tweets</th>\n",
       "      <th>sentiment</th>\n",
       "    </tr>\n",
       "  </thead>\n",
       "  <tbody>\n",
       "    <tr>\n",
       "      <td>0</td>\n",
       "      <td>#Ecommercephotography\\nGurgaon#videography #ph...</td>\n",
       "      <td>ecommercephotography gurgaon videography photo...</td>\n",
       "      <td>0.000000</td>\n",
       "    </tr>\n",
       "    <tr>\n",
       "      <td>1</td>\n",
       "      <td>I hope i win\\n#quiztimemoringswithamazon\\n#ama...</td>\n",
       "      <td>hope win quiztimemoringswithamazon amazonin nlyt</td>\n",
       "      <td>0.800000</td>\n",
       "    </tr>\n",
       "    <tr>\n",
       "      <td>2</td>\n",
       "      <td>#QuizTimeMorningsWithAmazon\\n#amazonin\\nDone 👍...</td>\n",
       "      <td>quiztimemorningswithamazon amazonin do xew</td>\n",
       "      <td>0.000000</td>\n",
       "    </tr>\n",
       "    <tr>\n",
       "      <td>3</td>\n",
       "      <td>#quiztimemorningswithamazon \\n#quiztimemorning...</td>\n",
       "      <td>quiztimemorningswithamazon quiztimemorningswit...</td>\n",
       "      <td>0.000000</td>\n",
       "    </tr>\n",
       "    <tr>\n",
       "      <td>4</td>\n",
       "      <td>Rabin Roy @papercrafts13 #QuizTimeMorningsWith...</td>\n",
       "      <td>rabin roy papercrafts quiztimemorningswithamaz...</td>\n",
       "      <td>0.800000</td>\n",
       "    </tr>\n",
       "    <tr>\n",
       "      <td>...</td>\n",
       "      <td>...</td>\n",
       "      <td>...</td>\n",
       "      <td>...</td>\n",
       "    </tr>\n",
       "    <tr>\n",
       "      <td>146</td>\n",
       "      <td>#QuizTimeMorningsWithAmazon \\n#amazonin \\nFina...</td>\n",
       "      <td>quiztimemorningswithamazon amazonin finally ho...</td>\n",
       "      <td>0.333333</td>\n",
       "    </tr>\n",
       "    <tr>\n",
       "      <td>147</td>\n",
       "      <td>#QuizTimeMorningsWithAmazon @AbudlAdil I am pl...</td>\n",
       "      <td>quiztimemorningswithamazon abudladil play ever...</td>\n",
       "      <td>0.400000</td>\n",
       "    </tr>\n",
       "    <tr>\n",
       "      <td>148</td>\n",
       "      <td>#amazonin customer care number(9749685478) all...</td>\n",
       "      <td>amazonin customer care number problem solve op...</td>\n",
       "      <td>0.000000</td>\n",
       "    </tr>\n",
       "    <tr>\n",
       "      <td>149</td>\n",
       "      <td>@kashifrz27gmai1 #AmazonPaySpinAndWin #Amazonq...</td>\n",
       "      <td>kashifrz gmai amazonpayspinandwin amazonquizti...</td>\n",
       "      <td>0.000000</td>\n",
       "    </tr>\n",
       "    <tr>\n",
       "      <td>150</td>\n",
       "      <td>#QuizTimeMorningsWithAmazon @AbudlAdil @amazon...</td>\n",
       "      <td>quiztimemorningswithamazon abudladil amazonin ...</td>\n",
       "      <td>0.400000</td>\n",
       "    </tr>\n",
       "  </tbody>\n",
       "</table>\n",
       "<p>151 rows × 3 columns</p>\n",
       "</div>"
      ],
      "text/plain": [
       "                                                tweets  \\\n",
       "0    #Ecommercephotography\\nGurgaon#videography #ph...   \n",
       "1    I hope i win\\n#quiztimemoringswithamazon\\n#ama...   \n",
       "2    #QuizTimeMorningsWithAmazon\\n#amazonin\\nDone 👍...   \n",
       "3    #quiztimemorningswithamazon \\n#quiztimemorning...   \n",
       "4    Rabin Roy @papercrafts13 #QuizTimeMorningsWith...   \n",
       "..                                                 ...   \n",
       "146  #QuizTimeMorningsWithAmazon \\n#amazonin \\nFina...   \n",
       "147  #QuizTimeMorningsWithAmazon @AbudlAdil I am pl...   \n",
       "148  #amazonin customer care number(9749685478) all...   \n",
       "149  @kashifrz27gmai1 #AmazonPaySpinAndWin #Amazonq...   \n",
       "150  #QuizTimeMorningsWithAmazon @AbudlAdil @amazon...   \n",
       "\n",
       "                                          clean_tweets  sentiment  \n",
       "0    ecommercephotography gurgaon videography photo...   0.000000  \n",
       "1     hope win quiztimemoringswithamazon amazonin nlyt   0.800000  \n",
       "2           quiztimemorningswithamazon amazonin do xew   0.000000  \n",
       "3    quiztimemorningswithamazon quiztimemorningswit...   0.000000  \n",
       "4    rabin roy papercrafts quiztimemorningswithamaz...   0.800000  \n",
       "..                                                 ...        ...  \n",
       "146  quiztimemorningswithamazon amazonin finally ho...   0.333333  \n",
       "147  quiztimemorningswithamazon abudladil play ever...   0.400000  \n",
       "148  amazonin customer care number problem solve op...   0.000000  \n",
       "149  kashifrz gmai amazonpayspinandwin amazonquizti...   0.000000  \n",
       "150  quiztimemorningswithamazon abudladil amazonin ...   0.400000  \n",
       "\n",
       "[151 rows x 3 columns]"
      ]
     },
     "execution_count": 29,
     "metadata": {},
     "output_type": "execute_result"
    }
   ],
   "source": [
    "tweets_df['sentiment'] = tweets_df['clean_tweets'].apply(get_sentiment)\n",
    "tweets_df"
   ]
  },
  {
   "cell_type": "code",
   "execution_count": 30,
   "metadata": {},
   "outputs": [
    {
     "name": "stdout",
     "output_type": "stream",
     "text": [
      "8\n",
      "66\n",
      "77\n"
     ]
    }
   ],
   "source": [
    "negative_counts = tweets_df[tweets_df['sentiment']<0].count()[0]\n",
    "neutral_counts = tweets_df[tweets_df['sentiment']==0].count()[0]\n",
    "positive_counts = tweets_df[tweets_df['sentiment']>0].count()[0]\n",
    "\n",
    "print(negative_counts)\n",
    "print(neutral_counts)\n",
    "print(positive_counts)"
   ]
  },
  {
   "cell_type": "code",
   "execution_count": 32,
   "metadata": {},
   "outputs": [],
   "source": [
    "y_pos = [0,1,2]\n",
    "counts = [positive_counts,neutral_counts,negative_counts]"
   ]
  },
  {
   "cell_type": "code",
   "execution_count": 33,
   "metadata": {},
   "outputs": [
    {
     "data": {
      "image/png": "[encoded data removed]",
      "text/plain": [
       "<Figure size 720x360 with 1 Axes>"
      ]
     },
     "metadata": {
      "needs_background": "light"
     },
     "output_type": "display_data"
    }
   ],
   "source": [
    "plt.figure(figsize=(10,5))\n",
    "plt.bar(y_pos, counts, align='center', alpha=0.5)\n",
    "plt.xticks(y_pos,['Positive','Neutral','Negative'])\n",
    "plt.ylabel('Sentiment')\n",
    "plt.title('Demo')\n",
    "plt.show()"
   ]
  },
  {
   "cell_type": "code",
   "execution_count": 34,
   "metadata": {},
   "outputs": [],
   "source": [
    "vectorizer = TfidfVectorizer(ngram_range=(2,2),\n",
    "                             max_features=100,\n",
    "                             min_df=0.01,\n",
    "                             max_df=0.80)\n",
    "\n",
    "vectorizer.fit_transform(tweets_df['clean_tweets'])\n",
    "\n",
    "#top 20 words in TF-IDF (word, TF-IDF value, index)\n",
    "top_n= 20\n",
    "indices = vectorizer.idf_.argsort()[::-1] # sort by TF-IDF\n",
    "features = vectorizer.get_feature_names() # word list\n",
    "top_features = [(features[i], vectorizer.idf_[i],i)\n",
    "               for i in indices[:top_n]]\n",
    "\n",
    "d = {}\n",
    "for i in top_features:\n",
    "    d[i[0]] = i[1]\n",
    "    \n",
    "w = WordCloud(background_color='white',\n",
    "             max_words=200,\n",
    "             max_font_size=200,\n",
    "             height=2000,\n",
    "             width=2000,\n",
    "             colormap='rainbow').fit_words(d)"
   ]
  },
  {
   "cell_type": "code",
   "execution_count": 35,
   "metadata": {
    "collapsed": true
   },
   "outputs": [
    {
     "data": {
      "text/plain": [
       "<matplotlib.image.AxesImage at 0x24a69370248>"
      ]
     },
     "execution_count": 35,
     "metadata": {},
     "output_type": "execute_result"
    },
    {
     "data": {
      "image/png": "[encoded data removed]",
      "text/plain": [
       "<Figure size 432x288 with 1 Axes>"
      ]
     },
     "metadata": {
      "needs_background": "light"
     },
     "output_type": "display_data"
    }
   ],
   "source": [
    "w.to_file('tweepy_demo.png')\n",
    "plt.imshow(w, interpolation='bilinear')"
   ]
  },
  {
   "cell_type": "markdown",
   "metadata": {},
   "source": [
    "<img src='tweepy_demo.png'>"
   ]
  },
  {
   "cell_type": "code",
   "execution_count": null,
   "metadata": {},
   "outputs": [],
   "source": []
  }
 ],
 "metadata": {
  "kernelspec": {
   "display_name": "Python 3",
   "language": "python",
   "name": "python3"
  },
  "language_info": {
   "codemirror_mode": {
    "name": "ipython",
    "version": 3
   },
   "file_extension": ".py",
   "mimetype": "text/x-python",
   "name": "python",
   "nbconvert_exporter": "python",
   "pygments_lexer": "ipython3",
   "version": "3.7.4"
  }
 },
 "nbformat": 4,
 "nbformat_minor": 2
}
